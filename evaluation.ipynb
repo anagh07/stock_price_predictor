{
 "cells": [
  {
   "cell_type": "code",
   "execution_count": 65,
   "id": "ab225b83",
   "metadata": {},
   "outputs": [],
   "source": [
    "import numpy as np\n",
    "import os\n",
    "import math\n",
    "import statistics\n",
    "import json\n",
    "from sklearn.metrics import mean_squared_error"
   ]
  },
  {
   "cell_type": "code",
   "execution_count": 66,
   "id": "03fac625",
   "metadata": {},
   "outputs": [],
   "source": [
    "rmse_list = {}"
   ]
  },
  {
   "cell_type": "code",
   "execution_count": 67,
   "id": "cc5f4a7b",
   "metadata": {},
   "outputs": [],
   "source": [
    "directory = os.path.join(\".\", \"dump\")\n",
    "for root, dirs, files in os.walk(directory):\n",
    "    for file in files:\n",
    "        filename = os.path.join(directory, file)\n",
    "        company = file.split('-')[2]\n",
    "        date,actual,pred = np.loadtxt(filename, delimiter=',', skiprows=1, dtype=data_type, unpack=True)\n",
    "        avg_actual = statistics.mean(actual)\n",
    "        rmse = math.sqrt(mean_squared_error(actual, pred))\n",
    "        rmse_avg_actual_price = rmse / avg_actual\n",
    "        rmse_list[company] = {\n",
    "            'rmse': rmse,\n",
    "            'rmse_paa': rmse_avg_actual_price\n",
    "        }"
   ]
  },
  {
   "cell_type": "code",
   "execution_count": 68,
   "id": "f060e4ce",
   "metadata": {
    "collapsed": true
   },
   "outputs": [
    {
     "data": {
      "text/plain": [
       "{'AAPL': {'rmse': 28.213137323752257, 'rmse_paa': 0.1354447295864076},\n",
       " 'ADBE': {'rmse': 21.091620732278482, 'rmse_paa': 0.08180190263460808},\n",
       " 'ADSK': {'rmse': 15.63096712449873, 'rmse_paa': 0.11069131830986692},\n",
       " 'AMD': {'rmse': 11.690818665525388, 'rmse_paa': 0.5180569575303992},\n",
       " 'AMZN': {'rmse': 199.47422544948802, 'rmse_paa': 0.10606418652715116},\n",
       " 'AVGO': {'rmse': 28.42114966568135, 'rmse_paa': 0.1267481935470093},\n",
       " 'BKNG': {'rmse': 99.87828404722842, 'rmse_paa': 0.05074085562410786},\n",
       " 'CRM': {'rmse': 18.844226459289494, 'rmse_paa': 0.12699012922569095},\n",
       " 'CSCO': {'rmse': 2.9357843506138606, 'rmse_paa': 0.06527073350240079},\n",
       " 'EA': {'rmse': 12.803150589136514, 'rmse_paa': 0.09931962195059145},\n",
       " 'EBAY': {'rmse': 3.151581998865209, 'rmse_paa': 0.09094433163170935},\n",
       " 'EXPE': {'rmse': 3.3889951371935707, 'rmse_paa': 0.02610230732584475},\n",
       " 'FB': {'rmse': 17.015006979556272, 'rmse_paa': 0.09399072728992457},\n",
       " 'FTNT': {'rmse': 24.04035819397792, 'rmse_paa': 0.3144677166714317},\n",
       " 'GOOG': {'rmse': 118.3036917738654, 'rmse_paa': 0.0987559415206082},\n",
       " 'HP': {'rmse': 3.3392456975245066, 'rmse_paa': 0.05230596007704275},\n",
       " 'IBM': {'rmse': 3.484268034102935, 'rmse_paa': 0.023838051835160568},\n",
       " 'INTC': {'rmse': 5.105093743754934, 'rmse_paa': 0.1049094518631689},\n",
       " 'INTU': {'rmse': 11.381991743515242, 'rmse_paa': 0.052979353355355994},\n",
       " 'MSFT': {'rmse': 10.594058721528567, 'rmse_paa': 0.09772444311343059},\n",
       " 'NFLX': {'rmse': 30.21790459066638, 'rmse_paa': 0.08325605667779412},\n",
       " 'NVDA': {'rmse': 18.891095587687744, 'rmse_paa': 0.0726252056090739},\n",
       " 'ORCL': {'rmse': 9.402591016366484, 'rmse_paa': 0.19357073720812024},\n",
       " 'QCOM': {'rmse': 11.497825211004159, 'rmse_paa': 0.174708640965349},\n",
       " 'TXN': {'rmse': 3.565940181686846, 'rmse_paa': 0.03206149166251701}}"
      ]
     },
     "execution_count": 68,
     "metadata": {},
     "output_type": "execute_result"
    }
   ],
   "source": [
    "rmse_list"
   ]
  },
  {
   "cell_type": "code",
   "execution_count": 70,
   "id": "0f7e880f",
   "metadata": {
    "scrolled": false
   },
   "outputs": [],
   "source": [
    "rmse_only = [x['rmse'] for x in rmse_list.values()]\n",
    "overall = statistics.mean(rmse_only)\n",
    "rmse_list['overall'] = overall"
   ]
  },
  {
   "cell_type": "code",
   "execution_count": null,
   "id": "178c034f",
   "metadata": {},
   "outputs": [],
   "source": [
    "rmse_ls"
   ]
  },
  {
   "cell_type": "code",
   "execution_count": 71,
   "id": "ab33f05c",
   "metadata": {},
   "outputs": [],
   "source": [
    "# Serializing json \n",
    "json_object = json.dumps(rmse_list, indent = 4)\n",
    "  \n",
    "# Writing to sample.json\n",
    "with open(os.path.join('.', 'eval', 'rmse_list.json'), \"w\") as outfile:\n",
    "    outfile.write(json_object)"
   ]
  },
  {
   "cell_type": "code",
   "execution_count": null,
   "id": "f9845c79",
   "metadata": {},
   "outputs": [],
   "source": []
  }
 ],
 "metadata": {
  "kernelspec": {
   "display_name": "bd-lab-kernel",
   "language": "python",
   "name": "bd-lab-kernel"
  },
  "language_info": {
   "codemirror_mode": {
    "name": "ipython",
    "version": 3
   },
   "file_extension": ".py",
   "mimetype": "text/x-python",
   "name": "python",
   "nbconvert_exporter": "python",
   "pygments_lexer": "ipython3",
   "version": "3.8.12"
  }
 },
 "nbformat": 4,
 "nbformat_minor": 5
}
