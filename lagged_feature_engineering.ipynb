{
 "cells": [
  {
   "cell_type": "code",
   "execution_count": 125,
   "id": "07174049",
   "metadata": {},
   "outputs": [],
   "source": [
    "from pyspark.sql import DataFrame\n",
    "from pyspark.sql import SparkSession\n",
    "from pyspark.sql.functions import *\n",
    "from pyspark.sql.types import *\n",
    "from pyspark.sql import Window\n",
    "\n",
    "import sklearn.metrics as metrics\n",
    "from sklearn.ensemble import RandomForestRegressor\n",
    "from sklearn.model_selection import train_test_split\n",
    "from sklearn.metrics import mean_squared_error\n",
    "from sklearn.preprocessing import StandardScaler\n",
    "from sklearn.model_selection import RandomizedSearchCV\n",
    "\n",
    "def init_spark():\n",
    "    spark = SparkSession \\\n",
    "        .builder \\\n",
    "        .config(\"spark.some.config.option\", \"some-value\") \\\n",
    "        .getOrCreate()\n",
    "    return spark\n",
    "\n",
    "# read and clean the csv\n",
    "spark = init_spark()\n",
    "filename = 'data/stock_histories.csv/part-00000-d2cb8732-8515-48d6-bda6-4f0b77fe86bb-c000.csv'\n",
    "df = spark.read.csv(filename, header=True, mode=\"DROPMALFORMED\")"
   ]
  },
  {
   "cell_type": "code",
   "execution_count": 126,
   "id": "3fd8884b",
   "metadata": {},
   "outputs": [],
   "source": [
    "df = df.withColumn(\"volume\",df.volume.cast(IntegerType()))\n",
    "df = df.withColumn(\"open\",df.open.cast(FloatType()))\n",
    "df = df.withColumn(\"close\",df.close.cast(FloatType()))\n",
    "df = df.withColumn(\"adjusted_close\",df.close.cast(FloatType()))\n",
    "df = df.withColumn(\"high\",df.high.cast(FloatType()))\n",
    "df = df.withColumn(\"low\",df.low.cast(FloatType()))"
   ]
  },
  {
   "cell_type": "code",
   "execution_count": 127,
   "id": "47f879a9",
   "metadata": {},
   "outputs": [],
   "source": [
    "nvda = df.where(df.stock == \"IBM\")"
   ]
  },
  {
   "cell_type": "code",
   "execution_count": 128,
   "id": "ec25c8be",
   "metadata": {},
   "outputs": [
    {
     "name": "stdout",
     "output_type": "stream",
     "text": [
      "+-----+----------+--------+------+------+------+------+--------------+\n",
      "|stock|      date|  volume|  open| close|  high|   low|adjusted_close|\n",
      "+-----+----------+--------+------+------+------+------+--------------+\n",
      "|  IBM|2018-11-02|10587400|117.51|115.67|117.75|114.54|        115.67|\n",
      "|  IBM|2018-11-01|13626700| 115.5|116.83| 117.0|115.11|        116.83|\n",
      "|  IBM|2018-10-31|21645000|116.49|115.43| 116.5|114.09|        115.43|\n",
      "|  IBM|2018-10-30|21458600|120.48| 115.4| 121.5|115.15|         115.4|\n",
      "|  IBM|2018-10-29|20450400|119.34|119.64|123.95| 118.3|        119.64|\n",
      "|  IBM|2018-10-26| 8767000|125.21|124.79|125.78|123.71|        124.79|\n",
      "|  IBM|2018-10-25|10304300|127.25|126.45|127.79|125.14|        126.45|\n",
      "|  IBM|2018-10-24| 5710300|131.17|127.21|131.69| 127.0|        127.21|\n",
      "|  IBM|2018-10-23| 6463600|129.02|131.21| 131.9|128.41|        131.21|\n",
      "|  IBM|2018-10-22| 5719500|129.58|130.02|130.44| 128.4|        130.02|\n",
      "|  IBM|2018-10-19| 7791600|130.65| 129.1|131.89|127.96|         129.1|\n",
      "|  IBM|2018-10-18|10011700|132.73|130.55| 133.4|130.04|        130.55|\n",
      "|  IBM|2018-10-17|19464000|135.89|134.05|137.15|133.42|        134.05|\n",
      "|  IBM|2018-10-16| 8695500|142.93|145.12|145.45|141.58|        145.12|\n",
      "|  IBM|2018-10-15| 4965500|140.38|141.13|142.26|140.14|        141.13|\n",
      "|  IBM|2018-10-12| 6563400|141.12|140.85|141.54|139.08|        140.85|\n",
      "|  IBM|2018-10-11| 8710500|142.62|139.02|144.19|138.78|        139.02|\n",
      "|  IBM|2018-10-10| 5547700| 147.5|142.69|147.69| 142.5|        142.69|\n",
      "|  IBM|2018-10-09| 3642400|148.08|147.24|148.36|146.93|        147.24|\n",
      "|  IBM|2018-10-08| 3239300| 148.5|148.39|149.07|147.18|        148.39|\n",
      "+-----+----------+--------+------+------+------+------+--------------+\n",
      "only showing top 20 rows\n",
      "\n"
     ]
    }
   ],
   "source": [
    "nvda.show()"
   ]
  },
  {
   "cell_type": "code",
   "execution_count": 129,
   "id": "4dfde030",
   "metadata": {},
   "outputs": [
    {
     "data": {
      "text/plain": [
       "Row(date='1970-01-02')"
      ]
     },
     "execution_count": 129,
     "metadata": {},
     "output_type": "execute_result"
    }
   ],
   "source": [
    "nvda.orderBy([\"date\"]).select(\"date\").first()"
   ]
  },
  {
   "cell_type": "code",
   "execution_count": 130,
   "id": "e0bcaaef",
   "metadata": {},
   "outputs": [
    {
     "data": {
      "text/plain": [
       "Row(date='2018-11-02')"
      ]
     },
     "execution_count": 130,
     "metadata": {},
     "output_type": "execute_result"
    }
   ],
   "source": [
    "nvda.orderBy([\"date\"], ascending=False).select(\"date\").first()"
   ]
  },
  {
   "cell_type": "code",
   "execution_count": 131,
   "id": "861380d9",
   "metadata": {
    "scrolled": true
   },
   "outputs": [],
   "source": [
    "# feature engineering: Quarter, week of year, year, day of week\n",
    "nvda = nvda.withColumn(\"quarter\", quarter(col(\"date\")))\n",
    "nvda = nvda.withColumn(\"week_of_year\", weekofyear(col(\"date\")))\n",
    "nvda = nvda.withColumn(\"year\", year(col(\"date\")))\n",
    "nvda = nvda.withColumn(\"day_of_week\", dayofweek(col(\"date\")))\n",
    "nvda = nvda.withColumn(\"year_quarter\", concat(nvda.year, lit(\"-\"), nvda.quarter).alias(\"year_quarter\"))"
   ]
  },
  {
   "cell_type": "code",
   "execution_count": 132,
   "id": "f48ccf6b",
   "metadata": {},
   "outputs": [
    {
     "name": "stdout",
     "output_type": "stream",
     "text": [
      "+----------+-------+------------+----+-----------+------------+\n",
      "|      date|quarter|week_of_year|year|day_of_week|year_quarter|\n",
      "+----------+-------+------------+----+-----------+------------+\n",
      "|2018-11-02|      4|          44|2018|          6|      2018-4|\n",
      "|2018-11-01|      4|          44|2018|          5|      2018-4|\n",
      "|2018-10-31|      4|          44|2018|          4|      2018-4|\n",
      "|2018-10-30|      4|          44|2018|          3|      2018-4|\n",
      "|2018-10-29|      4|          44|2018|          2|      2018-4|\n",
      "|2018-10-26|      4|          43|2018|          6|      2018-4|\n",
      "|2018-10-25|      4|          43|2018|          5|      2018-4|\n",
      "|2018-10-24|      4|          43|2018|          4|      2018-4|\n",
      "|2018-10-23|      4|          43|2018|          3|      2018-4|\n",
      "|2018-10-22|      4|          43|2018|          2|      2018-4|\n",
      "|2018-10-19|      4|          42|2018|          6|      2018-4|\n",
      "|2018-10-18|      4|          42|2018|          5|      2018-4|\n",
      "|2018-10-17|      4|          42|2018|          4|      2018-4|\n",
      "|2018-10-16|      4|          42|2018|          3|      2018-4|\n",
      "|2018-10-15|      4|          42|2018|          2|      2018-4|\n",
      "|2018-10-12|      4|          41|2018|          6|      2018-4|\n",
      "|2018-10-11|      4|          41|2018|          5|      2018-4|\n",
      "|2018-10-10|      4|          41|2018|          4|      2018-4|\n",
      "|2018-10-09|      4|          41|2018|          3|      2018-4|\n",
      "|2018-10-08|      4|          41|2018|          2|      2018-4|\n",
      "+----------+-------+------------+----+-----------+------------+\n",
      "only showing top 20 rows\n",
      "\n"
     ]
    }
   ],
   "source": [
    "nvda.select(\"date\", \"quarter\", \"week_of_year\", \"year\", \"day_of_week\", \"year_quarter\").show()"
   ]
  },
  {
   "cell_type": "code",
   "execution_count": 133,
   "id": "55f0a7bc",
   "metadata": {},
   "outputs": [],
   "source": [
    "# get last full quarter\n",
    "# step 1: calculate days in each quarters - a full quarter has at least 60 days \n",
    "quarter_day_count = nvda.groupby(\"year_quarter\").count()\\\n",
    "                                                .filter(\"count >= 60\")\n",
    "last_quarter = quarter_day_count.orderBy([\"year_quarter\"], ascending=False).select(\"year_quarter\").first()"
   ]
  },
  {
   "cell_type": "code",
   "execution_count": 134,
   "id": "fa0fd5dc",
   "metadata": {},
   "outputs": [
    {
     "data": {
      "text/plain": [
       "'2018-3'"
      ]
     },
     "execution_count": 134,
     "metadata": {},
     "output_type": "execute_result"
    }
   ],
   "source": [
    "last_quarter[0]"
   ]
  },
  {
   "cell_type": "code",
   "execution_count": 135,
   "id": "95eca1a6",
   "metadata": {},
   "outputs": [],
   "source": [
    "quarter_day_count = quarter_day_count.withColumn(\"is_test\", when(col(\"year_quarter\") == last_quarter[0], 1).otherwise(0))"
   ]
  },
  {
   "cell_type": "code",
   "execution_count": 136,
   "id": "41994e5b",
   "metadata": {},
   "outputs": [
    {
     "name": "stdout",
     "output_type": "stream",
     "text": [
      "+------------+-----+-------+\n",
      "|year_quarter|count|is_test|\n",
      "+------------+-----+-------+\n",
      "|      1973-1|   62|      0|\n",
      "|      1984-3|   63|      0|\n",
      "|      1987-2|   63|      0|\n",
      "|      1998-1|   61|      0|\n",
      "|      1995-3|   63|      0|\n",
      "|      2003-4|   64|      0|\n",
      "|      2006-2|   63|      0|\n",
      "|      2014-1|   61|      0|\n",
      "|      2013-4|   64|      0|\n",
      "|      1993-3|   64|      0|\n",
      "|      1970-4|   64|      0|\n",
      "|      1991-2|   64|      0|\n",
      "|      1975-2|   64|      0|\n",
      "|      1991-4|   64|      0|\n",
      "|      1980-1|   63|      0|\n",
      "|      1974-2|   63|      0|\n",
      "|      1985-2|   63|      0|\n",
      "|      2000-1|   63|      0|\n",
      "|      1995-1|   63|      0|\n",
      "|      1976-3|   64|      0|\n",
      "+------------+-----+-------+\n",
      "only showing top 20 rows\n",
      "\n"
     ]
    }
   ],
   "source": [
    "quarter_day_count.show()"
   ]
  },
  {
   "cell_type": "code",
   "execution_count": 137,
   "id": "750babc5",
   "metadata": {},
   "outputs": [],
   "source": [
    "nvda = nvda.join(quarter_day_count, \"year_quarter\")"
   ]
  },
  {
   "cell_type": "code",
   "execution_count": 138,
   "id": "65e5c873",
   "metadata": {},
   "outputs": [
    {
     "data": {
      "text/plain": [
       "12239"
      ]
     },
     "execution_count": 138,
     "metadata": {},
     "output_type": "execute_result"
    }
   ],
   "source": [
    "nvda.count()"
   ]
  },
  {
   "cell_type": "code",
   "execution_count": 139,
   "id": "2c172ca2",
   "metadata": {},
   "outputs": [],
   "source": [
    "open_average = nvda.groupby(\"year_quarter\")\\\n",
    "                   .agg(avg(\"open\").alias(\"open_avg\"))\n",
    "windowSpec = Window.orderBy(\"year_quarter\")\n",
    "open_average = open_average.withColumn(\"open_avg_l1\", lag(\"open_avg\", 1).over(windowSpec))\n",
    "open_average = open_average.withColumn(\"open_avg_l2\", lag(\"open_avg\", 2).over(windowSpec))\n",
    "open_average = open_average.withColumn(\"open_avg_l3\", lag(\"open_avg\", 3).over(windowSpec))\n",
    "open_average = open_average.withColumn(\"open_avg_l4\", lag(\"open_avg\", 4).over(windowSpec))\n",
    "open_average = open_average.drop(\"open_avg\") # drop unused col"
   ]
  },
  {
   "cell_type": "code",
   "execution_count": 140,
   "id": "aea9e9f0",
   "metadata": {},
   "outputs": [],
   "source": [
    "volume_average = nvda.groupby(\"year_quarter\")\\\n",
    "                     .agg(avg(\"volume\").alias(\"volume_avg\"))\n",
    "volume_average = volume_average.withColumn(\"volume_avg_l1\", lag(\"volume_avg\", 1).over(windowSpec))\n",
    "volume_average = volume_average.withColumn(\"volume_avg_l2\", lag(\"volume_avg\", 2).over(windowSpec))\n",
    "volume_average = volume_average.withColumn(\"volume_avg_l3\", lag(\"volume_avg\", 3).over(windowSpec))\n",
    "volume_average = volume_average.withColumn(\"volume_avg_l4\", lag(\"volume_avg\", 4).over(windowSpec))\n",
    "volume_average = volume_average.drop(\"volume_avg\") # drop unused col"
   ]
  },
  {
   "cell_type": "code",
   "execution_count": 141,
   "id": "bfce36b3",
   "metadata": {},
   "outputs": [],
   "source": [
    "high_average = nvda.groupby(\"year_quarter\")\\\n",
    "                   .agg(avg(\"high\").alias(\"high_avg\"))\n",
    "high_average = high_average.withColumn(\"high_avg_l1\", lag(\"high_avg\", 1).over(windowSpec))\n",
    "high_average = high_average.withColumn(\"high_avg_l2\", lag(\"high_avg\", 2).over(windowSpec))\n",
    "high_average = high_average.withColumn(\"high_avg_l3\", lag(\"high_avg\", 3).over(windowSpec))\n",
    "high_average = high_average.withColumn(\"high_avg_l4\", lag(\"high_avg\", 4).over(windowSpec))\n",
    "high_average = high_average.drop(\"high_avg\") # drop unused col"
   ]
  },
  {
   "cell_type": "code",
   "execution_count": 142,
   "id": "24c966c1",
   "metadata": {},
   "outputs": [],
   "source": [
    "low_average = nvda.groupby(\"year_quarter\")\\\n",
    "                   .agg(avg(\"low\").alias(\"low_avg\"))\n",
    "low_average = low_average.withColumn(\"low_avg_l1\", lag(\"low_avg\", 1).over(windowSpec))\n",
    "low_average = low_average.withColumn(\"low_avg_l2\", lag(\"low_avg\", 2).over(windowSpec))\n",
    "low_average = low_average.withColumn(\"low_avg_l3\", lag(\"low_avg\", 3).over(windowSpec))\n",
    "low_average = low_average.withColumn(\"low_avg_l4\", lag(\"low_avg\", 4).over(windowSpec))\n",
    "low_average = low_average.drop(\"low_avg\") # drop unused col"
   ]
  },
  {
   "cell_type": "code",
   "execution_count": 143,
   "id": "0cb33cb9",
   "metadata": {},
   "outputs": [],
   "source": [
    "close_average = nvda.groupby(\"year_quarter\")\\\n",
    "                    .agg(avg(\"close\").alias(\"close_avg\"))\n",
    "close_average = close_average.withColumn(\"close_avg_l1\", lag(\"close_avg\", 1).over(windowSpec))\n",
    "close_average = close_average.withColumn(\"close_avg_l2\", lag(\"close_avg\", 2).over(windowSpec))\n",
    "close_average = close_average.withColumn(\"close_avg_l3\", lag(\"close_avg\", 3).over(windowSpec))\n",
    "close_average = close_average.withColumn(\"close_avg_l4\", lag(\"close_avg\", 4).over(windowSpec))\n",
    "close_average = close_average.drop(\"close_avg\") # drop unused col"
   ]
  },
  {
   "cell_type": "code",
   "execution_count": 144,
   "id": "f41e116b",
   "metadata": {},
   "outputs": [],
   "source": [
    "adj_close_average = nvda.groupby(\"year_quarter\")\\\n",
    "                        .agg(avg(\"adjusted_close\").alias(\"adj_close_avg\"))\n",
    "adj_close_average = adj_close_average.withColumn(\"adj_close_avg_l1\", lag(\"adj_close_avg\", 1).over(windowSpec))\n",
    "adj_close_average = adj_close_average.withColumn(\"adj_close_avg_l2\", lag(\"adj_close_avg\", 2).over(windowSpec))\n",
    "adj_close_average = adj_close_average.withColumn(\"adj_close_avg_l3\", lag(\"adj_close_avg\", 3).over(windowSpec))\n",
    "adj_close_average = adj_close_average.withColumn(\"adj_close_avg_l4\", lag(\"adj_close_avg\", 4).over(windowSpec))\n",
    "adj_close_average = adj_close_average.drop(\"adj_close_avg\") # drop unused col"
   ]
  },
  {
   "cell_type": "code",
   "execution_count": 145,
   "id": "032a763d",
   "metadata": {},
   "outputs": [],
   "source": [
    "nvda = nvda.join(open_average, \"year_quarter\")\\\n",
    "           .join(volume_average, \"year_quarter\")\\\n",
    "           .join(high_average, \"year_quarter\")\\\n",
    "           .join(low_average, \"year_quarter\")\\\n",
    "           .join(close_average, \"year_quarter\")\\\n",
    "           .join(adj_close_average, \"year_quarter\")"
   ]
  },
  {
   "cell_type": "code",
   "execution_count": 146,
   "id": "da3019e8",
   "metadata": {},
   "outputs": [
    {
     "name": "stdout",
     "output_type": "stream",
     "text": [
      "+------------+------------------+------------------+------------------+-----------------+\n",
      "|year_quarter|       open_avg_l1|       open_avg_l2|       open_avg_l3|      open_avg_l4|\n",
      "+------------+------------------+------------------+------------------+-----------------+\n",
      "|      1970-1|              null|              null|              null|             null|\n",
      "|      1970-2| 17.23662911086786|              null|              null|             null|\n",
      "|      1970-3|14.302403802138109| 17.23662911086786|              null|             null|\n",
      "|      1970-4|12.909082069993019|14.302403802138109| 17.23662911086786|             null|\n",
      "|      1971-1|15.098828166723251|12.909082069993019|14.302403802138109|17.23662911086786|\n",
      "+------------+------------------+------------------+------------------+-----------------+\n",
      "only showing top 5 rows\n",
      "\n"
     ]
    }
   ],
   "source": [
    "open_average.show(5)"
   ]
  },
  {
   "cell_type": "code",
   "execution_count": 147,
   "id": "8cdfb7bf",
   "metadata": {},
   "outputs": [],
   "source": [
    "sc = spark.sparkContext\n",
    "sc.setLogLevel(\"ERROR\")"
   ]
  },
  {
   "cell_type": "code",
   "execution_count": 148,
   "id": "8f9d4570",
   "metadata": {},
   "outputs": [],
   "source": [
    "# drop rows with nulls (i.e. first four quarters)\n",
    "nvda = nvda.na.drop()"
   ]
  },
  {
   "cell_type": "code",
   "execution_count": 149,
   "id": "8bba3e20",
   "metadata": {},
   "outputs": [
    {
     "name": "stderr",
     "output_type": "stream",
     "text": [
      "                                                                                \r"
     ]
    },
    {
     "data": {
      "text/plain": [
       "Index(['year_quarter', 'stock', 'date', 'volume', 'open', 'close', 'high',\n",
       "       'low', 'adjusted_close', 'quarter', 'week_of_year', 'year',\n",
       "       'day_of_week', 'count', 'is_test', 'open_avg_l1', 'open_avg_l2',\n",
       "       'open_avg_l3', 'open_avg_l4', 'volume_avg_l1', 'volume_avg_l2',\n",
       "       'volume_avg_l3', 'volume_avg_l4', 'high_avg_l1', 'high_avg_l2',\n",
       "       'high_avg_l3', 'high_avg_l4', 'low_avg_l1', 'low_avg_l2', 'low_avg_l3',\n",
       "       'low_avg_l4', 'close_avg_l1', 'close_avg_l2', 'close_avg_l3',\n",
       "       'close_avg_l4', 'adj_close_avg_l1', 'adj_close_avg_l2',\n",
       "       'adj_close_avg_l3', 'adj_close_avg_l4'],\n",
       "      dtype='object')"
      ]
     },
     "execution_count": 149,
     "metadata": {},
     "output_type": "execute_result"
    }
   ],
   "source": [
    "nvda = nvda.toPandas()\n",
    "nvda.columns"
   ]
  },
  {
   "cell_type": "code",
   "execution_count": 150,
   "id": "d3401d38",
   "metadata": {},
   "outputs": [],
   "source": [
    "predictor_features = ['quarter', 'week_of_year', 'year', 'day_of_week', 'open_avg_l1', 'open_avg_l2',\n",
    "                      'open_avg_l3', 'open_avg_l4', 'volume_avg_l1', 'volume_avg_l2', 'volume_avg_l3', \n",
    "                      'volume_avg_l4', 'high_avg_l1', 'high_avg_l2', 'high_avg_l3', 'high_avg_l4', \n",
    "                      'low_avg_l1', 'low_avg_l2', 'low_avg_l3', 'low_avg_l4', 'close_avg_l1', 'close_avg_l2', \n",
    "                      'close_avg_l3', 'close_avg_l4', 'adj_close_avg_l1', 'adj_close_avg_l2', 'adj_close_avg_l3', \n",
    "                      'adj_close_avg_l4']"
   ]
  },
  {
   "cell_type": "code",
   "execution_count": 151,
   "id": "2d2ef551",
   "metadata": {},
   "outputs": [],
   "source": [
    "x_train, x_test = nvda[nvda.is_test == 0][predictor_features], nvda[nvda.is_test == 1][predictor_features]"
   ]
  },
  {
   "cell_type": "code",
   "execution_count": 152,
   "id": "c5a66a73",
   "metadata": {},
   "outputs": [],
   "source": [
    "y_train, y_test = nvda[nvda.is_test == 0]['adjusted_close'], nvda[nvda.is_test == 1]['adjusted_close']"
   ]
  },
  {
   "cell_type": "code",
   "execution_count": null,
   "id": "a40bf715",
   "metadata": {},
   "outputs": [
    {
     "name": "stdout",
     "output_type": "stream",
     "text": [
      "Fitting 3 folds for each of 200 candidates, totalling 600 fits\n"
     ]
    }
   ],
   "source": [
    "# hypertuning steps\n",
    "import numpy as np\n",
    "import random\n",
    "\n",
    "model = RandomForestRegressor()  # blank/boilerplate model\n",
    "\n",
    "grid_rf = {\n",
    "    \"n_estimators\": [20, 50, 100, 500, 1000],\n",
    "    \"max_depth\": np.arange(1, 15, 1),\n",
    "    \"min_samples_split\": [2, 10, 9],\n",
    "    \"min_samples_leaf\": np.arange(1, 15, 2, dtype=int),\n",
    "    \"bootstrap\": [True, False],\n",
    "    \"random_state\": [1, 2, 30, 42, random.randint(0, (2**32 - 1))],\n",
    "}\n",
    "\n",
    "rscv = RandomizedSearchCV(\n",
    "    estimator=model, param_distributions=grid_rf, cv=3, n_jobs=-1, verbose=2, n_iter=200\n",
    ")\n",
    "rscv_fit = rscv.fit(x_train, y_train)\n",
    "best_parameters = rscv_fit.best_params_\n",
    "print(best_parameters)"
   ]
  },
  {
   "cell_type": "code",
   "execution_count": null,
   "id": "5e316de1",
   "metadata": {},
   "outputs": [],
   "source": [
    "model = RandomForestRegressor(\n",
    "    random_state=best_parameters[\"random_state\"],\n",
    "    n_estimators=best_parameters[\"n_estimators\"],\n",
    "    min_samples_split=best_parameters[\"min_samples_split\"],\n",
    "    min_samples_leaf=best_parameters[\"min_samples_leaf\"],\n",
    "    max_depth=best_parameters[\"max_depth\"],\n",
    "    bootstrap=best_parameters[\"bootstrap\"],\n",
    ")\n",
    "\n",
    "model.fit(x_train, y_train)\n",
    "\n",
    "predict = model.predict(x_test)"
   ]
  },
  {
   "cell_type": "code",
   "execution_count": null,
   "id": "750781ba",
   "metadata": {},
   "outputs": [],
   "source": [
    "print(metrics.mean_absolute_error(y_test, predict))\n",
    "print(metrics.mean_squared_error(y_test, predict))\n",
    "print(np.sqrt(metrics.mean_squared_error(y_test, predict)))\n",
    "# print(metrics.r2_scorex(y_test, predict))"
   ]
  },
  {
   "cell_type": "code",
   "execution_count": null,
   "id": "ed737db0",
   "metadata": {},
   "outputs": [],
   "source": [
    "[(y_test.tolist()[i], predict[i]) for i in range(len(y_test))]"
   ]
  },
  {
   "cell_type": "code",
   "execution_count": null,
   "id": "eddd7760",
   "metadata": {},
   "outputs": [],
   "source": [
    "nvda.head(10)"
   ]
  },
  {
   "cell_type": "code",
   "execution_count": null,
   "id": "05edc1e2",
   "metadata": {},
   "outputs": [],
   "source": [
    "# look at feature importance after all the features are engineered"
   ]
  },
  {
   "cell_type": "code",
   "execution_count": null,
   "id": "fb014173",
   "metadata": {},
   "outputs": [],
   "source": [
    "# last 7 days, last 14 days, last 28 days, last 54 days, last 72 days.. \n",
    "# 2014-03-31 - (21-28), (14-28), ...\n",
    "# 2014-03-30 - (20-27), (13-27),\n",
    "# 2014-03-29 - \n",
    "# 2014-03-28 - \n",
    "# 2014-03-27 - \n",
    "# 2014-03-26\n",
    "# 2014-03-25\n",
    "# 2014-03-24\n",
    "# 2014-03-23\n",
    "# 2014-03-22\n",
    "# 2014-03-21\n",
    "# .....\n",
    "# 2014-03-01 - ()\n",
    "\n",
    "# ----\n",
    "\n",
    "# 2014-02-28\n",
    "# ...\n",
    "# 2014-01-01"
   ]
  },
  {
   "cell_type": "code",
   "execution_count": null,
   "id": "e5800603",
   "metadata": {},
   "outputs": [],
   "source": []
  }
 ],
 "metadata": {
  "kernelspec": {
   "display_name": "Python 3 (ipykernel)",
   "language": "python",
   "name": "python3"
  },
  "language_info": {
   "codemirror_mode": {
    "name": "ipython",
    "version": 3
   },
   "file_extension": ".py",
   "mimetype": "text/x-python",
   "name": "python",
   "nbconvert_exporter": "python",
   "pygments_lexer": "ipython3",
   "version": "3.8.13"
  }
 },
 "nbformat": 4,
 "nbformat_minor": 5
}
