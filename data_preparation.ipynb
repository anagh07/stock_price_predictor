{
 "cells": [
  {
   "cell_type": "code",
   "execution_count": 1,
   "id": "e9aff13d",
   "metadata": {},
   "outputs": [],
   "source": [
    "from pyspark.sql import DataFrame\n",
    "from pyspark.sql import SparkSession\n",
    "from pyspark.sql.functions import lit\n",
    "from pyspark.sql.types import *\n",
    "import requests"
   ]
  },
  {
   "cell_type": "code",
   "execution_count": 2,
   "id": "56de01e1",
   "metadata": {},
   "outputs": [],
   "source": [
    "def init_spark():\n",
    "    spark = SparkSession \\\n",
    "        .builder \\\n",
    "        .config(\"spark.some.config.option\", \"some-value\") \\\n",
    "        .getOrCreate()\n",
    "    return spark"
   ]
  },
  {
   "cell_type": "markdown",
   "id": "908a0f5c",
   "metadata": {},
   "source": [
    "# Data Preparation"
   ]
  },
  {
   "cell_type": "markdown",
   "id": "516de8c2",
   "metadata": {},
   "source": [
    "### Dataset 1: NASDAQ & NYSE Stocks Histories"
   ]
  },
  {
   "cell_type": "code",
   "execution_count": 3,
   "id": "41b8044f",
   "metadata": {},
   "outputs": [
    {
     "name": "stderr",
     "output_type": "stream",
     "text": [
      "22/03/31 22:48:54 WARN NativeCodeLoader: Unable to load native-hadoop library for your platform... using builtin-java classes where applicable\n",
      "Using Spark's default log4j profile: org/apache/spark/log4j-defaults.properties\n",
      "Setting default log level to \"WARN\".\n",
      "To adjust logging level use sc.setLogLevel(newLevel). For SparkR, use setLogLevel(newLevel).\n"
     ]
    }
   ],
   "source": [
    "spark = init_spark()"
   ]
  },
  {
   "cell_type": "code",
   "execution_count": 7,
   "id": "7890d06f",
   "metadata": {},
   "outputs": [],
   "source": [
    "companies = ['NVDA', 'GOOG', 'AAPL', 'AMZN', 'FB', 'MSFT', 'TXN',\n",
    "             'AVGO', 'CSCO', 'ADBE', 'ORCL', 'CRM', 'QCOM', 'NFLX', \n",
    "             'BKNG', 'EXPE', 'INTC', 'INTU', 'FTNT', 'IBM', 'EBAY', \n",
    "             'HP', 'ADSK', 'EA', 'AMD']"
   ]
  },
  {
   "cell_type": "code",
   "execution_count": 8,
   "id": "8aab55f6",
   "metadata": {},
   "outputs": [],
   "source": [
    "schema = StructType([StructField('stock', StringType(), True),\n",
    "                     StructField('date', DateType(), True),\n",
    "                     StructField('volume', FloatType(), True),\n",
    "                     StructField('open', FloatType(), True),\n",
    "                     StructField('close', FloatType(), True),\n",
    "                     StructField('high', FloatType(), True),\n",
    "                     StructField('low', FloatType(), True),\n",
    "                     StructField('adjclose', FloatType(), True)])"
   ]
  },
  {
   "cell_type": "code",
   "execution_count": 9,
   "id": "14a702cb",
   "metadata": {},
   "outputs": [],
   "source": [
    "stock_histories = spark.createDataFrame([], schema)\n",
    "for company in companies: \n",
    "    df = spark.read.csv(f'data/raw/nasdaq-and-nyse-stocks-histories/full_history/{company}.csv', header=True)\n",
    "    df = df.withColumn(\"stock\", lit(company))\n",
    "    stock_histories = stock_histories.unionByName(df)"
   ]
  },
  {
   "cell_type": "code",
   "execution_count": 10,
   "id": "b383de81",
   "metadata": {},
   "outputs": [
    {
     "name": "stderr",
     "output_type": "stream",
     "text": [
      "                                                                                \r"
     ]
    },
    {
     "data": {
      "text/plain": [
       "164765"
      ]
     },
     "execution_count": 10,
     "metadata": {},
     "output_type": "execute_result"
    }
   ],
   "source": [
    "stock_histories.count()"
   ]
  },
  {
   "cell_type": "code",
   "execution_count": 11,
   "id": "e18bc76f",
   "metadata": {},
   "outputs": [
    {
     "name": "stdout",
     "output_type": "stream",
     "text": [
      "+-----+-----+\n",
      "|stock|count|\n",
      "+-----+-----+\n",
      "|   EA| 7340|\n",
      "| AAPL| 9556|\n",
      "| CSCO| 7236|\n",
      "| QCOM| 6775|\n",
      "| EXPE| 3347|\n",
      "| INTC| 9745|\n",
      "|   HP| 9597|\n",
      "| INTU| 6461|\n",
      "| GOOG| 3579|\n",
      "|   FB| 1627|\n",
      "| NFLX| 4143|\n",
      "|  IBM|12323|\n",
      "| ADSK| 8408|\n",
      "|  TXN|11711|\n",
      "| AVGO| 2329|\n",
      "| EBAY| 5062|\n",
      "|  AMD| 9745|\n",
      "| ORCL| 8232|\n",
      "| AMZN| 5405|\n",
      "| MSFT| 8231|\n",
      "|  CRM| 3619|\n",
      "| ADBE| 8125|\n",
      "| BKNG| 4933|\n",
      "| FTNT| 2256|\n",
      "| NVDA| 4980|\n",
      "+-----+-----+\n",
      "\n"
     ]
    }
   ],
   "source": [
    "stock_histories.groupby(\"stock\").count().show(25)"
   ]
  },
  {
   "cell_type": "code",
   "execution_count": 12,
   "id": "3e0b6ca6",
   "metadata": {},
   "outputs": [
    {
     "name": "stdout",
     "output_type": "stream",
     "text": [
      "+-----+----------+--------+------------------+------------------+------------------+------------------+\n",
      "|stock|      date|  volume|              open|             close|              high|               low|\n",
      "+-----+----------+--------+------------------+------------------+------------------+------------------+\n",
      "| NVDA|2018-11-02|11320900|217.72999572753906| 214.9199981689453|             222.0| 210.2100067138672|\n",
      "| NVDA|2018-11-01|14163200| 212.3000030517578|218.11000061035156|218.49000549316406|207.19000244140625|\n",
      "| NVDA|2018-10-31|18644300|209.64999389648438| 210.8300018310547|212.58999633789062|204.00999450683594|\n",
      "| NVDA|2018-10-30|20179800| 186.5500030517578|             203.0|203.39999389648438| 185.6199951171875|\n",
      "| NVDA|2018-10-29|18950400|203.99000549316406| 185.6199951171875| 204.1300048828125|176.00999450683594|\n",
      "| NVDA|2018-10-26|16619600|198.30999755859375| 198.2899932861328|204.83999633789062| 193.1199951171875|\n",
      "| NVDA|2018-10-25|23793000|195.47000122070312|207.83999633789062|            209.75|193.67999267578125|\n",
      "| NVDA|2018-10-24|22107200|219.50999450683594|199.41000366210938|221.38999938964844|198.85000610351562|\n",
      "| NVDA|2018-10-23|15660900|220.42999267578125|221.05999755859375|224.19000244140625| 216.7100067138672|\n",
      "| NVDA|2018-10-22| 9221100|231.27999877929688|231.22000122070312|235.32000732421875|227.07000732421875|\n",
      "+-----+----------+--------+------------------+------------------+------------------+------------------+\n",
      "only showing top 10 rows\n",
      "\n"
     ]
    }
   ],
   "source": [
    "stock_histories = stock_histories.drop(\"adjclose\")\n",
    "stock_histories.show(10)"
   ]
  },
  {
   "cell_type": "code",
   "execution_count": 13,
   "id": "862f8e91",
   "metadata": {},
   "outputs": [],
   "source": [
    "stock_histories = stock_histories.filter(stock_histories.date > \"2010-01-01\")"
   ]
  },
  {
   "cell_type": "code",
   "execution_count": 14,
   "id": "396bdb80",
   "metadata": {},
   "outputs": [
    {
     "data": {
      "text/plain": [
       "55051"
      ]
     },
     "execution_count": 14,
     "metadata": {},
     "output_type": "execute_result"
    }
   ],
   "source": [
    "stock_histories.count()"
   ]
  },
  {
   "cell_type": "code",
   "execution_count": 15,
   "id": "7d72fcb3",
   "metadata": {},
   "outputs": [
    {
     "name": "stdout",
     "output_type": "stream",
     "text": [
      "+-----+-----+\n",
      "|stock|count|\n",
      "+-----+-----+\n",
      "|   EA| 2226|\n",
      "| AAPL| 2226|\n",
      "| CSCO| 2226|\n",
      "| QCOM| 2226|\n",
      "| EXPE| 2226|\n",
      "| INTC| 2226|\n",
      "|   HP| 2226|\n",
      "| INTU| 2226|\n",
      "| GOOG| 2226|\n",
      "|   FB| 1627|\n",
      "| NFLX| 2226|\n",
      "|  IBM| 2226|\n",
      "| ADSK| 2226|\n",
      "|  TXN| 2226|\n",
      "| AVGO| 2226|\n",
      "| EBAY| 2226|\n",
      "|  AMD| 2226|\n",
      "| ORCL| 2226|\n",
      "| AMZN| 2226|\n",
      "| MSFT| 2226|\n",
      "|  CRM| 2226|\n",
      "| ADBE| 2226|\n",
      "| BKNG| 2226|\n",
      "| FTNT| 2226|\n",
      "| NVDA| 2226|\n",
      "+-----+-----+\n",
      "\n"
     ]
    }
   ],
   "source": [
    "stock_histories.groupby(\"stock\").count().show(25)"
   ]
  },
  {
   "cell_type": "code",
   "execution_count": 16,
   "id": "8e57c6aa",
   "metadata": {},
   "outputs": [],
   "source": [
    "stock_histories.repartition(1).write.option(\"header\",True)\\\n",
    "                                .csv('data/stock_histories.csv')"
   ]
  },
  {
   "cell_type": "markdown",
   "id": "57787dea",
   "metadata": {},
   "source": [
    "### Dataset 2: SEC filings"
   ]
  },
  {
   "cell_type": "code",
   "execution_count": 17,
   "id": "d1001210",
   "metadata": {},
   "outputs": [],
   "source": [
    "report_keys = {\n",
    "    'Total operating expenses': ['Total operating expenses', \n",
    "                                 'Total costs and expenses', \n",
    "                                 'Costs and expenses', \n",
    "                                 'Operating expenses'],\n",
    "    'Gross profit': ['Gross profit', 'Gross margin', 'GROSS MARGIN', 'Total gross profit'],\n",
    "    'Income from operations': ['Income from operations', 'Operating income', 'OPERATING INCOME'\n",
    "                               'Income from continuing operations', 'Operating income (loss)'],\n",
    "    'Net income': ['Net income', 'NET INCOME', 'Net income (loss)'],\n",
    "    'Cost of revenue': ['Cost of revenue', 'Cost of revenues', 'Cost of sales',\n",
    "                        'Total cost of sales', 'Total cost of revenues', 'Cost of net revenues']\n",
    "}"
   ]
  },
  {
   "cell_type": "code",
   "execution_count": 18,
   "id": "8a08e02f",
   "metadata": {},
   "outputs": [],
   "source": [
    "def filter_financial_report(report):\n",
    "    relevant_data_points = {}  \n",
    "    for k, v in report_keys.items():\n",
    "        for _ in report['ic']:\n",
    "            if _['label'] in v:\n",
    "                relevant_data_points[k] = _['value']                \n",
    "    return relevant_data_points"
   ]
  },
  {
   "cell_type": "code",
   "execution_count": 19,
   "id": "228f0fbc",
   "metadata": {},
   "outputs": [],
   "source": [
    "def validity_check(report, data_point):\n",
    "    if data_point in report.keys():\n",
    "        try:\n",
    "            return int(report[data_point])\n",
    "        except:\n",
    "            return None"
   ]
  },
  {
   "cell_type": "code",
   "execution_count": 20,
   "id": "7f1f4ed0",
   "metadata": {},
   "outputs": [],
   "source": [
    "def clean_financial_statements(response):\n",
    "    cleaned_financial_statements = []\n",
    "    for _ in response.json()['data']:\n",
    "        report = filter_financial_report(_['report'])\n",
    "        cleaned_financial_statement = {\n",
    "            'symbol': _['symbol'],\n",
    "            'year': _['year'],\n",
    "            'quarter': _['quarter'],\n",
    "            'total_operating_expenses': validity_check(report, 'Total operating expenses'),\n",
    "            'gross_profit': validity_check(report, 'Gross profit'),\n",
    "            'operating_income': validity_check(report, 'Income from operations'),\n",
    "            'net_income': validity_check(report, 'Net income'),\n",
    "            'cost_of_revenue': validity_check(report, 'Cost of revenue')\n",
    "        }\n",
    "        cleaned_financial_statements.append(cleaned_financial_statement)  \n",
    "    return cleaned_financial_statements"
   ]
  },
  {
   "cell_type": "code",
   "execution_count": 21,
   "id": "82010add",
   "metadata": {},
   "outputs": [],
   "source": [
    "def get_sec_filings(symbol):\n",
    "    url = f'https://finnhub.io/api/v1/stock/financials-reported?symbol={symbol}&freq=quarterly'\n",
    "    header = { 'X-Finnhub-Token' : 'c8v8n8aad3iaocnjthj0' }\n",
    "    response = requests.get(url, headers=header)\n",
    "    return clean_financial_statements(response)"
   ]
  },
  {
   "cell_type": "code",
   "execution_count": 22,
   "id": "5258d955",
   "metadata": {},
   "outputs": [
    {
     "name": "stdout",
     "output_type": "stream",
     "text": [
      "Completed extracting NVDA\n",
      "Completed extracting GOOG\n",
      "Completed extracting AAPL\n",
      "Completed extracting AMZN\n",
      "Completed extracting FB\n",
      "Completed extracting MSFT\n",
      "Completed extracting TXN\n",
      "Completed extracting AVGO\n",
      "Completed extracting CSCO\n",
      "Completed extracting ADBE\n",
      "Completed extracting ORCL\n",
      "Completed extracting CRM\n",
      "Completed extracting QCOM\n",
      "Completed extracting NFLX\n",
      "Completed extracting BKNG\n",
      "Completed extracting EXPE\n",
      "Completed extracting INTC\n",
      "Completed extracting INTU\n",
      "Completed extracting FTNT\n",
      "Completed extracting IBM\n",
      "Completed extracting EBAY\n",
      "Completed extracting HP\n",
      "Completed extracting ADSK\n",
      "Completed extracting EA\n",
      "Completed extracting AMD\n"
     ]
    }
   ],
   "source": [
    "all_sec_filings = []\n",
    "for company in companies:\n",
    "    sec_filings = get_sec_filings(company)\n",
    "    all_sec_filings.extend(sec_filings)\n",
    "    print(f'Completed extracting {company}')"
   ]
  },
  {
   "cell_type": "code",
   "execution_count": 23,
   "id": "d7f75cd5",
   "metadata": {},
   "outputs": [
    {
     "data": {
      "text/plain": [
       "{'symbol': 'NVDA',\n",
       " 'year': 2022,\n",
       " 'quarter': 3,\n",
       " 'total_operating_expenses': 5405000000,\n",
       " 'gross_profit': 12476000000,\n",
       " 'operating_income': 7071000000,\n",
       " 'net_income': 6749000000,\n",
       " 'cost_of_revenue': 6795000000}"
      ]
     },
     "execution_count": 23,
     "metadata": {},
     "output_type": "execute_result"
    }
   ],
   "source": [
    "all_sec_filings[0]"
   ]
  },
  {
   "cell_type": "code",
   "execution_count": 24,
   "id": "c4f62744",
   "metadata": {},
   "outputs": [],
   "source": [
    "schema = StructType([StructField(\"symbol\", StringType(), True),\n",
    "                     StructField(\"year\", IntegerType(), True),\n",
    "                     StructField(\"quarter\", IntegerType(), True),\n",
    "                     StructField(\"total_operating_expenses\", LongType(), True),\n",
    "                     StructField(\"gross_profit\", LongType(), True),\n",
    "                     StructField(\"operating_income\", LongType(), True),\n",
    "                     StructField(\"net_income\", LongType(), True),\n",
    "                     StructField(\"cost_of_revenue\", LongType(), True)])"
   ]
  },
  {
   "cell_type": "code",
   "execution_count": 25,
   "id": "172ec3b7",
   "metadata": {},
   "outputs": [],
   "source": [
    "sec_filings = spark.createDataFrame(all_sec_filings, schema=schema)"
   ]
  },
  {
   "cell_type": "code",
   "execution_count": 26,
   "id": "2dbd00f5",
   "metadata": {},
   "outputs": [
    {
     "data": {
      "text/plain": [
       "847"
      ]
     },
     "execution_count": 26,
     "metadata": {},
     "output_type": "execute_result"
    }
   ],
   "source": [
    "sec_filings.count()"
   ]
  },
  {
   "cell_type": "code",
   "execution_count": 27,
   "id": "884033b8",
   "metadata": {},
   "outputs": [
    {
     "name": "stdout",
     "output_type": "stream",
     "text": [
      "+------+-----+\n",
      "|symbol|count|\n",
      "+------+-----+\n",
      "|    EA|   34|\n",
      "|  AAPL|   36|\n",
      "|  CSCO|   36|\n",
      "|  QCOM|   36|\n",
      "|  EXPE|   34|\n",
      "|  INTC|   35|\n",
      "|    HP|   35|\n",
      "|  INTU|   36|\n",
      "|  GOOG|   18|\n",
      "|    FB|   28|\n",
      "|  NFLX|   35|\n",
      "|   IBM|   35|\n",
      "|  ADSK|   34|\n",
      "|   TXN|   34|\n",
      "|  AVGO|   38|\n",
      "|  EBAY|   35|\n",
      "|   AMD|   34|\n",
      "|  ORCL|   32|\n",
      "|  AMZN|   35|\n",
      "|  MSFT|   34|\n",
      "|   CRM|   37|\n",
      "|  ADBE|   35|\n",
      "|  BKNG|   34|\n",
      "|  FTNT|   31|\n",
      "|  NVDA|   36|\n",
      "+------+-----+\n",
      "\n"
     ]
    }
   ],
   "source": [
    "sec_filings.groupby('symbol').count().show(25)"
   ]
  },
  {
   "cell_type": "code",
   "execution_count": 28,
   "id": "739c5390",
   "metadata": {},
   "outputs": [
    {
     "name": "stdout",
     "output_type": "stream",
     "text": [
      "+------+----+-------+------------------------+------------+----------------+----------+---------------+\n",
      "|symbol|year|quarter|total_operating_expenses|gross_profit|operating_income|net_income|cost_of_revenue|\n",
      "+------+----+-------+------------------------+------------+----------------+----------+---------------+\n",
      "|  NVDA|2022|      3|              5405000000| 12476000000|      7071000000|6749000000|     6795000000|\n",
      "|  NVDA|2022|      2|              3444000000|  7844000000|      4400000000|4285000000|     4324000000|\n",
      "|  NVDA|2022|      1|              1673000000|  3629000000|      1956000000|1912000000|     2032000000|\n",
      "|  NVDA|2021|      3|              4215000000|  7240000000|      3025000000|2875000000|     4432000000|\n",
      "|  NVDA|2020|      2|              2652000000|  4279000000|      1627000000|1539000000|     2667000000|\n",
      "|  NVDA|2020|      1|              1028000000|  2004000000|       976000000| 917000000|     1076000000|\n",
      "|  NVDA|2020|      3|              2897000000|  4753000000|      1856000000|1845000000|     3060000000|\n",
      "|  NVDA|2020|      2|              1908000000|  2837000000|       929000000| 947000000|     1962000000|\n",
      "|  NVDA|2020|      1|               938000000|  1296000000|       358000000| 394000000|      924000000|\n",
      "|  NVDA|2019|      3|              2454000000|  5964000000|      3510000000|3575000000|     3547000000|\n",
      "+------+----+-------+------------------------+------------+----------------+----------+---------------+\n",
      "only showing top 10 rows\n",
      "\n"
     ]
    }
   ],
   "source": [
    "sec_filings.show(10)"
   ]
  },
  {
   "cell_type": "code",
   "execution_count": 29,
   "id": "b5f63b4e",
   "metadata": {},
   "outputs": [],
   "source": [
    "sec_filings.repartition(1).write.option(\"header\",True)\\\n",
    "                                .csv('data/sec_filings.csv')"
   ]
  }
 ],
 "metadata": {
  "kernelspec": {
   "display_name": "Python 3 (ipykernel)",
   "language": "python",
   "name": "python3"
  },
  "language_info": {
   "codemirror_mode": {
    "name": "ipython",
    "version": 3
   },
   "file_extension": ".py",
   "mimetype": "text/x-python",
   "name": "python",
   "nbconvert_exporter": "python",
   "pygments_lexer": "ipython3",
   "version": "3.8.13"
  }
 },
 "nbformat": 4,
 "nbformat_minor": 5
}
