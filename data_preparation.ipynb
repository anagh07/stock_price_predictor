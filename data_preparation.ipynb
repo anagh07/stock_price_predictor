{
 "cells": [
  {
   "cell_type": "code",
   "execution_count": 1,
   "id": "e9aff13d",
   "metadata": {},
   "outputs": [],
   "source": [
    "from pyspark.sql import DataFrame\n",
    "from pyspark.sql import SparkSession\n",
    "from pyspark.sql.functions import lit\n",
    "from pyspark.sql.types import *\n",
    "import requests"
   ]
  },
  {
   "cell_type": "code",
   "execution_count": 2,
   "id": "56de01e1",
   "metadata": {},
   "outputs": [],
   "source": [
    "def init_spark():\n",
    "    spark = SparkSession \\\n",
    "        .builder \\\n",
    "        .config(\"spark.some.config.option\", \"some-value\") \\\n",
    "        .getOrCreate()\n",
    "    return spark"
   ]
  },
  {
   "cell_type": "markdown",
   "id": "908a0f5c",
   "metadata": {},
   "source": [
    "# Data Preparation"
   ]
  },
  {
   "cell_type": "markdown",
   "id": "516de8c2",
   "metadata": {},
   "source": [
    "### Dataset 1: NASDAQ & NYSE Stocks Histories"
   ]
  },
  {
   "cell_type": "code",
   "execution_count": 3,
   "id": "41b8044f",
   "metadata": {},
   "outputs": [
    {
     "name": "stderr",
     "output_type": "stream",
     "text": [
      "22/04/05 22:55:31 WARN NativeCodeLoader: Unable to load native-hadoop library for your platform... using builtin-java classes where applicable\n",
      "Using Spark's default log4j profile: org/apache/spark/log4j-defaults.properties\n",
      "Setting default log level to \"WARN\".\n",
      "To adjust logging level use sc.setLogLevel(newLevel). For SparkR, use setLogLevel(newLevel).\n",
      "22/04/05 22:55:32 WARN Utils: Service 'SparkUI' could not bind on port 4040. Attempting port 4041.\n"
     ]
    }
   ],
   "source": [
    "spark = init_spark()"
   ]
  },
  {
   "cell_type": "code",
   "execution_count": 4,
   "id": "7890d06f",
   "metadata": {},
   "outputs": [],
   "source": [
    "companies = ['NVDA', 'GOOG', 'AAPL', 'AMZN', 'FB', 'MSFT', 'TXN',\n",
    "             'AVGO', 'CSCO', 'ADBE', 'ORCL', 'CRM', 'QCOM', 'NFLX', \n",
    "             'BKNG', 'EXPE', 'INTC', 'INTU', 'FTNT', 'IBM', 'EBAY', \n",
    "             'HP', 'ADSK', 'EA', 'AMD']"
   ]
  },
  {
   "cell_type": "code",
   "execution_count": 5,
   "id": "8aab55f6",
   "metadata": {},
   "outputs": [],
   "source": [
    "schema = StructType([StructField('stock', StringType(), True),\n",
    "                     StructField('date', DateType(), True),\n",
    "                     StructField('volume', FloatType(), True),\n",
    "                     StructField('open', FloatType(), True),\n",
    "                     StructField('close', FloatType(), True),\n",
    "                     StructField('high', FloatType(), True),\n",
    "                     StructField('low', FloatType(), True),\n",
    "                     StructField('adjclose', FloatType(), True)])"
   ]
  },
  {
   "cell_type": "code",
   "execution_count": 10,
   "id": "14a702cb",
   "metadata": {},
   "outputs": [],
   "source": [
    "stock_histories = spark.createDataFrame([], schema)\n",
    "for company in companies: \n",
    "    df = spark.read.csv(f'data/raw/nasdaq-and-nyse-stocks-histories/full_history/{company}.csv', header=True)\n",
    "    df = df.withColumn(\"stock\", lit(company))\n",
    "    stock_histories = stock_histories.unionByName(df)"
   ]
  },
  {
   "cell_type": "code",
   "execution_count": 11,
   "id": "b383de81",
   "metadata": {},
   "outputs": [
    {
     "name": "stderr",
     "output_type": "stream",
     "text": [
      "                                                                                \r"
     ]
    },
    {
     "data": {
      "text/plain": [
       "164765"
      ]
     },
     "execution_count": 11,
     "metadata": {},
     "output_type": "execute_result"
    }
   ],
   "source": [
    "stock_histories.count()"
   ]
  },
  {
   "cell_type": "code",
   "execution_count": 12,
   "id": "e18bc76f",
   "metadata": {},
   "outputs": [
    {
     "name": "stdout",
     "output_type": "stream",
     "text": [
      "+-----+-----+\n",
      "|stock|count|\n",
      "+-----+-----+\n",
      "|   EA| 7340|\n",
      "| AAPL| 9556|\n",
      "| CSCO| 7236|\n",
      "| QCOM| 6775|\n",
      "| EXPE| 3347|\n",
      "| INTC| 9745|\n",
      "|   HP| 9597|\n",
      "| INTU| 6461|\n",
      "| GOOG| 3579|\n",
      "|   FB| 1627|\n",
      "| NFLX| 4143|\n",
      "|  IBM|12323|\n",
      "| ADSK| 8408|\n",
      "|  TXN|11711|\n",
      "| AVGO| 2329|\n",
      "| EBAY| 5062|\n",
      "|  AMD| 9745|\n",
      "| ORCL| 8232|\n",
      "| AMZN| 5405|\n",
      "| MSFT| 8231|\n",
      "|  CRM| 3619|\n",
      "| ADBE| 8125|\n",
      "| BKNG| 4933|\n",
      "| FTNT| 2256|\n",
      "| NVDA| 4980|\n",
      "+-----+-----+\n",
      "\n"
     ]
    }
   ],
   "source": [
    "stock_histories.groupby(\"stock\").count().show(25)"
   ]
  },
  {
   "cell_type": "code",
   "execution_count": 13,
   "id": "3e0b6ca6",
   "metadata": {},
   "outputs": [
    {
     "name": "stdout",
     "output_type": "stream",
     "text": [
      "+-----+----------+--------+------------------+------------------+------------------+------------------+\n",
      "|stock|      date|  volume|              open|             close|              high|               low|\n",
      "+-----+----------+--------+------------------+------------------+------------------+------------------+\n",
      "| NVDA|2018-11-02|11320900|217.72999572753906| 214.9199981689453|             222.0| 210.2100067138672|\n",
      "| NVDA|2018-11-01|14163200| 212.3000030517578|218.11000061035156|218.49000549316406|207.19000244140625|\n",
      "| NVDA|2018-10-31|18644300|209.64999389648438| 210.8300018310547|212.58999633789062|204.00999450683594|\n",
      "| NVDA|2018-10-30|20179800| 186.5500030517578|             203.0|203.39999389648438| 185.6199951171875|\n",
      "| NVDA|2018-10-29|18950400|203.99000549316406| 185.6199951171875| 204.1300048828125|176.00999450683594|\n",
      "| NVDA|2018-10-26|16619600|198.30999755859375| 198.2899932861328|204.83999633789062| 193.1199951171875|\n",
      "| NVDA|2018-10-25|23793000|195.47000122070312|207.83999633789062|            209.75|193.67999267578125|\n",
      "| NVDA|2018-10-24|22107200|219.50999450683594|199.41000366210938|221.38999938964844|198.85000610351562|\n",
      "| NVDA|2018-10-23|15660900|220.42999267578125|221.05999755859375|224.19000244140625| 216.7100067138672|\n",
      "| NVDA|2018-10-22| 9221100|231.27999877929688|231.22000122070312|235.32000732421875|227.07000732421875|\n",
      "+-----+----------+--------+------------------+------------------+------------------+------------------+\n",
      "only showing top 10 rows\n",
      "\n"
     ]
    }
   ],
   "source": [
    "stock_histories = stock_histories.drop(\"adjclose\")\n",
    "stock_histories.show(10)"
   ]
  },
  {
   "cell_type": "code",
   "execution_count": 14,
   "id": "862f8e91",
   "metadata": {},
   "outputs": [],
   "source": [
    "# stock_histories = stock_histories.filter(stock_histories.date > \"2010-01-01\")"
   ]
  },
  {
   "cell_type": "code",
   "execution_count": 15,
   "id": "396bdb80",
   "metadata": {},
   "outputs": [
    {
     "data": {
      "text/plain": [
       "164765"
      ]
     },
     "execution_count": 15,
     "metadata": {},
     "output_type": "execute_result"
    }
   ],
   "source": [
    "stock_histories.count()"
   ]
  },
  {
   "cell_type": "code",
   "execution_count": 16,
   "id": "7d72fcb3",
   "metadata": {},
   "outputs": [
    {
     "name": "stdout",
     "output_type": "stream",
     "text": [
      "+-----+-----+\n",
      "|stock|count|\n",
      "+-----+-----+\n",
      "|   EA| 7340|\n",
      "| AAPL| 9556|\n",
      "| CSCO| 7236|\n",
      "| QCOM| 6775|\n",
      "| EXPE| 3347|\n",
      "| INTC| 9745|\n",
      "|   HP| 9597|\n",
      "| INTU| 6461|\n",
      "| GOOG| 3579|\n",
      "|   FB| 1627|\n",
      "| NFLX| 4143|\n",
      "|  IBM|12323|\n",
      "| ADSK| 8408|\n",
      "|  TXN|11711|\n",
      "| AVGO| 2329|\n",
      "| EBAY| 5062|\n",
      "|  AMD| 9745|\n",
      "| ORCL| 8232|\n",
      "| AMZN| 5405|\n",
      "| MSFT| 8231|\n",
      "|  CRM| 3619|\n",
      "| ADBE| 8125|\n",
      "| BKNG| 4933|\n",
      "| FTNT| 2256|\n",
      "| NVDA| 4980|\n",
      "+-----+-----+\n",
      "\n"
     ]
    }
   ],
   "source": [
    "stock_histories.groupby(\"stock\").count().show(25)"
   ]
  },
  {
   "cell_type": "code",
   "execution_count": 17,
   "id": "8e57c6aa",
   "metadata": {},
   "outputs": [
    {
     "name": "stderr",
     "output_type": "stream",
     "text": [
      "\r",
      "[Stage 53:>                                                         (0 + 1) / 1]\r",
      "\r",
      "                                                                                \r"
     ]
    }
   ],
   "source": [
    "stock_histories.repartition(1).write.option(\"header\",True)\\\n",
    "                                .csv('data/stock_histories.csv')"
   ]
  },
  {
   "cell_type": "markdown",
   "id": "57787dea",
   "metadata": {},
   "source": [
    "### Dataset 2: SEC filings"
   ]
  },
  {
   "cell_type": "code",
   "execution_count": null,
   "id": "d1001210",
   "metadata": {},
   "outputs": [],
   "source": [
    "report_keys = {\n",
    "    'Total operating expenses': ['Total operating expenses', \n",
    "                                 'Total costs and expenses', \n",
    "                                 'Costs and expenses', \n",
    "                                 'Operating expenses'],\n",
    "    'Gross profit': ['Gross profit', 'Gross margin', 'GROSS MARGIN', 'Total gross profit'],\n",
    "    'Income from operations': ['Income from operations', 'Operating income', 'OPERATING INCOME'\n",
    "                               'Income from continuing operations', 'Operating income (loss)'],\n",
    "    'Net income': ['Net income', 'NET INCOME', 'Net income (loss)'],\n",
    "    'Cost of revenue': ['Cost of revenue', 'Cost of revenues', 'Cost of sales',\n",
    "                        'Total cost of sales', 'Total cost of revenues', 'Cost of net revenues']\n",
    "}"
   ]
  },
  {
   "cell_type": "code",
   "execution_count": null,
   "id": "8a08e02f",
   "metadata": {},
   "outputs": [],
   "source": [
    "def filter_financial_report(report):\n",
    "    relevant_data_points = {}  \n",
    "    for k, v in report_keys.items():\n",
    "        for _ in report['ic']:\n",
    "            if _['label'] in v:\n",
    "                relevant_data_points[k] = _['value']                \n",
    "    return relevant_data_points"
   ]
  },
  {
   "cell_type": "code",
   "execution_count": null,
   "id": "228f0fbc",
   "metadata": {},
   "outputs": [],
   "source": [
    "def validity_check(report, data_point):\n",
    "    if data_point in report.keys():\n",
    "        try:\n",
    "            return int(report[data_point])\n",
    "        except:\n",
    "            return None"
   ]
  },
  {
   "cell_type": "code",
   "execution_count": null,
   "id": "7f1f4ed0",
   "metadata": {},
   "outputs": [],
   "source": [
    "def clean_financial_statements(response):\n",
    "    cleaned_financial_statements = []\n",
    "    for _ in response.json()['data']:\n",
    "        report = filter_financial_report(_['report'])\n",
    "        cleaned_financial_statement = {\n",
    "            'symbol': _['symbol'],\n",
    "            'year': _['year'],\n",
    "            'quarter': _['quarter'],\n",
    "            'total_operating_expenses': validity_check(report, 'Total operating expenses'),\n",
    "            'gross_profit': validity_check(report, 'Gross profit'),\n",
    "            'operating_income': validity_check(report, 'Income from operations'),\n",
    "            'net_income': validity_check(report, 'Net income'),\n",
    "            'cost_of_revenue': validity_check(report, 'Cost of revenue')\n",
    "        }\n",
    "        cleaned_financial_statements.append(cleaned_financial_statement)  \n",
    "    return cleaned_financial_statements"
   ]
  },
  {
   "cell_type": "code",
   "execution_count": null,
   "id": "82010add",
   "metadata": {},
   "outputs": [],
   "source": [
    "def get_sec_filings(symbol):\n",
    "    url = f'https://finnhub.io/api/v1/stock/financials-reported?symbol={symbol}&freq=quarterly'\n",
    "    header = { 'X-Finnhub-Token' : 'c8v8n8aad3iaocnjthj0' }\n",
    "    response = requests.get(url, headers=header)\n",
    "    return clean_financial_statements(response)"
   ]
  },
  {
   "cell_type": "code",
   "execution_count": null,
   "id": "5258d955",
   "metadata": {},
   "outputs": [],
   "source": [
    "all_sec_filings = []\n",
    "for company in companies:\n",
    "    sec_filings = get_sec_filings(company)\n",
    "    all_sec_filings.extend(sec_filings)\n",
    "    print(f'Completed extracting {company}')"
   ]
  },
  {
   "cell_type": "code",
   "execution_count": null,
   "id": "d7f75cd5",
   "metadata": {},
   "outputs": [],
   "source": [
    "all_sec_filings[0]"
   ]
  },
  {
   "cell_type": "code",
   "execution_count": null,
   "id": "c4f62744",
   "metadata": {},
   "outputs": [],
   "source": [
    "schema = StructType([StructField(\"symbol\", StringType(), True),\n",
    "                     StructField(\"year\", IntegerType(), True),\n",
    "                     StructField(\"quarter\", IntegerType(), True),\n",
    "                     StructField(\"total_operating_expenses\", LongType(), True),\n",
    "                     StructField(\"gross_profit\", LongType(), True),\n",
    "                     StructField(\"operating_income\", LongType(), True),\n",
    "                     StructField(\"net_income\", LongType(), True),\n",
    "                     StructField(\"cost_of_revenue\", LongType(), True)])"
   ]
  },
  {
   "cell_type": "code",
   "execution_count": null,
   "id": "172ec3b7",
   "metadata": {},
   "outputs": [],
   "source": [
    "sec_filings = spark.createDataFrame(all_sec_filings, schema=schema)"
   ]
  },
  {
   "cell_type": "code",
   "execution_count": null,
   "id": "2dbd00f5",
   "metadata": {},
   "outputs": [],
   "source": [
    "sec_filings.count()"
   ]
  },
  {
   "cell_type": "code",
   "execution_count": null,
   "id": "884033b8",
   "metadata": {},
   "outputs": [],
   "source": [
    "sec_filings.groupby('symbol').count().show(25)"
   ]
  },
  {
   "cell_type": "code",
   "execution_count": null,
   "id": "739c5390",
   "metadata": {},
   "outputs": [],
   "source": [
    "sec_filings.show(10)"
   ]
  },
  {
   "cell_type": "code",
   "execution_count": null,
   "id": "b5f63b4e",
   "metadata": {},
   "outputs": [],
   "source": [
    "sec_filings.repartition(1).write.option(\"header\",True)\\\n",
    "                                .csv('data/sec_filings.csv')"
   ]
  }
 ],
 "metadata": {
  "kernelspec": {
   "display_name": "Python 3 (ipykernel)",
   "language": "python",
   "name": "python3"
  },
  "language_info": {
   "codemirror_mode": {
    "name": "ipython",
    "version": 3
   },
   "file_extension": ".py",
   "mimetype": "text/x-python",
   "name": "python",
   "nbconvert_exporter": "python",
   "pygments_lexer": "ipython3",
   "version": "3.8.13"
  }
 },
 "nbformat": 4,
 "nbformat_minor": 5
}
