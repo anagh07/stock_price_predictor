{
  "cells": [
    {
      "cell_type": "markdown",
      "metadata": {
        "id": "view-in-github",
        "colab_type": "text"
      },
      "source": [
        "<a href=\"https://colab.research.google.com/github/anagh07/stock_price_predictor/blob/colab/data_preparation_colab.ipynb\" target=\"_parent\"><img src=\"https://colab.research.google.com/assets/colab-badge.svg\" alt=\"Open In Colab\"/></a>"
      ]
    },
    {
      "cell_type": "code",
      "execution_count": 1,
      "id": "e9aff13d",
      "metadata": {
        "id": "e9aff13d",
        "colab": {
          "base_uri": "https://localhost:8080/"
        },
        "outputId": "d2b68bec-292b-4ae5-9a95-deda12b4e6a8"
      },
      "outputs": [
        {
          "output_type": "stream",
          "name": "stdout",
          "text": [
            "Collecting pyspark\n",
            "  Downloading pyspark-3.2.1.tar.gz (281.4 MB)\n",
            "\u001b[K     |████████████████████████████████| 281.4 MB 40 kB/s \n",
            "\u001b[?25hCollecting py4j==0.10.9.3\n",
            "  Downloading py4j-0.10.9.3-py2.py3-none-any.whl (198 kB)\n",
            "\u001b[K     |████████████████████████████████| 198 kB 63.9 MB/s \n",
            "\u001b[?25hBuilding wheels for collected packages: pyspark\n",
            "  Building wheel for pyspark (setup.py) ... \u001b[?25l\u001b[?25hdone\n",
            "  Created wheel for pyspark: filename=pyspark-3.2.1-py2.py3-none-any.whl size=281853642 sha256=1194d77502c77090472daf6f5d047230c8a20846bbeca1816fbd731253c9adb9\n",
            "  Stored in directory: /root/.cache/pip/wheels/9f/f5/07/7cd8017084dce4e93e84e92efd1e1d5334db05f2e83bcef74f\n",
            "Successfully built pyspark\n",
            "Installing collected packages: py4j, pyspark\n",
            "Successfully installed py4j-0.10.9.3 pyspark-3.2.1\n"
          ]
        }
      ],
      "source": [
        "!pip install pyspark\n",
        "from pyspark.sql import DataFrame\n",
        "from pyspark.sql import SparkSession\n",
        "from pyspark.sql.functions import lit\n",
        "from pyspark.sql.types import *\n",
        "import requests"
      ]
    },
    {
      "cell_type": "code",
      "execution_count": 2,
      "id": "56de01e1",
      "metadata": {
        "id": "56de01e1"
      },
      "outputs": [],
      "source": [
        "def init_spark():\n",
        "    spark = SparkSession \\\n",
        "        .builder \\\n",
        "        .config(\"spark.some.config.option\", \"some-value\") \\\n",
        "        .getOrCreate()\n",
        "    return spark"
      ]
    },
    {
      "cell_type": "markdown",
      "id": "908a0f5c",
      "metadata": {
        "id": "908a0f5c"
      },
      "source": [
        "# Data Preparation"
      ]
    },
    {
      "cell_type": "markdown",
      "id": "516de8c2",
      "metadata": {
        "id": "516de8c2"
      },
      "source": [
        "### Dataset 1: NASDAQ & NYSE Stocks Histories"
      ]
    },
    {
      "cell_type": "code",
      "execution_count": 3,
      "id": "41b8044f",
      "metadata": {
        "id": "41b8044f"
      },
      "outputs": [],
      "source": [
        "spark = init_spark()"
      ]
    },
    {
      "cell_type": "code",
      "execution_count": 4,
      "id": "7890d06f",
      "metadata": {
        "id": "7890d06f"
      },
      "outputs": [],
      "source": [
        "companies = ['NVDA', 'GOOG', 'AAPL', 'AMZN', 'FB', 'MSFT', 'TXN',\n",
        "             'AVGO', 'CSCO', 'ADBE', 'ORCL', 'CRM', 'QCOM', 'NFLX', \n",
        "             'BKNG', 'EXPE', 'INTC', 'INTU', 'FTNT', 'IBM', 'EBAY', \n",
        "             'HP', 'ADSK', 'EA', 'AMD']"
      ]
    },
    {
      "cell_type": "code",
      "execution_count": 5,
      "id": "8aab55f6",
      "metadata": {
        "id": "8aab55f6"
      },
      "outputs": [],
      "source": [
        "schema = StructType([StructField('stock', StringType(), True),\n",
        "                     StructField('date', DateType(), True),\n",
        "                     StructField('volume', FloatType(), True),\n",
        "                     StructField('open', FloatType(), True),\n",
        "                     StructField('close', FloatType(), True),\n",
        "                     StructField('high', FloatType(), True),\n",
        "                     StructField('low', FloatType(), True),\n",
        "                     StructField('adjclose', FloatType(), True)])"
      ]
    },
    {
      "cell_type": "code",
      "source": [
        "from google.colab import drive\n",
        "drive.mount('/content/drive')"
      ],
      "metadata": {
        "colab": {
          "base_uri": "https://localhost:8080/"
        },
        "id": "sydzre6XnLaP",
        "outputId": "4ea3b394-1b0d-4206-c299-27857d417de6"
      },
      "id": "sydzre6XnLaP",
      "execution_count": 6,
      "outputs": [
        {
          "output_type": "stream",
          "name": "stdout",
          "text": [
            "Mounted at /content/drive\n"
          ]
        }
      ]
    },
    {
      "cell_type": "code",
      "source": [
        "%cd drive/MyDrive/stocks_kaggle_dataset1/\n",
        "%cd full_history/"
      ],
      "metadata": {
        "colab": {
          "base_uri": "https://localhost:8080/"
        },
        "id": "5ZlHVRnZnVxg",
        "outputId": "4907e24e-3632-48e3-f046-f88901ae773d"
      },
      "id": "5ZlHVRnZnVxg",
      "execution_count": 7,
      "outputs": [
        {
          "output_type": "stream",
          "name": "stdout",
          "text": [
            "/content/drive/MyDrive/stocks_kaggle_dataset1\n",
            "/content/drive/MyDrive/stocks_kaggle_dataset1/full_history\n"
          ]
        }
      ]
    },
    {
      "cell_type": "code",
      "execution_count": 8,
      "id": "14a702cb",
      "metadata": {
        "id": "14a702cb"
      },
      "outputs": [],
      "source": [
        "stock_histories = spark.createDataFrame([], schema)\n",
        "for company in companies: \n",
        "    df = spark.read.csv(f'/content/drive/MyDrive/stocks_kaggle_dataset1/full_history/{company}.csv', header=True)\n",
        "    df = df.withColumn(\"stock\", lit(company))\n",
        "    stock_histories = stock_histories.unionByName(df)"
      ]
    },
    {
      "cell_type": "code",
      "execution_count": 9,
      "id": "b383de81",
      "metadata": {
        "id": "b383de81",
        "outputId": "df108650-017f-4b6d-dadb-20e10c821b84",
        "colab": {
          "base_uri": "https://localhost:8080/"
        }
      },
      "outputs": [
        {
          "output_type": "execute_result",
          "data": {
            "text/plain": [
              "164765"
            ]
          },
          "metadata": {},
          "execution_count": 9
        }
      ],
      "source": [
        "stock_histories.count()"
      ]
    },
    {
      "cell_type": "code",
      "execution_count": null,
      "id": "e18bc76f",
      "metadata": {
        "id": "e18bc76f",
        "outputId": "9e21adb9-1368-49f1-dddd-d40a7b1ae6d1",
        "colab": {
          "base_uri": "https://localhost:8080/"
        }
      },
      "outputs": [
        {
          "output_type": "stream",
          "name": "stdout",
          "text": [
            "+-----+-----+\n",
            "|stock|count|\n",
            "+-----+-----+\n",
            "| NVDA| 4980|\n",
            "| GOOG| 3579|\n",
            "| AAPL| 9556|\n",
            "| AMZN| 5405|\n",
            "|   FB| 1627|\n",
            "| MSFT| 8231|\n",
            "|  TXN|11711|\n",
            "| AVGO| 2329|\n",
            "| CSCO| 7236|\n",
            "| ADBE| 8125|\n",
            "| ORCL| 8232|\n",
            "|  CRM| 3619|\n",
            "| QCOM| 6775|\n",
            "| NFLX| 4143|\n",
            "| BKNG| 4933|\n",
            "| EXPE| 3347|\n",
            "| INTC| 9745|\n",
            "| INTU| 6461|\n",
            "| FTNT| 2256|\n",
            "|  IBM|12323|\n",
            "| EBAY| 5062|\n",
            "|   HP| 9597|\n",
            "| ADSK| 8408|\n",
            "|   EA| 7340|\n",
            "|  AMD| 9745|\n",
            "+-----+-----+\n",
            "\n"
          ]
        }
      ],
      "source": [
        "stock_histories.groupby(\"stock\").count().show(25)"
      ]
    },
    {
      "cell_type": "code",
      "execution_count": 10,
      "id": "3e0b6ca6",
      "metadata": {
        "id": "3e0b6ca6",
        "outputId": "1b2aad0f-75ab-495a-ebc6-817db6c45fa7",
        "colab": {
          "base_uri": "https://localhost:8080/"
        }
      },
      "outputs": [
        {
          "output_type": "stream",
          "name": "stdout",
          "text": [
            "+-----+----------+--------+------------------+------------------+------------------+------------------+\n",
            "|stock|      date|  volume|              open|             close|              high|               low|\n",
            "+-----+----------+--------+------------------+------------------+------------------+------------------+\n",
            "| NVDA|2018-11-02|11320900|217.72999572753906| 214.9199981689453|             222.0| 210.2100067138672|\n",
            "| NVDA|2018-11-01|14163200| 212.3000030517578|218.11000061035156|218.49000549316406|207.19000244140625|\n",
            "| NVDA|2018-10-31|18644300|209.64999389648438| 210.8300018310547|212.58999633789062|204.00999450683594|\n",
            "| NVDA|2018-10-30|20179800| 186.5500030517578|             203.0|203.39999389648438| 185.6199951171875|\n",
            "| NVDA|2018-10-29|18950400|203.99000549316406| 185.6199951171875| 204.1300048828125|176.00999450683594|\n",
            "| NVDA|2018-10-26|16619600|198.30999755859375| 198.2899932861328|204.83999633789062| 193.1199951171875|\n",
            "| NVDA|2018-10-25|23793000|195.47000122070312|207.83999633789062|            209.75|193.67999267578125|\n",
            "| NVDA|2018-10-24|22107200|219.50999450683594|199.41000366210938|221.38999938964844|198.85000610351562|\n",
            "| NVDA|2018-10-23|15660900|220.42999267578125|221.05999755859375|224.19000244140625| 216.7100067138672|\n",
            "| NVDA|2018-10-22| 9221100|231.27999877929688|231.22000122070312|235.32000732421875|227.07000732421875|\n",
            "+-----+----------+--------+------------------+------------------+------------------+------------------+\n",
            "only showing top 10 rows\n",
            "\n"
          ]
        }
      ],
      "source": [
        "stock_histories = stock_histories.drop(\"adjclose\")\n",
        "stock_histories.show(10)"
      ]
    },
    {
      "cell_type": "code",
      "execution_count": null,
      "id": "862f8e91",
      "metadata": {
        "id": "862f8e91"
      },
      "outputs": [],
      "source": [
        "# stock_histories = stock_histories.filter(stock_histories.date > \"2010-01-01\")"
      ]
    },
    {
      "cell_type": "code",
      "execution_count": 11,
      "id": "396bdb80",
      "metadata": {
        "id": "396bdb80",
        "outputId": "e26070d5-bce9-4686-99c6-6bf210c2b73e",
        "colab": {
          "base_uri": "https://localhost:8080/"
        }
      },
      "outputs": [
        {
          "output_type": "execute_result",
          "data": {
            "text/plain": [
              "164765"
            ]
          },
          "metadata": {},
          "execution_count": 11
        }
      ],
      "source": [
        "stock_histories.count()"
      ]
    },
    {
      "cell_type": "code",
      "execution_count": null,
      "id": "7d72fcb3",
      "metadata": {
        "id": "7d72fcb3",
        "outputId": "c91f2146-7651-43e3-da3b-53c1673dbf29",
        "colab": {
          "base_uri": "https://localhost:8080/"
        }
      },
      "outputs": [
        {
          "output_type": "stream",
          "name": "stdout",
          "text": [
            "+-----+-----+\n",
            "|stock|count|\n",
            "+-----+-----+\n",
            "| NVDA| 4980|\n",
            "| GOOG| 3579|\n",
            "| AAPL| 9556|\n",
            "| AMZN| 5405|\n",
            "|   FB| 1627|\n",
            "| MSFT| 8231|\n",
            "|  TXN|11711|\n",
            "| AVGO| 2329|\n",
            "| CSCO| 7236|\n",
            "| ADBE| 8125|\n",
            "| ORCL| 8232|\n",
            "|  CRM| 3619|\n",
            "| QCOM| 6775|\n",
            "| NFLX| 4143|\n",
            "| BKNG| 4933|\n",
            "| EXPE| 3347|\n",
            "| INTC| 9745|\n",
            "| INTU| 6461|\n",
            "| FTNT| 2256|\n",
            "|  IBM|12323|\n",
            "| EBAY| 5062|\n",
            "|   HP| 9597|\n",
            "| ADSK| 8408|\n",
            "|   EA| 7340|\n",
            "|  AMD| 9745|\n",
            "+-----+-----+\n",
            "\n"
          ]
        }
      ],
      "source": [
        "stock_histories.groupby(\"stock\").count().show(25)"
      ]
    },
    {
      "cell_type": "code",
      "execution_count": 12,
      "id": "8e57c6aa",
      "metadata": {
        "id": "8e57c6aa"
      },
      "outputs": [],
      "source": [
        "stock_histories.repartition(1).write.option(\"header\",True)\\\n",
        "                                .csv('/content/drive/MyDrive/data/stock_histories.csv')"
      ]
    },
    {
      "cell_type": "markdown",
      "id": "57787dea",
      "metadata": {
        "id": "57787dea"
      },
      "source": [
        "### Dataset 2: SEC filings"
      ]
    },
    {
      "cell_type": "code",
      "execution_count": null,
      "id": "d1001210",
      "metadata": {
        "id": "d1001210"
      },
      "outputs": [],
      "source": [
        "report_keys = {\n",
        "    'Total operating expenses': ['Total operating expenses', \n",
        "                                 'Total costs and expenses', \n",
        "                                 'Costs and expenses', \n",
        "                                 'Operating expenses'],\n",
        "    'Gross profit': ['Gross profit', 'Gross margin', 'GROSS MARGIN', 'Total gross profit'],\n",
        "    'Income from operations': ['Income from operations', 'Operating income', 'OPERATING INCOME'\n",
        "                               'Income from continuing operations', 'Operating income (loss)'],\n",
        "    'Net income': ['Net income', 'NET INCOME', 'Net income (loss)'],\n",
        "    'Cost of revenue': ['Cost of revenue', 'Cost of revenues', 'Cost of sales',\n",
        "                        'Total cost of sales', 'Total cost of revenues', 'Cost of net revenues']\n",
        "}"
      ]
    },
    {
      "cell_type": "code",
      "execution_count": null,
      "id": "8a08e02f",
      "metadata": {
        "id": "8a08e02f"
      },
      "outputs": [],
      "source": [
        "def filter_financial_report(report):\n",
        "    relevant_data_points = {}  \n",
        "    for k, v in report_keys.items():\n",
        "        for _ in report['ic']:\n",
        "            if _['label'] in v:\n",
        "                relevant_data_points[k] = _['value']                \n",
        "    return relevant_data_points"
      ]
    },
    {
      "cell_type": "code",
      "execution_count": null,
      "id": "228f0fbc",
      "metadata": {
        "id": "228f0fbc"
      },
      "outputs": [],
      "source": [
        "def validity_check(report, data_point):\n",
        "    if data_point in report.keys():\n",
        "        try:\n",
        "            return int(report[data_point])\n",
        "        except:\n",
        "            return None"
      ]
    },
    {
      "cell_type": "code",
      "execution_count": null,
      "id": "7f1f4ed0",
      "metadata": {
        "id": "7f1f4ed0"
      },
      "outputs": [],
      "source": [
        "def clean_financial_statements(response):\n",
        "    cleaned_financial_statements = []\n",
        "    for _ in response.json()['data']:\n",
        "        report = filter_financial_report(_['report'])\n",
        "        cleaned_financial_statement = {\n",
        "            'symbol': _['symbol'],\n",
        "            'year': _['year'],\n",
        "            'quarter': _['quarter'],\n",
        "            'total_operating_expenses': validity_check(report, 'Total operating expenses'),\n",
        "            'gross_profit': validity_check(report, 'Gross profit'),\n",
        "            'operating_income': validity_check(report, 'Income from operations'),\n",
        "            'net_income': validity_check(report, 'Net income'),\n",
        "            'cost_of_revenue': validity_check(report, 'Cost of revenue')\n",
        "        }\n",
        "        cleaned_financial_statements.append(cleaned_financial_statement)  \n",
        "    return cleaned_financial_statements"
      ]
    },
    {
      "cell_type": "code",
      "execution_count": null,
      "id": "82010add",
      "metadata": {
        "id": "82010add"
      },
      "outputs": [],
      "source": [
        "def get_sec_filings(symbol):\n",
        "    url = f'https://finnhub.io/api/v1/stock/financials-reported?symbol={symbol}&freq=quarterly'\n",
        "    header = { 'X-Finnhub-Token' : 'c8v8n8aad3iaocnjthj0' }\n",
        "    response = requests.get(url, headers=header)\n",
        "    return clean_financial_statements(response)"
      ]
    },
    {
      "cell_type": "code",
      "execution_count": null,
      "id": "5258d955",
      "metadata": {
        "id": "5258d955"
      },
      "outputs": [],
      "source": [
        "all_sec_filings = []\n",
        "for company in companies:\n",
        "    sec_filings = get_sec_filings(company)\n",
        "    all_sec_filings.extend(sec_filings)\n",
        "    print(f'Completed extracting {company}')"
      ]
    },
    {
      "cell_type": "code",
      "execution_count": null,
      "id": "d7f75cd5",
      "metadata": {
        "id": "d7f75cd5"
      },
      "outputs": [],
      "source": [
        "all_sec_filings[0]"
      ]
    },
    {
      "cell_type": "code",
      "execution_count": null,
      "id": "c4f62744",
      "metadata": {
        "id": "c4f62744"
      },
      "outputs": [],
      "source": [
        "schema = StructType([StructField(\"symbol\", StringType(), True),\n",
        "                     StructField(\"year\", IntegerType(), True),\n",
        "                     StructField(\"quarter\", IntegerType(), True),\n",
        "                     StructField(\"total_operating_expenses\", LongType(), True),\n",
        "                     StructField(\"gross_profit\", LongType(), True),\n",
        "                     StructField(\"operating_income\", LongType(), True),\n",
        "                     StructField(\"net_income\", LongType(), True),\n",
        "                     StructField(\"cost_of_revenue\", LongType(), True)])"
      ]
    },
    {
      "cell_type": "code",
      "execution_count": null,
      "id": "172ec3b7",
      "metadata": {
        "id": "172ec3b7"
      },
      "outputs": [],
      "source": [
        "sec_filings = spark.createDataFrame(all_sec_filings, schema=schema)"
      ]
    },
    {
      "cell_type": "code",
      "execution_count": null,
      "id": "2dbd00f5",
      "metadata": {
        "id": "2dbd00f5"
      },
      "outputs": [],
      "source": [
        "sec_filings.count()"
      ]
    },
    {
      "cell_type": "code",
      "execution_count": null,
      "id": "884033b8",
      "metadata": {
        "id": "884033b8"
      },
      "outputs": [],
      "source": [
        "sec_filings.groupby('symbol').count().show(25)"
      ]
    },
    {
      "cell_type": "code",
      "execution_count": null,
      "id": "739c5390",
      "metadata": {
        "id": "739c5390"
      },
      "outputs": [],
      "source": [
        "sec_filings.show(10)"
      ]
    },
    {
      "cell_type": "code",
      "execution_count": null,
      "id": "b5f63b4e",
      "metadata": {
        "id": "b5f63b4e"
      },
      "outputs": [],
      "source": [
        "sec_filings.repartition(1).write.option(\"header\",True)\\\n",
        "                                .csv('data/sec_filings.csv')"
      ]
    }
  ],
  "metadata": {
    "kernelspec": {
      "display_name": "Python 3 (ipykernel)",
      "language": "python",
      "name": "python3"
    },
    "language_info": {
      "codemirror_mode": {
        "name": "ipython",
        "version": 3
      },
      "file_extension": ".py",
      "mimetype": "text/x-python",
      "name": "python",
      "nbconvert_exporter": "python",
      "pygments_lexer": "ipython3",
      "version": "3.8.13"
    },
    "colab": {
      "name": "data_preparation.ipynb",
      "provenance": [],
      "include_colab_link": true
    },
    "accelerator": "GPU"
  },
  "nbformat": 4,
  "nbformat_minor": 5
}