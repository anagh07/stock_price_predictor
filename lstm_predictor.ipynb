{
  "cells": [
    {
      "cell_type": "markdown",
      "metadata": {
        "id": "view-in-github",
        "colab_type": "text"
      },
      "source": [
        "<a href=\"https://colab.research.google.com/github/anagh07/stock_price_predictor/blob/colab/lstm_predictor.ipynb\" target=\"_parent\"><img src=\"https://colab.research.google.com/assets/colab-badge.svg\" alt=\"Open In Colab\"/></a>"
      ]
    },
    {
      "cell_type": "code",
      "execution_count": 11,
      "id": "acb72f3c",
      "metadata": {
        "id": "acb72f3c",
        "colab": {
          "base_uri": "https://localhost:8080/"
        },
        "outputId": "c0a92c01-7f0c-4739-c720-3c015c7719df"
      },
      "outputs": [
        {
          "output_type": "stream",
          "name": "stdout",
          "text": [
            "Requirement already satisfied: pyspark in /usr/local/lib/python3.7/dist-packages (3.2.1)\n",
            "Requirement already satisfied: py4j==0.10.9.3 in /usr/local/lib/python3.7/dist-packages (from pyspark) (0.10.9.3)\n"
          ]
        }
      ],
      "source": [
        "!pip install pyspark\n",
        "from pyspark.sql import DataFrame\n",
        "from pyspark.sql import SparkSession\n",
        "import os"
      ]
    },
    {
      "cell_type": "code",
      "source": [
        "from google.colab import drive\n",
        "drive.mount('/content/drive')"
      ],
      "metadata": {
        "id": "Z_zif9pvhszs",
        "colab": {
          "base_uri": "https://localhost:8080/"
        },
        "outputId": "63033818-797c-4786-9024-6f44deb16c70"
      },
      "id": "Z_zif9pvhszs",
      "execution_count": null,
      "outputs": [
        {
          "output_type": "stream",
          "name": "stdout",
          "text": [
            "Mounted at /content/drive\n"
          ]
        }
      ]
    },
    {
      "cell_type": "code",
      "source": [
        "%cd drive/MyDrive/stocks_kaggle_dataset1/"
      ],
      "metadata": {
        "id": "He44F1WTnDQ2",
        "colab": {
          "base_uri": "https://localhost:8080/"
        },
        "outputId": "b153b366-efe0-4677-a2e7-29bc2f046a6d"
      },
      "id": "He44F1WTnDQ2",
      "execution_count": null,
      "outputs": [
        {
          "output_type": "stream",
          "name": "stdout",
          "text": [
            "/content/drive/MyDrive/stocks_kaggle_dataset1\n"
          ]
        }
      ]
    },
    {
      "cell_type": "code",
      "source": [
        "# import os\n",
        "# os.environ['KAGGLE_CONFIG_DIR'] = '/content/drive/MyDrive/stocks_kaggle_dataset1'"
      ],
      "metadata": {
        "id": "911jr4oLmKkL"
      },
      "id": "911jr4oLmKkL",
      "execution_count": null,
      "outputs": []
    },
    {
      "cell_type": "code",
      "source": [
        "# !kaggle datasets download -d qks1lver/nasdaq-and-nyse-stocks-histories "
      ],
      "metadata": {
        "id": "p2jXMOpJoJrm"
      },
      "id": "p2jXMOpJoJrm",
      "execution_count": null,
      "outputs": []
    },
    {
      "cell_type": "code",
      "source": [
        "# !unzip nasdaq-and-nyse-stocks-histories.zip"
      ],
      "metadata": {
        "id": "ya9HM6YDrew5"
      },
      "id": "ya9HM6YDrew5",
      "execution_count": null,
      "outputs": []
    },
    {
      "cell_type": "code",
      "execution_count": 12,
      "id": "7f48ff70",
      "metadata": {
        "id": "7f48ff70"
      },
      "outputs": [],
      "source": [
        "spark = SparkSession.builder.getOrCreate()"
      ]
    },
    {
      "cell_type": "code",
      "source": [
        "%cd full_history/"
      ],
      "metadata": {
        "id": "d2WLMM-d9hhe"
      },
      "id": "d2WLMM-d9hhe",
      "execution_count": null,
      "outputs": []
    },
    {
      "cell_type": "code",
      "execution_count": null,
      "id": "0ea4f624",
      "metadata": {
        "id": "0ea4f624"
      },
      "outputs": [],
      "source": [
        "# filename = os.path.join('.', 'data', 'nasdaq_nyse', 'full_history', 'A.csv')\n",
        "filename = '/content/drive/MyDrive/stocks_kaggle_dataset1/full_history/A.csv'\n",
        "df = spark.read.csv(filename, header=True, mode=\"DROPMALFORMED\")\n",
        "df.show()\n"
      ]
    },
    {
      "cell_type": "code",
      "execution_count": 15,
      "id": "2e348507",
      "metadata": {
        "id": "2e348507"
      },
      "outputs": [],
      "source": [
        "import pyspark.sql.functions as f\n",
        "df = df.withColumn('date', f.to_date('Date'))"
      ]
    },
    {
      "cell_type": "code",
      "source": [
        "df.show(n=5)"
      ],
      "metadata": {
        "id": "WEFkXsGWDkJ-"
      },
      "id": "WEFkXsGWDkJ-",
      "execution_count": null,
      "outputs": []
    },
    {
      "cell_type": "code",
      "source": [
        "date_breakdown = ['year', 'month', 'day']\n",
        "for i in enumerate(date_breakdown):\n",
        "    index = i[0]\n",
        "    name = i[1]\n",
        "    df = df.withColumn(name, f.split('date', '-')[index])\n",
        "\n",
        "df.show(n=10)"
      ],
      "metadata": {
        "colab": {
          "base_uri": "https://localhost:8080/"
        },
        "id": "8AxTwQvzDqkS",
        "outputId": "6a5f5b6b-ab55-43b3-ce7e-1354a65845ac"
      },
      "id": "8AxTwQvzDqkS",
      "execution_count": 20,
      "outputs": [
        {
          "output_type": "stream",
          "name": "stdout",
          "text": [
            "+----------+-------+------------------+------------------+------------------+------------------+------------------+----+-----+---+\n",
            "|      date| volume|              open|             close|              high|               low|          adjclose|year|month|day|\n",
            "+----------+-------+------------------+------------------+------------------+------------------+------------------+----+-----+---+\n",
            "|2018-11-02|2272100| 65.80000305175781| 65.93000030517578| 66.61000061035156| 65.44000244140625| 65.93000030517578|2018|   11| 02|\n",
            "|2018-11-01|1882400| 65.06999969482422| 65.22000122070312| 65.33999633789062| 64.58000183105469| 65.22000122070312|2018|   11| 01|\n",
            "|2018-10-31|3820700|  64.3499984741211| 64.79000091552734|  65.9800033569336| 64.19000244140625| 64.79000091552734|2018|   10| 31|\n",
            "|2018-10-30|3076700|62.349998474121094| 63.63999938964844|63.720001220703125| 61.68000030517578| 63.63999938964844|2018|   10| 30|\n",
            "|2018-10-29|2919900|63.650001525878906| 62.08000183105469| 64.16999816894531|61.130001068115234| 62.08000183105469|2018|   10| 29|\n",
            "|2018-10-26|3119900| 61.81999969482422| 62.72999954223633| 63.11000061035156|61.130001068115234| 62.72999954223633|2018|   10| 26|\n",
            "|2018-10-25|3318300|  61.4900016784668| 62.61000061035156| 62.88999938964844| 61.06999969482422| 62.61000061035156|2018|   10| 25|\n",
            "|2018-10-24|3481200| 62.91999816894531|61.130001068115234|  63.7599983215332|  61.0099983215332|61.130001068115234|2018|   10| 24|\n",
            "|2018-10-23|4219800| 62.81999969482422| 62.72999954223633|63.130001068115234|61.380001068115234| 62.72999954223633|2018|   10| 23|\n",
            "|2018-10-22|2227900| 64.69000244140625| 64.27999877929688| 64.83999633789062|63.540000915527344| 64.27999877929688|2018|   10| 22|\n",
            "+----------+-------+------------------+------------------+------------------+------------------+------------------+----+-----+---+\n",
            "only showing top 10 rows\n",
            "\n"
          ]
        }
      ]
    },
    {
      "cell_type": "code",
      "source": [
        "df_plot = df.select('year', 'adjclose').toPandas()"
      ],
      "metadata": {
        "id": "E3uO7-E_EFpR"
      },
      "id": "E3uO7-E_EFpR",
      "execution_count": 21,
      "outputs": []
    },
    {
      "cell_type": "code",
      "source": [
        "# from matplotlib import pyplot as plt\n",
        "# %matplotlib inline\n",
        "# df_plot.set_index('year', inplace=True)\n",
        "# df_plot.plot(figsize=(16, 6), grid=True)\n",
        "# plt.title('Agilent Technologies stock')\n",
        "# plt.ylabel('Stock Quote ($)')\n",
        "# plt.show()"
      ],
      "metadata": {
        "id": "svHCyFPxEpdj"
      },
      "id": "svHCyFPxEpdj",
      "execution_count": 23,
      "outputs": []
    },
    {
      "cell_type": "code",
      "source": [
        "df.toPandas().shape"
      ],
      "metadata": {
        "colab": {
          "base_uri": "https://localhost:8080/"
        },
        "id": "GhMsnlcfIOQS",
        "outputId": "8be37f17-a7cb-4c24-f536-845560d44b4f"
      },
      "id": "GhMsnlcfIOQS",
      "execution_count": 24,
      "outputs": [
        {
          "output_type": "execute_result",
          "data": {
            "text/plain": [
              "(4771, 10)"
            ]
          },
          "metadata": {},
          "execution_count": 24
        }
      ]
    },
    {
      "cell_type": "code",
      "source": [
        "df.dropna().count()"
      ],
      "metadata": {
        "colab": {
          "base_uri": "https://localhost:8080/"
        },
        "id": "yCf9eqyeIRu0",
        "outputId": "26c8cd17-5afd-4193-f262-6e66969cda85"
      },
      "id": "yCf9eqyeIRu0",
      "execution_count": 25,
      "outputs": [
        {
          "output_type": "execute_result",
          "data": {
            "text/plain": [
              "4771"
            ]
          },
          "metadata": {},
          "execution_count": 25
        }
      ]
    },
    {
      "cell_type": "code",
      "source": [
        "df.select('Open', 'High', 'Low', 'Close', 'adjclose').describe().show()"
      ],
      "metadata": {
        "colab": {
          "base_uri": "https://localhost:8080/"
        },
        "id": "unL_KmlaITu8",
        "outputId": "6e5ec3cb-9641-42c6-a9d0-04a0d3436287"
      },
      "id": "unL_KmlaITu8",
      "execution_count": 27,
      "outputs": [
        {
          "output_type": "stream",
          "name": "stdout",
          "text": [
            "+-------+------------------+------------------+------------------+------------------+------------------+\n",
            "|summary|              Open|              High|               Low|             Close|          adjclose|\n",
            "+-------+------------------+------------------+------------------+------------------+------------------+\n",
            "|  count|              4771|              4771|              4771|              4771|              4771|\n",
            "|   mean|31.045006787294714|31.490768324876576|30.608470048526627| 31.05803767002196|28.987821238767022|\n",
            "| stddev|15.308677145530849|15.537495715996506|15.077564265026519|15.303915818251506| 15.27122916378047|\n",
            "|    min|              10.0|10.007153511047363|              10.0|              10.0| 10.00198745727539|\n",
            "|    max| 95.13591003417969| 99.38304901123047| 93.70529174804688| 93.88411712646484| 99.14691162109375|\n",
            "+-------+------------------+------------------+------------------+------------------+------------------+\n",
            "\n"
          ]
        }
      ]
    },
    {
      "cell_type": "code",
      "source": [
        "df.groupBy(['year']).agg({'adjclose':'count'})\\\n",
        "    .withColumnRenamed('count(adjclose)', 'Row Count')\\\n",
        "    .orderBy([\"year\"],ascending=False)\\\n",
        "    .show()"
      ],
      "metadata": {
        "id": "Sl37yOzSIXTV"
      },
      "id": "Sl37yOzSIXTV",
      "execution_count": null,
      "outputs": []
    },
    {
      "cell_type": "code",
      "source": [
        "trainDF = df[df.year < 2017]\n",
        "testDF = df[df.year > 2016]"
      ],
      "metadata": {
        "id": "WUCiIeXyIly7"
      },
      "id": "WUCiIeXyIly7",
      "execution_count": 29,
      "outputs": []
    },
    {
      "cell_type": "code",
      "source": [
        "trainDF.toPandas().shape"
      ],
      "metadata": {
        "colab": {
          "base_uri": "https://localhost:8080/"
        },
        "id": "R3QrAwsJI0MA",
        "outputId": "0b741767-e712-488c-8201-71e9cc953e38"
      },
      "id": "R3QrAwsJI0MA",
      "execution_count": 30,
      "outputs": [
        {
          "output_type": "execute_result",
          "data": {
            "text/plain": [
              "(4307, 10)"
            ]
          },
          "metadata": {},
          "execution_count": 30
        }
      ]
    },
    {
      "cell_type": "code",
      "source": [
        "testDF.toPandas().shape"
      ],
      "metadata": {
        "colab": {
          "base_uri": "https://localhost:8080/"
        },
        "id": "3ZwRCBnaI1v7",
        "outputId": "c18ac48c-734a-42c6-b2c4-9cfbe0e9f93f"
      },
      "id": "3ZwRCBnaI1v7",
      "execution_count": 31,
      "outputs": [
        {
          "output_type": "execute_result",
          "data": {
            "text/plain": [
              "(464, 10)"
            ]
          },
          "metadata": {},
          "execution_count": 31
        }
      ]
    },
    {
      "cell_type": "code",
      "source": [
        "# trainDF_plot = trainDF.select('year', 'adjclose').toPandas()\n",
        "# trainDF_plot.set_index('year', inplace=True)\n",
        "# trainDF_plot.plot(figsize=(16, 6), grid=True)\n",
        "# plt.title('Apple Stock 2000-2016')\n",
        "# plt.ylabel('Stock Quote ($)')\n",
        "# plt.show()"
      ],
      "metadata": {
        "id": "zuOZ8DuHI4eg"
      },
      "id": "zuOZ8DuHI4eg",
      "execution_count": 33,
      "outputs": []
    },
    {
      "cell_type": "code",
      "source": [
        "# testDF_plot = testDF.select('year', 'Adj Close').toPandas()\n",
        "# testDF_plot.set_index('year', inplace=True)\n",
        "# testDF_plot.plot(figsize=(16, 6), grid=True)\n",
        "# plt.title('Apple Stock 2017-2018')\n",
        "# plt.ylabel('Stock Quote ($)')\n",
        "# plt.show()"
      ],
      "metadata": {
        "id": "i2oFWJkoJDlF"
      },
      "id": "i2oFWJkoJDlF",
      "execution_count": null,
      "outputs": []
    },
    {
      "cell_type": "code",
      "source": [
        "import numpy as np\n",
        "trainArray=np.array(trainDF.select('Open','High','Low','Close','Volume','adjclose').collect())\n",
        "testArray=np.array(testDF.select('Open','High','Low','Close','Volume','adjclose').collect())"
      ],
      "metadata": {
        "id": "0Uyj4BIdJSsy"
      },
      "id": "0Uyj4BIdJSsy",
      "execution_count": 34,
      "outputs": []
    },
    {
      "cell_type": "code",
      "source": [
        "print(trainArray[0])\n",
        "print('---------------')\n",
        "print(testArray[0])"
      ],
      "metadata": {
        "colab": {
          "base_uri": "https://localhost:8080/"
        },
        "id": "e4IvWYSNJgDR",
        "outputId": "8630ace7-503d-4172-80ad-cd0b91904289"
      },
      "id": "e4IvWYSNJgDR",
      "execution_count": 35,
      "outputs": [
        {
          "output_type": "stream",
          "name": "stdout",
          "text": [
            "['45.7599983215332' '45.81999969482422' '45.380001068115234'\n",
            " '45.560001373291016' '1216100' '44.84896469116211']\n",
            "---------------\n",
            "['65.80000305175781' '66.61000061035156' '65.44000244140625'\n",
            " '65.93000030517578' '2272100' '65.93000030517578']\n"
          ]
        }
      ]
    },
    {
      "cell_type": "code",
      "source": [
        "from sklearn.preprocessing import MinMaxScaler\n",
        "minMaxScale = MinMaxScaler()"
      ],
      "metadata": {
        "id": "U6A-yWVfJjiL"
      },
      "id": "U6A-yWVfJjiL",
      "execution_count": 36,
      "outputs": []
    },
    {
      "cell_type": "code",
      "source": [
        "minMaxScale.fit(trainArray)"
      ],
      "metadata": {
        "colab": {
          "base_uri": "https://localhost:8080/"
        },
        "id": "MJa7yOGwJmJi",
        "outputId": "a3c09a7b-9abe-4fa1-de81-a084537bde66"
      },
      "id": "MJa7yOGwJmJi",
      "execution_count": 37,
      "outputs": [
        {
          "output_type": "execute_result",
          "data": {
            "text/plain": [
              "MinMaxScaler()"
            ]
          },
          "metadata": {},
          "execution_count": 37
        }
      ]
    },
    {
      "cell_type": "code",
      "source": [
        "testingArray = minMaxScale.transform(testArray)\n",
        "trainingArray = minMaxScale.transform(trainArray)"
      ],
      "metadata": {
        "id": "ENHWzJMQJnwB"
      },
      "id": "ENHWzJMQJnwB",
      "execution_count": 38,
      "outputs": []
    },
    {
      "cell_type": "code",
      "source": [
        "print(testingArray[0])\n",
        "print('---------------')\n",
        "print(trainingArray[0])"
      ],
      "metadata": {
        "colab": {
          "base_uri": "https://localhost:8080/"
        },
        "id": "dSA7yK1pJppF",
        "outputId": "04c322a0-b394-4b80-fcac-228de53b91d5"
      },
      "id": "dSA7yK1pJppF",
      "execution_count": 39,
      "outputs": [
        {
          "output_type": "stream",
          "name": "stdout",
          "text": [
            "[0.5594522  0.54345317 0.60211989 0.5489041  0.02718118 0.64043656]\n",
            "---------------\n",
            "[0.36663784 0.35080771 0.39361519 0.35668501 0.01013746 0.41224046]\n"
          ]
        }
      ]
    },
    {
      "cell_type": "code",
      "source": [
        "xtrain = trainingArray[:, 0:-1]\n",
        "xtest = testingArray[:, 0:-1]\n",
        "ytrain = trainingArray[:, -1:]\n",
        "ytest = testingArray[:, -1:]"
      ],
      "metadata": {
        "id": "jduyUtEzJsJa"
      },
      "id": "jduyUtEzJsJa",
      "execution_count": 40,
      "outputs": []
    },
    {
      "cell_type": "code",
      "source": [
        "trainingArray[0]"
      ],
      "metadata": {
        "colab": {
          "base_uri": "https://localhost:8080/"
        },
        "id": "MocZ0z9dJuEj",
        "outputId": "7b63d018-b953-42e4-e3aa-7099485bdc73"
      },
      "id": "MocZ0z9dJuEj",
      "execution_count": 41,
      "outputs": [
        {
          "output_type": "execute_result",
          "data": {
            "text/plain": [
              "array([0.36663784, 0.35080771, 0.39361519, 0.35668501, 0.01013746,\n",
              "       0.41224046])"
            ]
          },
          "metadata": {},
          "execution_count": 41
        }
      ]
    },
    {
      "cell_type": "code",
      "source": [
        "xtrain[0]"
      ],
      "metadata": {
        "colab": {
          "base_uri": "https://localhost:8080/"
        },
        "id": "brx01FCPJwhM",
        "outputId": "78c034a0-b630-4323-d025-3ef9459582b9"
      },
      "id": "brx01FCPJwhM",
      "execution_count": 42,
      "outputs": [
        {
          "output_type": "execute_result",
          "data": {
            "text/plain": [
              "array([0.36663784, 0.35080771, 0.39361519, 0.35668501, 0.01013746])"
            ]
          },
          "metadata": {},
          "execution_count": 42
        }
      ]
    },
    {
      "cell_type": "code",
      "source": [
        "ytrain[0]"
      ],
      "metadata": {
        "colab": {
          "base_uri": "https://localhost:8080/"
        },
        "id": "nkNJPXT8Jx-a",
        "outputId": "6703e7ec-2f2b-44f1-8416-4528819fba96"
      },
      "id": "nkNJPXT8Jx-a",
      "execution_count": 43,
      "outputs": [
        {
          "output_type": "execute_result",
          "data": {
            "text/plain": [
              "array([0.41224046])"
            ]
          },
          "metadata": {},
          "execution_count": 43
        }
      ]
    },
    {
      "cell_type": "code",
      "source": [
        "print('xtrain shape = {}'.format(xtrain.shape))\n",
        "print('xtest shape = {}'.format(xtest.shape))\n",
        "print('ytrain shape = {}'.format(ytrain.shape))\n",
        "print('ytest shape = {}'.format(ytest.shape))"
      ],
      "metadata": {
        "colab": {
          "base_uri": "https://localhost:8080/"
        },
        "id": "oWUVjWJ9J00F",
        "outputId": "38ffbc4d-6224-48e1-e43f-891596f89ba8"
      },
      "id": "oWUVjWJ9J00F",
      "execution_count": 44,
      "outputs": [
        {
          "output_type": "stream",
          "name": "stdout",
          "text": [
            "xtrain shape = (4307, 5)\n",
            "xtest shape = (464, 5)\n",
            "ytrain shape = (4307, 1)\n",
            "ytest shape = (464, 1)\n"
          ]
        }
      ]
    },
    {
      "cell_type": "code",
      "source": [
        "plt.figure(figsize=(16,6))\n",
        "plt.plot(xtrain[:,0],color='red', label='open')\n",
        "plt.plot(xtrain[:,1],color='blue', label='high')\n",
        "plt.plot(xtrain[:,2],color='green', label='low')\n",
        "plt.plot(xtrain[:,3],color='purple', label='close')\n",
        "plt.legend(loc = 'upper left')\n",
        "plt.title('Open, High, Low, and Close by Day')\n",
        "plt.xlabel('Days')\n",
        "plt.ylabel('Scaled Quotes')\n",
        "plt.show()"
      ],
      "metadata": {
        "colab": {
          "base_uri": "https://localhost:8080/",
          "height": 404
        },
        "id": "knY6eNPAJ2mT",
        "outputId": "2746a1a1-2131-446a-e63d-37136c874034"
      },
      "id": "knY6eNPAJ2mT",
      "execution_count": 45,
      "outputs": [
        {
          "output_type": "display_data",
          "data": {
            "text/plain": [
              "<Figure size 1152x432 with 1 Axes>"
            ],
            "image/png": "[encoded data removed]"
          },
          "metadata": {
            "needs_background": "light"
          }
        }
      ]
    },
    {
      "cell_type": "code",
      "source": [
        "plt.figure(figsize=(16,6))\n",
        "plt.plot(xtrain[:,4],color='black', label='volume')\n",
        "plt.legend(loc = 'upper right')\n",
        "plt.title('Volume by Day')\n",
        "plt.xlabel('Days')\n",
        "plt.ylabel('Scaled Volume')\n",
        "plt.show()"
      ],
      "metadata": {
        "colab": {
          "base_uri": "https://localhost:8080/",
          "height": 404
        },
        "id": "ATj6Q4R-J-g-",
        "outputId": "48463b68-be69-409f-a16a-7282258def04"
      },
      "id": "ATj6Q4R-J-g-",
      "execution_count": 46,
      "outputs": [
        {
          "output_type": "display_data",
          "data": {
            "text/plain": [
              "<Figure size 1152x432 with 1 Axes>"
            ],
            "image/png": "[encoded data removed]"
          },
          "metadata": {
            "needs_background": "light"
          }
        }
      ]
    },
    {
      "cell_type": "code",
      "source": [
        "from keras import models, layers"
      ],
      "metadata": {
        "id": "ztUAgkfdKNhD"
      },
      "id": "ztUAgkfdKNhD",
      "execution_count": 47,
      "outputs": []
    },
    {
      "cell_type": "code",
      "source": [
        "model = models.Sequential()\n",
        "model.add(layers.LSTM(1, input_shape=(1,5)))\n",
        "model.add(layers.Dense(1))\n",
        "model.compile(loss='mean_squared_error', optimizer='adam')"
      ],
      "metadata": {
        "id": "1y5PbE2fKQXP"
      },
      "id": "1y5PbE2fKQXP",
      "execution_count": 48,
      "outputs": []
    },
    {
      "cell_type": "code",
      "source": [
        "xtrain = xtrain.reshape((xtrain.shape[0], 1, xtrain.shape[1]))\n",
        "xtest = xtest.reshape((xtest.shape[0], 1, xtest.shape[1]))"
      ],
      "metadata": {
        "id": "3DLtANsWKTT6"
      },
      "id": "3DLtANsWKTT6",
      "execution_count": 49,
      "outputs": []
    },
    {
      "cell_type": "code",
      "source": [
        "print('The shape of xtrain is {}: '.format(xtrain.shape))\n",
        "print('The shape of xtest is {}: '.format(xtest.shape))"
      ],
      "metadata": {
        "colab": {
          "base_uri": "https://localhost:8080/"
        },
        "id": "vc7KlIlCKV1q",
        "outputId": "820890b7-5b7f-4cff-b2c5-d56b531b9714"
      },
      "id": "vc7KlIlCKV1q",
      "execution_count": 50,
      "outputs": [
        {
          "output_type": "stream",
          "name": "stdout",
          "text": [
            "The shape of xtrain is (4307, 1, 5): \n",
            "The shape of xtest is (464, 1, 5): \n"
          ]
        }
      ]
    },
    {
      "cell_type": "code",
      "source": [
        "loss = model.fit(xtrain, ytrain, batch_size=10, epochs=100)"
      ],
      "metadata": {
        "colab": {
          "base_uri": "https://localhost:8080/"
        },
        "id": "6y_0_AeIKX6P",
        "outputId": "9e24addc-0bd1-4dc0-901c-814e22a39b9d"
      },
      "id": "6y_0_AeIKX6P",
      "execution_count": 51,
      "outputs": [
        {
          "output_type": "stream",
          "name": "stdout",
          "text": [
            "Epoch 1/100\n",
            "431/431 [==============================] - 9s 5ms/step - loss: 0.0189\n",
            "Epoch 2/100\n",
            "431/431 [==============================] - 2s 5ms/step - loss: 0.0042\n",
            "Epoch 3/100\n",
            "431/431 [==============================] - 2s 5ms/step - loss: 5.5786e-04\n",
            "Epoch 4/100\n",
            "431/431 [==============================] - 2s 5ms/step - loss: 2.3300e-04\n",
            "Epoch 5/100\n",
            "431/431 [==============================] - 2s 5ms/step - loss: 1.9706e-04\n",
            "Epoch 6/100\n",
            "431/431 [==============================] - 2s 5ms/step - loss: 1.7866e-04\n",
            "Epoch 7/100\n",
            "431/431 [==============================] - 2s 5ms/step - loss: 1.6834e-04\n",
            "Epoch 8/100\n",
            "431/431 [==============================] - 2s 5ms/step - loss: 1.6274e-04\n",
            "Epoch 9/100\n",
            "431/431 [==============================] - 2s 5ms/step - loss: 1.6125e-04\n",
            "Epoch 10/100\n",
            "431/431 [==============================] - 2s 5ms/step - loss: 1.5861e-04\n",
            "Epoch 11/100\n",
            "431/431 [==============================] - 2s 5ms/step - loss: 1.5814e-04\n",
            "Epoch 12/100\n",
            "431/431 [==============================] - 2s 5ms/step - loss: 1.5677e-04\n",
            "Epoch 13/100\n",
            "431/431 [==============================] - 2s 5ms/step - loss: 1.5574e-04\n",
            "Epoch 14/100\n",
            "431/431 [==============================] - 2s 5ms/step - loss: 1.5425e-04\n",
            "Epoch 15/100\n",
            "431/431 [==============================] - 2s 5ms/step - loss: 1.5302e-04\n",
            "Epoch 16/100\n",
            "431/431 [==============================] - 2s 5ms/step - loss: 1.5234e-04\n",
            "Epoch 17/100\n",
            "431/431 [==============================] - 2s 5ms/step - loss: 1.4986e-04\n",
            "Epoch 18/100\n",
            "431/431 [==============================] - 2s 5ms/step - loss: 1.4936e-04\n",
            "Epoch 19/100\n",
            "431/431 [==============================] - 2s 5ms/step - loss: 1.4788e-04\n",
            "Epoch 20/100\n",
            "431/431 [==============================] - 2s 5ms/step - loss: 1.4711e-04\n",
            "Epoch 21/100\n",
            "431/431 [==============================] - 2s 5ms/step - loss: 1.4524e-04\n",
            "Epoch 22/100\n",
            "431/431 [==============================] - 2s 5ms/step - loss: 1.4349e-04\n",
            "Epoch 23/100\n",
            "431/431 [==============================] - 2s 5ms/step - loss: 1.4386e-04\n",
            "Epoch 24/100\n",
            "431/431 [==============================] - 2s 5ms/step - loss: 1.4281e-04\n",
            "Epoch 25/100\n",
            "431/431 [==============================] - 2s 5ms/step - loss: 1.4087e-04\n",
            "Epoch 26/100\n",
            "431/431 [==============================] - 2s 5ms/step - loss: 1.4104e-04\n",
            "Epoch 27/100\n",
            "431/431 [==============================] - 2s 5ms/step - loss: 1.4017e-04\n",
            "Epoch 28/100\n",
            "431/431 [==============================] - 2s 5ms/step - loss: 1.3890e-04\n",
            "Epoch 29/100\n",
            "431/431 [==============================] - 2s 6ms/step - loss: 1.3637e-04\n",
            "Epoch 30/100\n",
            "431/431 [==============================] - 2s 5ms/step - loss: 1.3488e-04\n",
            "Epoch 31/100\n",
            "431/431 [==============================] - 2s 5ms/step - loss: 1.3505e-04\n",
            "Epoch 32/100\n",
            "431/431 [==============================] - 2s 5ms/step - loss: 1.3374e-04\n",
            "Epoch 33/100\n",
            "431/431 [==============================] - 2s 5ms/step - loss: 1.3608e-04\n",
            "Epoch 34/100\n",
            "431/431 [==============================] - 2s 5ms/step - loss: 1.3297e-04\n",
            "Epoch 35/100\n",
            "431/431 [==============================] - 2s 5ms/step - loss: 1.3214e-04\n",
            "Epoch 36/100\n",
            "431/431 [==============================] - 2s 5ms/step - loss: 1.3416e-04\n",
            "Epoch 37/100\n",
            "431/431 [==============================] - 2s 5ms/step - loss: 1.3248e-04\n",
            "Epoch 38/100\n",
            "431/431 [==============================] - 2s 4ms/step - loss: 1.2974e-04\n",
            "Epoch 39/100\n",
            "431/431 [==============================] - 2s 5ms/step - loss: 1.2971e-04\n",
            "Epoch 40/100\n",
            "431/431 [==============================] - 2s 5ms/step - loss: 1.3040e-04\n",
            "Epoch 41/100\n",
            "431/431 [==============================] - 2s 6ms/step - loss: 1.2812e-04\n",
            "Epoch 42/100\n",
            "431/431 [==============================] - 2s 5ms/step - loss: 1.2835e-04\n",
            "Epoch 43/100\n",
            "431/431 [==============================] - 2s 5ms/step - loss: 1.2845e-04\n",
            "Epoch 44/100\n",
            "431/431 [==============================] - 2s 5ms/step - loss: 1.2522e-04\n",
            "Epoch 45/100\n",
            "431/431 [==============================] - 2s 5ms/step - loss: 1.2555e-04\n",
            "Epoch 46/100\n",
            "431/431 [==============================] - 2s 5ms/step - loss: 1.2554e-04\n",
            "Epoch 47/100\n",
            "431/431 [==============================] - 2s 5ms/step - loss: 1.2629e-04\n",
            "Epoch 48/100\n",
            "431/431 [==============================] - 2s 5ms/step - loss: 1.2595e-04\n",
            "Epoch 49/100\n",
            "431/431 [==============================] - 2s 5ms/step - loss: 1.2550e-04\n",
            "Epoch 50/100\n",
            "431/431 [==============================] - 2s 5ms/step - loss: 1.2224e-04\n",
            "Epoch 51/100\n",
            "431/431 [==============================] - 2s 5ms/step - loss: 1.2266e-04\n",
            "Epoch 52/100\n",
            "431/431 [==============================] - 2s 5ms/step - loss: 1.2202e-04\n",
            "Epoch 53/100\n",
            "431/431 [==============================] - 2s 5ms/step - loss: 1.2105e-04\n",
            "Epoch 54/100\n",
            "431/431 [==============================] - 2s 5ms/step - loss: 1.2110e-04\n",
            "Epoch 55/100\n",
            "431/431 [==============================] - 2s 5ms/step - loss: 1.2127e-04\n",
            "Epoch 56/100\n",
            "431/431 [==============================] - 2s 5ms/step - loss: 1.2147e-04\n",
            "Epoch 57/100\n",
            "431/431 [==============================] - 2s 5ms/step - loss: 1.2057e-04\n",
            "Epoch 58/100\n",
            "431/431 [==============================] - 2s 5ms/step - loss: 1.1844e-04\n",
            "Epoch 59/100\n",
            "431/431 [==============================] - 2s 5ms/step - loss: 1.1827e-04\n",
            "Epoch 60/100\n",
            "431/431 [==============================] - 2s 5ms/step - loss: 1.1834e-04\n",
            "Epoch 61/100\n",
            "431/431 [==============================] - 2s 5ms/step - loss: 1.1808e-04\n",
            "Epoch 62/100\n",
            "431/431 [==============================] - 2s 5ms/step - loss: 1.1730e-04\n",
            "Epoch 63/100\n",
            "431/431 [==============================] - 2s 5ms/step - loss: 1.1877e-04\n",
            "Epoch 64/100\n",
            "431/431 [==============================] - 2s 5ms/step - loss: 1.1621e-04\n",
            "Epoch 65/100\n",
            "431/431 [==============================] - 2s 5ms/step - loss: 1.1795e-04\n",
            "Epoch 66/100\n",
            "431/431 [==============================] - 2s 4ms/step - loss: 1.1670e-04\n",
            "Epoch 67/100\n",
            "431/431 [==============================] - 2s 5ms/step - loss: 1.1664e-04\n",
            "Epoch 68/100\n",
            "431/431 [==============================] - 2s 5ms/step - loss: 1.1637e-04\n",
            "Epoch 69/100\n",
            "431/431 [==============================] - 2s 5ms/step - loss: 1.1310e-04\n",
            "Epoch 70/100\n",
            "431/431 [==============================] - 2s 5ms/step - loss: 1.1628e-04\n",
            "Epoch 71/100\n",
            "431/431 [==============================] - 2s 5ms/step - loss: 1.1502e-04\n",
            "Epoch 72/100\n",
            "431/431 [==============================] - 2s 5ms/step - loss: 1.1396e-04\n",
            "Epoch 73/100\n",
            "431/431 [==============================] - 2s 5ms/step - loss: 1.1440e-04\n",
            "Epoch 74/100\n",
            "431/431 [==============================] - 2s 5ms/step - loss: 1.1434e-04\n",
            "Epoch 75/100\n",
            "431/431 [==============================] - 2s 5ms/step - loss: 1.1364e-04\n",
            "Epoch 76/100\n",
            "431/431 [==============================] - 2s 5ms/step - loss: 1.1551e-04\n",
            "Epoch 77/100\n",
            "431/431 [==============================] - 2s 5ms/step - loss: 1.1338e-04\n",
            "Epoch 78/100\n",
            "431/431 [==============================] - 2s 5ms/step - loss: 1.1118e-04\n",
            "Epoch 79/100\n",
            "431/431 [==============================] - 2s 5ms/step - loss: 1.1331e-04\n",
            "Epoch 80/100\n",
            "431/431 [==============================] - 2s 5ms/step - loss: 1.1160e-04\n",
            "Epoch 81/100\n",
            "431/431 [==============================] - 2s 5ms/step - loss: 1.1079e-04\n",
            "Epoch 82/100\n",
            "431/431 [==============================] - 2s 5ms/step - loss: 1.1005e-04\n",
            "Epoch 83/100\n",
            "431/431 [==============================] - 2s 5ms/step - loss: 1.0984e-04\n",
            "Epoch 84/100\n",
            "431/431 [==============================] - 2s 5ms/step - loss: 1.0932e-04\n",
            "Epoch 85/100\n",
            "431/431 [==============================] - 2s 5ms/step - loss: 1.1088e-04\n",
            "Epoch 86/100\n",
            "431/431 [==============================] - 2s 5ms/step - loss: 1.1126e-04\n",
            "Epoch 87/100\n",
            "431/431 [==============================] - 2s 5ms/step - loss: 1.0912e-04\n",
            "Epoch 88/100\n",
            "431/431 [==============================] - 2s 5ms/step - loss: 1.1138e-04\n",
            "Epoch 89/100\n",
            "431/431 [==============================] - 2s 5ms/step - loss: 1.0866e-04\n",
            "Epoch 90/100\n",
            "431/431 [==============================] - 2s 5ms/step - loss: 1.1088e-04\n",
            "Epoch 91/100\n",
            "431/431 [==============================] - 2s 5ms/step - loss: 1.0838e-04\n",
            "Epoch 92/100\n",
            "431/431 [==============================] - 2s 5ms/step - loss: 1.0875e-04\n",
            "Epoch 93/100\n",
            "431/431 [==============================] - 2s 5ms/step - loss: 1.0804e-04\n",
            "Epoch 94/100\n",
            "431/431 [==============================] - 2s 5ms/step - loss: 1.0615e-04\n",
            "Epoch 95/100\n",
            "431/431 [==============================] - 2s 5ms/step - loss: 1.0712e-04\n",
            "Epoch 96/100\n",
            "431/431 [==============================] - 2s 5ms/step - loss: 1.0772e-04\n",
            "Epoch 97/100\n",
            "431/431 [==============================] - 2s 5ms/step - loss: 1.0765e-04\n",
            "Epoch 98/100\n",
            "431/431 [==============================] - 2s 5ms/step - loss: 1.0554e-04\n",
            "Epoch 99/100\n",
            "431/431 [==============================] - 2s 5ms/step - loss: 1.0518e-04\n",
            "Epoch 100/100\n",
            "431/431 [==============================] - 2s 5ms/step - loss: 1.0717e-04\n"
          ]
        }
      ]
    },
    {
      "cell_type": "code",
      "source": [
        "plt.plot(loss.history['loss'], label = 'loss')\n",
        "plt.title('mean squared error by epoch')\n",
        "plt.legend()\n",
        "plt.show()"
      ],
      "metadata": {
        "colab": {
          "base_uri": "https://localhost:8080/",
          "height": 281
        },
        "id": "fc3ydxrgKZ4M",
        "outputId": "d7617413-63bb-4880-9f70-0251328562d1"
      },
      "id": "fc3ydxrgKZ4M",
      "execution_count": 52,
      "outputs": [
        {
          "output_type": "display_data",
          "data": {
            "text/plain": [
              "<Figure size 432x288 with 1 Axes>"
            ],
            "image/png": "[encoded data removed]"
          },
          "metadata": {
            "needs_background": "light"
          }
        }
      ]
    },
    {
      "cell_type": "code",
      "source": [
        "predicted = model.predict(xtest)"
      ],
      "metadata": {
        "id": "dd00nbVQM6By"
      },
      "id": "dd00nbVQM6By",
      "execution_count": 53,
      "outputs": []
    },
    {
      "cell_type": "code",
      "source": [
        "combined_array = np.concatenate((ytest, predicted), axis = 1)"
      ],
      "metadata": {
        "id": "5kcccsdKM8cr"
      },
      "id": "5kcccsdKM8cr",
      "execution_count": 54,
      "outputs": []
    },
    {
      "cell_type": "code",
      "source": [
        "plt.figure(figsize=(16,6))\n",
        "plt.plot(combined_array[:,0],color='red', label='actual')\n",
        "plt.plot(combined_array[:,1],color='blue', label='predicted')\n",
        "plt.legend(loc = 'lower right')\n",
        "plt.title('2017 Actual vs. Predicted Agilent Technologies Stock')\n",
        "plt.xlabel('Days')\n",
        "plt.ylabel('Scaled Quotes')\n",
        "plt.show()"
      ],
      "metadata": {
        "colab": {
          "base_uri": "https://localhost:8080/",
          "height": 404
        },
        "id": "T1UaOTbdM-S3",
        "outputId": "d8347fca-bff7-4d3f-f30c-89a718227118"
      },
      "id": "T1UaOTbdM-S3",
      "execution_count": 56,
      "outputs": [
        {
          "output_type": "display_data",
          "data": {
            "text/plain": [
              "<Figure size 1152x432 with 1 Axes>"
            ],
            "image/png": "[encoded data removed]"
          },
          "metadata": {
            "needs_background": "light"
          }
        }
      ]
    },
    {
      "cell_type": "code",
      "source": [
        ""
      ],
      "metadata": {
        "id": "swcrdXsjNAAj"
      },
      "id": "swcrdXsjNAAj",
      "execution_count": null,
      "outputs": []
    }
  ],
  "metadata": {
    "kernelspec": {
      "display_name": "Python 3 (ipykernel)",
      "language": "python",
      "name": "python3"
    },
    "language_info": {
      "codemirror_mode": {
        "name": "ipython",
        "version": 3
      },
      "file_extension": ".py",
      "mimetype": "text/x-python",
      "name": "python",
      "nbconvert_exporter": "python",
      "pygments_lexer": "ipython3",
      "version": "3.8.12"
    },
    "colab": {
      "name": "lstm-predictor.ipynb",
      "provenance": [],
      "include_colab_link": true
    },
    "accelerator": "GPU"
  },
  "nbformat": 4,
  "nbformat_minor": 5
}