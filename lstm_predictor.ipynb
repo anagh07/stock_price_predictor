{
  "cells": [
    {
      "cell_type": "markdown",
      "metadata": {
        "id": "view-in-github",
        "colab_type": "text"
      },
      "source": [
        "<a href=\"https://colab.research.google.com/github/anagh07/stock_price_predictor/blob/colab/lstm_predictor.ipynb\" target=\"_parent\"><img src=\"https://colab.research.google.com/assets/colab-badge.svg\" alt=\"Open In Colab\"/></a>"
      ]
    },
    {
      "cell_type": "code",
      "execution_count": null,
      "id": "acb72f3c",
      "metadata": {
        "id": "acb72f3c",
        "colab": {
          "base_uri": "https://localhost:8080/"
        },
        "outputId": "fd3a4e3e-740d-4008-89c7-6c824b0e53bd"
      },
      "outputs": [
        {
          "output_type": "stream",
          "name": "stdout",
          "text": [
            "Collecting pyspark\n",
            "  Downloading pyspark-3.2.1.tar.gz (281.4 MB)\n",
            "\u001b[K     |████████████████████████████████| 281.4 MB 37 kB/s \n",
            "\u001b[?25hCollecting py4j==0.10.9.3\n",
            "  Downloading py4j-0.10.9.3-py2.py3-none-any.whl (198 kB)\n",
            "\u001b[K     |████████████████████████████████| 198 kB 48.0 MB/s \n",
            "\u001b[?25hBuilding wheels for collected packages: pyspark\n",
            "  Building wheel for pyspark (setup.py) ... \u001b[?25l\u001b[?25hdone\n",
            "  Created wheel for pyspark: filename=pyspark-3.2.1-py2.py3-none-any.whl size=281853642 sha256=eb75a1c3f07829ccf428a7d6896510a8077764b683f8b48a1291614a59345598\n",
            "  Stored in directory: /root/.cache/pip/wheels/9f/f5/07/7cd8017084dce4e93e84e92efd1e1d5334db05f2e83bcef74f\n",
            "Successfully built pyspark\n",
            "Installing collected packages: py4j, pyspark\n",
            "Successfully installed py4j-0.10.9.3 pyspark-3.2.1\n"
          ]
        }
      ],
      "source": [
        "!pip install pyspark\n",
        "from pyspark.sql import DataFrame\n",
        "from pyspark.sql import SparkSession\n",
        "import os"
      ]
    },
    {
      "cell_type": "code",
      "source": [
        "from google.colab import drive\n",
        "drive.mount('/content/drive')"
      ],
      "metadata": {
        "id": "Z_zif9pvhszs"
      },
      "id": "Z_zif9pvhszs",
      "execution_count": null,
      "outputs": []
    },
    {
      "cell_type": "code",
      "source": [
        "%cd drive/MyDrive/stocks_kaggle_dataset1/"
      ],
      "metadata": {
        "id": "He44F1WTnDQ2"
      },
      "id": "He44F1WTnDQ2",
      "execution_count": null,
      "outputs": []
    },
    {
      "cell_type": "code",
      "source": [
        "import os\n",
        "os.environ['KAGGLE_CONFIG_DIR'] = '/content/drive/MyDrive/stocks_kaggle_dataset1'"
      ],
      "metadata": {
        "id": "911jr4oLmKkL"
      },
      "id": "911jr4oLmKkL",
      "execution_count": null,
      "outputs": []
    },
    {
      "cell_type": "code",
      "source": [
        "!kaggle datasets download -d qks1lver/nasdaq-and-nyse-stocks-histories "
      ],
      "metadata": {
        "id": "p2jXMOpJoJrm"
      },
      "id": "p2jXMOpJoJrm",
      "execution_count": null,
      "outputs": []
    },
    {
      "cell_type": "code",
      "source": [
        "%ls"
      ],
      "metadata": {
        "id": "L7P6svuSqcq1"
      },
      "id": "L7P6svuSqcq1",
      "execution_count": null,
      "outputs": []
    },
    {
      "cell_type": "code",
      "source": [
        "!unzip nasdaq-and-nyse-stocks-histories.zip"
      ],
      "metadata": {
        "id": "ya9HM6YDrew5"
      },
      "id": "ya9HM6YDrew5",
      "execution_count": null,
      "outputs": []
    },
    {
      "cell_type": "code",
      "execution_count": null,
      "id": "7f48ff70",
      "metadata": {
        "id": "7f48ff70"
      },
      "outputs": [],
      "source": [
        "spark = SparkSession.builder.getOrCreate()"
      ]
    },
    {
      "cell_type": "code",
      "execution_count": null,
      "id": "0ea4f624",
      "metadata": {
        "id": "0ea4f624",
        "outputId": "83667127-68f4-4955-d0d5-e8a57d9b0e51",
        "colab": {
          "base_uri": "https://localhost:8080/"
        }
      },
      "outputs": [
        {
          "output_type": "execute_result",
          "data": {
            "text/plain": [
              "4771"
            ]
          },
          "metadata": {},
          "execution_count": 8
        }
      ],
      "source": [
        "# filename = os.path.join('.', 'data', 'nasdaq_nyse', 'full_history', 'A.csv')\n",
        "filename = 'A.csv'\n",
        "df = spark.read.csv(filename, header=True, mode=\"DROPMALFORMED\")\n",
        "df.count()"
      ]
    },
    {
      "cell_type": "code",
      "execution_count": null,
      "id": "2e348507",
      "metadata": {
        "id": "2e348507"
      },
      "outputs": [],
      "source": [
        ""
      ]
    }
  ],
  "metadata": {
    "kernelspec": {
      "display_name": "Python 3 (ipykernel)",
      "language": "python",
      "name": "python3"
    },
    "language_info": {
      "codemirror_mode": {
        "name": "ipython",
        "version": 3
      },
      "file_extension": ".py",
      "mimetype": "text/x-python",
      "name": "python",
      "nbconvert_exporter": "python",
      "pygments_lexer": "ipython3",
      "version": "3.8.12"
    },
    "colab": {
      "name": "Copy of lstm-predictor.ipynb",
      "provenance": [],
      "include_colab_link": true
    },
    "accelerator": "GPU"
  },
  "nbformat": 4,
  "nbformat_minor": 5
}