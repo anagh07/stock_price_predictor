{
  "cells": [
    {
      "cell_type": "markdown",
      "metadata": {
        "id": "view-in-github",
        "colab_type": "text"
      },
      "source": [
        "<a href=\"https://colab.research.google.com/github/anagh07/stock_price_predictor/blob/colab/lstm_predictor.ipynb\" target=\"_parent\"><img src=\"https://colab.research.google.com/assets/colab-badge.svg\" alt=\"Open In Colab\"/></a>"
      ]
    },
    {
      "cell_type": "code",
      "execution_count": null,
      "id": "acb72f3c",
      "metadata": {
        "id": "acb72f3c"
      },
      "outputs": [],
      "source": [
        "!pip install pyspark\n",
        "from pyspark.sql import DataFrame\n",
        "from pyspark.sql import SparkSession\n",
        "import os"
      ]
    },
    {
      "cell_type": "code",
      "source": [
        "from google.colab import drive\n",
        "drive.mount('/content/drive')"
      ],
      "metadata": {
        "id": "Z_zif9pvhszs",
        "colab": {
          "base_uri": "https://localhost:8080/"
        },
        "outputId": "63033818-797c-4786-9024-6f44deb16c70"
      },
      "id": "Z_zif9pvhszs",
      "execution_count": null,
      "outputs": [
        {
          "output_type": "stream",
          "name": "stdout",
          "text": [
            "Mounted at /content/drive\n"
          ]
        }
      ]
    },
    {
      "cell_type": "code",
      "source": [
        "%cd drive/MyDrive/stocks_kaggle_dataset1/"
      ],
      "metadata": {
        "id": "He44F1WTnDQ2",
        "colab": {
          "base_uri": "https://localhost:8080/"
        },
        "outputId": "b153b366-efe0-4677-a2e7-29bc2f046a6d"
      },
      "id": "He44F1WTnDQ2",
      "execution_count": null,
      "outputs": [
        {
          "output_type": "stream",
          "name": "stdout",
          "text": [
            "/content/drive/MyDrive/stocks_kaggle_dataset1\n"
          ]
        }
      ]
    },
    {
      "cell_type": "code",
      "source": [
        "# import os\n",
        "# os.environ['KAGGLE_CONFIG_DIR'] = '/content/drive/MyDrive/stocks_kaggle_dataset1'"
      ],
      "metadata": {
        "id": "911jr4oLmKkL"
      },
      "id": "911jr4oLmKkL",
      "execution_count": null,
      "outputs": []
    },
    {
      "cell_type": "code",
      "source": [
        "# !kaggle datasets download -d qks1lver/nasdaq-and-nyse-stocks-histories "
      ],
      "metadata": {
        "id": "p2jXMOpJoJrm"
      },
      "id": "p2jXMOpJoJrm",
      "execution_count": null,
      "outputs": []
    },
    {
      "cell_type": "code",
      "source": [
        "# !unzip nasdaq-and-nyse-stocks-histories.zip"
      ],
      "metadata": {
        "id": "ya9HM6YDrew5"
      },
      "id": "ya9HM6YDrew5",
      "execution_count": null,
      "outputs": []
    },
    {
      "cell_type": "code",
      "execution_count": null,
      "id": "7f48ff70",
      "metadata": {
        "id": "7f48ff70"
      },
      "outputs": [],
      "source": [
        "spark = SparkSession.builder.getOrCreate()"
      ]
    },
    {
      "cell_type": "code",
      "source": [
        "%cd full_history/"
      ],
      "metadata": {
        "colab": {
          "base_uri": "https://localhost:8080/"
        },
        "id": "d2WLMM-d9hhe",
        "outputId": "459a5a12-76a3-4105-edac-84723f61bfff"
      },
      "id": "d2WLMM-d9hhe",
      "execution_count": null,
      "outputs": [
        {
          "output_type": "stream",
          "name": "stdout",
          "text": [
            "[Errno 2] No such file or directory: 'full_history/'\n",
            "/content/drive/MyDrive/stocks_kaggle_dataset1/full_history\n"
          ]
        }
      ]
    },
    {
      "cell_type": "code",
      "execution_count": null,
      "id": "0ea4f624",
      "metadata": {
        "id": "0ea4f624",
        "outputId": "30c54b70-8ff0-45f3-d4b3-7cf62fb7c54d",
        "colab": {
          "base_uri": "https://localhost:8080/"
        }
      },
      "outputs": [
        {
          "output_type": "execute_result",
          "data": {
            "text/plain": [
              "4771"
            ]
          },
          "metadata": {},
          "execution_count": 10
        }
      ],
      "source": [
        "# filename = os.path.join('.', 'data', 'nasdaq_nyse', 'full_history', 'A.csv')\n",
        "filename = '/content/drive/MyDrive/stocks_kaggle_dataset1/full_history/A.csv'\n",
        "df = spark.read.csv(filename, header=True, mode=\"DROPMALFORMED\")\n",
        "df.count()\n"
      ]
    },
    {
      "cell_type": "code",
      "execution_count": null,
      "id": "2e348507",
      "metadata": {
        "id": "2e348507"
      },
      "outputs": [],
      "source": [
        ""
      ]
    }
  ],
  "metadata": {
    "kernelspec": {
      "display_name": "Python 3 (ipykernel)",
      "language": "python",
      "name": "python3"
    },
    "language_info": {
      "codemirror_mode": {
        "name": "ipython",
        "version": 3
      },
      "file_extension": ".py",
      "mimetype": "text/x-python",
      "name": "python",
      "nbconvert_exporter": "python",
      "pygments_lexer": "ipython3",
      "version": "3.8.12"
    },
    "colab": {
      "name": "lstm-predictor.ipynb",
      "provenance": [],
      "include_colab_link": true
    },
    "accelerator": "GPU"
  },
  "nbformat": 4,
  "nbformat_minor": 5
}