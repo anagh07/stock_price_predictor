{
  "nbformat": 4,
  "nbformat_minor": 0,
  "metadata": {
    "colab": {
      "name": "RandomForest.ipynb",
      "provenance": []
    },
    "kernelspec": {
      "name": "python3",
      "display_name": "Python 3"
    },
    "language_info": {
      "name": "python"
    }
  },
  "cells": [
    {
      "cell_type": "code",
      "execution_count": 23,
      "metadata": {
        "colab": {
          "base_uri": "https://localhost:8080/"
        },
        "id": "J7pZ-YN_-LwO",
        "outputId": "49304fcc-a954-43b7-d9ef-010147b071aa"
      },
      "outputs": [
        {
          "output_type": "stream",
          "name": "stdout",
          "text": [
            "Requirement already satisfied: pyspark in /usr/local/lib/python3.7/dist-packages (3.2.1)\n",
            "Requirement already satisfied: py4j==0.10.9.3 in /usr/local/lib/python3.7/dist-packages (from pyspark) (0.10.9.3)\n"
          ]
        }
      ],
      "source": [
        "!pip install pyspark"
      ]
    },
    {
      "cell_type": "code",
      "source": [
        "from pyspark.sql import DataFrame\n",
        "from pyspark.sql import SparkSession\n",
        "import pandas as pd\n",
        "import os\n",
        "import matplotlib.pyplot as plt\n",
        "from matplotlib import pyplot\n",
        "from sklearn.ensemble import RandomForestRegressor\n",
        "from pyspark.sql.functions import *\n",
        "from sklearn.model_selection import train_test_split\n",
        "from sklearn.metrics import mean_squared_error\n",
        "import numpy as np"
      ],
      "metadata": {
        "id": "jbdwAzWZ9kci"
      },
      "execution_count": 45,
      "outputs": []
    },
    {
      "cell_type": "code",
      "source": [
        "from google.colab import drive\n",
        "drive.mount('/content/drive')"
      ],
      "metadata": {
        "colab": {
          "base_uri": "https://localhost:8080/"
        },
        "id": "Z826ECMQ9mA-",
        "outputId": "3d6584c9-df7d-49fe-c225-9b327aee2268"
      },
      "execution_count": 25,
      "outputs": [
        {
          "output_type": "stream",
          "name": "stdout",
          "text": [
            "Drive already mounted at /content/drive; to attempt to forcibly remount, call drive.mount(\"/content/drive\", force_remount=True).\n"
          ]
        }
      ]
    },
    {
      "cell_type": "code",
      "source": [
        "spark = SparkSession.builder.getOrCreate()"
      ],
      "metadata": {
        "id": "SN7fEJ4H9oxa"
      },
      "execution_count": 26,
      "outputs": []
    },
    {
      "cell_type": "code",
      "source": [
        "filename = '/content/drive/MyDrive/stocks_kaggle_dataset1/full_history/AAPL.csv'\n",
        "df = spark.read.csv(filename, header=True, mode=\"DROPMALFORMED\")\n",
        "df.orderBy('date').show(2)"
      ],
      "metadata": {
        "colab": {
          "base_uri": "https://localhost:8080/"
        },
        "id": "dPzRomZe9tRK",
        "outputId": "83e2495e-d8f3-46d5-ff94-93840c19ea37"
      },
      "execution_count": 173,
      "outputs": [
        {
          "output_type": "stream",
          "name": "stdout",
          "text": [
            "+----------+---------+------------------+------------------+------------------+------------------+-------------------+\n",
            "|      date|   volume|              open|             close|              high|               low|           adjclose|\n",
            "+----------+---------+------------------+------------------+------------------+------------------+-------------------+\n",
            "|1980-12-12|117258400|0.5133928656578064|0.5133928656578064|          0.515625|0.5133928656578064|0.02318635582923889|\n",
            "|1980-12-15| 43971200|0.4888392984867096|0.4866071343421936|0.4888392984867096|0.4866071343421936|0.02197662927210331|\n",
            "+----------+---------+------------------+------------------+------------------+------------------+-------------------+\n",
            "only showing top 2 rows\n",
            "\n"
          ]
        }
      ]
    },
    {
      "cell_type": "code",
      "source": [
        "import pyspark.sql.functions as f\n",
        "df_c = df.withColumn('date', f.to_date(df.date))\n",
        "df_c = df_c.filter(f.col(\"date\") > f.unix_timestamp(f.lit('2000-01-01 00:00:00')).cast('timestamp')).orderBy('date')\n",
        "df_c.show(5)\n",
        "df_plot = df_c.withColumn('close', df_c['close'].cast('float'))\n",
        "df_plot = df_plot.withColumn('open', df_plot['open'].cast('float'))\n",
        "df_plot = df_plot.withColumn('high', df_plot['high'].cast('float'))\n",
        "df_plot = df_plot.withColumn('low', df_plot['low'].cast('float'))\n",
        "df_plot = df_plot.withColumn('adjclose', df_plot['adjclose'].cast('float'))\n",
        "df_plot = df_plot.withColumn('volume', df_plot['volume'].cast('long'))"
      ],
      "metadata": {
        "colab": {
          "base_uri": "https://localhost:8080/"
        },
        "id": "Q28M3K1U-vvw",
        "outputId": "b53bf5b5-8461-4be4-ed06-6483f8bf0054"
      },
      "execution_count": 207,
      "outputs": [
        {
          "output_type": "stream",
          "name": "stdout",
          "text": [
            "+----------+---------+------------------+------------------+------------------+------------------+------------------+\n",
            "|      date|   volume|              open|             close|              high|               low|          adjclose|\n",
            "+----------+---------+------------------+------------------+------------------+------------------+------------------+\n",
            "|2000-01-03|133949200|3.7455356121063232| 3.997767925262451| 4.017857074737549|3.6316964626312256| 2.686497449874878|\n",
            "|2000-01-04|128094400|3.8660714626312256|3.6607143878936768| 3.950892925262451|3.6138393878936768|2.4599978923797607|\n",
            "|2000-01-05|194580400| 3.705357074737549|3.7142856121063232|3.9486606121063232|3.6785714626312256| 2.495997428894043|\n",
            "|2000-01-06|191993200|3.7901785373687744| 3.392857074737549|3.8214285373687744| 3.392857074737549|2.2799980640411377|\n",
            "|2000-01-07|115183600|3.4464285373687744|3.5535714626312256| 3.607142925262451|3.4107143878936768|  2.38799786567688|\n",
            "+----------+---------+------------------+------------------+------------------+------------------+------------------+\n",
            "only showing top 5 rows\n",
            "\n"
          ]
        }
      ]
    },
    {
      "cell_type": "code",
      "source": [
        "from IPython.core.pylabtools import figsize\n",
        "df_graph = df_plot.select('date', 'close', 'open').orderBy('date').toPandas()\n",
        "fig,ax = plt.subplots(figsize=(16,6))\n",
        "ax.plot(df_graph['date'], df_graph['close'], label='close')\n",
        "ax.plot(df_graph['date'], df_graph['open'], label='open')"
      ],
      "metadata": {
        "colab": {
          "base_uri": "https://localhost:8080/",
          "height": 391
        },
        "id": "1Hqv18CvDFWB",
        "outputId": "46dca276-3c19-4680-96da-f1cefb14ec34"
      },
      "execution_count": 208,
      "outputs": [
        {
          "output_type": "execute_result",
          "data": {
            "text/plain": [
              "[<matplotlib.lines.Line2D at 0x7f6ff09de2d0>]"
            ]
          },
          "metadata": {},
          "execution_count": 208
        },
        {
          "output_type": "display_data",
          "data": {
            "text/plain": [
              "<Figure size 1152x432 with 1 Axes>"
            ],
            "image/png": "[encoded data removed]"
          },
          "metadata": {
            "needs_background": "light"
          }
        }
      ]
    },
    {
      "cell_type": "code",
      "source": [
        "df_graph.isnull().sum()"
      ],
      "metadata": {
        "colab": {
          "base_uri": "https://localhost:8080/"
        },
        "id": "KbGa6Qo_HHv4",
        "outputId": "c089de19-7622-4bcf-ad38-6ba9f657249e"
      },
      "execution_count": 211,
      "outputs": [
        {
          "output_type": "execute_result",
          "data": {
            "text/plain": [
              "date     0\n",
              "close    0\n",
              "open     0\n",
              "dtype: int64"
            ]
          },
          "metadata": {},
          "execution_count": 211
        }
      ]
    },
    {
      "cell_type": "code",
      "source": [
        "df_pd = df_c.orderBy('date')\n",
        "df_pd = df_pd.toPandas()\n",
        "x2 = df_pd.iloc[:, [0, 1, 2, 4, 5, 6]]\n",
        "x2['date'] = pd.to_datetime(x2['date'], format='%Y-%m-%d')\n",
        "y2 = df_pd.iloc[:, [0, 3]]\n",
        "y2['date'] = pd.to_datetime(y2['date'], format='%Y-%m-%d')\n",
        "x2_train = x2.loc[x2['date'] <= '2017-12-31']\n",
        "x2_train = x2_train.drop('date', axis=1)\n",
        "y2_train = y2.loc[y2['date'] <= '2017-12-31']\n",
        "x2_test = x2.loc[x2['date'] > '2017-12-31']\n",
        "x2_test = x2_test.drop('date', axis=1)\n",
        "y2_test = y2.loc[y2['date'] > '2017-12-31']"
      ],
      "metadata": {
        "colab": {
          "base_uri": "https://localhost:8080/"
        },
        "id": "qpqyVePrOs1Z",
        "outputId": "80c4efa1-79a0-43d5-986f-17a124716087"
      },
      "execution_count": 212,
      "outputs": [
        {
          "output_type": "stream",
          "name": "stderr",
          "text": [
            "/usr/local/lib/python3.7/dist-packages/ipykernel_launcher.py:4: SettingWithCopyWarning: \n",
            "A value is trying to be set on a copy of a slice from a DataFrame.\n",
            "Try using .loc[row_indexer,col_indexer] = value instead\n",
            "\n",
            "See the caveats in the documentation: https://pandas.pydata.org/pandas-docs/stable/user_guide/indexing.html#returning-a-view-versus-a-copy\n",
            "  after removing the cwd from sys.path.\n",
            "/usr/local/lib/python3.7/dist-packages/ipykernel_launcher.py:6: SettingWithCopyWarning: \n",
            "A value is trying to be set on a copy of a slice from a DataFrame.\n",
            "Try using .loc[row_indexer,col_indexer] = value instead\n",
            "\n",
            "See the caveats in the documentation: https://pandas.pydata.org/pandas-docs/stable/user_guide/indexing.html#returning-a-view-versus-a-copy\n",
            "  \n"
          ]
        }
      ]
    },
    {
      "cell_type": "code",
      "source": [
        "# x_train.shape\n",
        "# x_train.head(2)\n",
        "# # y_train.shape\n",
        "# # y_train.head()\n",
        "# y_train.head()\n",
        "# y2_test.head()\n",
        "# x2_test.head()\n",
        "# x2_train.head()\n",
        "x2_test.head()\n",
        "# x2.tail()\n",
        "# y2_test.head()\n",
        "# x2.head()"
      ],
      "metadata": {
        "colab": {
          "base_uri": "https://localhost:8080/",
          "height": 206
        },
        "id": "G2zOXwRAPhe9",
        "outputId": "614a7643-d018-462b-830f-29dd4e5d578a"
      },
      "execution_count": 213,
      "outputs": [
        {
          "output_type": "execute_result",
          "data": {
            "text/plain": [
              "        volume                open                high                 low  \\\n",
              "4528  25555900  170.16000366210938   172.3000030517578  169.25999450683594   \n",
              "4529  29517900  172.52999877929688   174.5500030517578   171.9600067138672   \n",
              "4530  22434600   172.5399932861328  173.47000122070312   172.0800018310547   \n",
              "4531  23660000  173.44000244140625   175.3699951171875   173.0500030517578   \n",
              "4532  20567800  174.35000610351562  175.61000061035156  173.92999267578125   \n",
              "\n",
              "                adjclose  \n",
              "4528  170.30422973632812  \n",
              "4529  170.27456665039062  \n",
              "4530   171.0655059814453  \n",
              "4531  173.01312255859375  \n",
              "4532  172.37051391601562  "
            ],
            "text/html": [
              "\n",
              "  <div id=\"df-a3407381-2b1b-455a-8898-a6579f5b34e3\">\n",
              "    <div class=\"colab-df-container\">\n",
              "      <div>\n",
              "<style scoped>\n",
              "    .dataframe tbody tr th:only-of-type {\n",
              "        vertical-align: middle;\n",
              "    }\n",
              "\n",
              "    .dataframe tbody tr th {\n",
              "        vertical-align: top;\n",
              "    }\n",
              "\n",
              "    .dataframe thead th {\n",
              "        text-align: right;\n",
              "    }\n",
              "</style>\n",
              "<table border=\"1\" class=\"dataframe\">\n",
              "  <thead>\n",
              "    <tr style=\"text-align: right;\">\n",
              "      <th></th>\n",
              "      <th>volume</th>\n",
              "      <th>open</th>\n",
              "      <th>high</th>\n",
              "      <th>low</th>\n",
              "      <th>adjclose</th>\n",
              "    </tr>\n",
              "  </thead>\n",
              "  <tbody>\n",
              "    <tr>\n",
              "      <th>4528</th>\n",
              "      <td>25555900</td>\n",
              "      <td>170.16000366210938</td>\n",
              "      <td>172.3000030517578</td>\n",
              "      <td>169.25999450683594</td>\n",
              "      <td>170.30422973632812</td>\n",
              "    </tr>\n",
              "    <tr>\n",
              "      <th>4529</th>\n",
              "      <td>29517900</td>\n",
              "      <td>172.52999877929688</td>\n",
              "      <td>174.5500030517578</td>\n",
              "      <td>171.9600067138672</td>\n",
              "      <td>170.27456665039062</td>\n",
              "    </tr>\n",
              "    <tr>\n",
              "      <th>4530</th>\n",
              "      <td>22434600</td>\n",
              "      <td>172.5399932861328</td>\n",
              "      <td>173.47000122070312</td>\n",
              "      <td>172.0800018310547</td>\n",
              "      <td>171.0655059814453</td>\n",
              "    </tr>\n",
              "    <tr>\n",
              "      <th>4531</th>\n",
              "      <td>23660000</td>\n",
              "      <td>173.44000244140625</td>\n",
              "      <td>175.3699951171875</td>\n",
              "      <td>173.0500030517578</td>\n",
              "      <td>173.01312255859375</td>\n",
              "    </tr>\n",
              "    <tr>\n",
              "      <th>4532</th>\n",
              "      <td>20567800</td>\n",
              "      <td>174.35000610351562</td>\n",
              "      <td>175.61000061035156</td>\n",
              "      <td>173.92999267578125</td>\n",
              "      <td>172.37051391601562</td>\n",
              "    </tr>\n",
              "  </tbody>\n",
              "</table>\n",
              "</div>\n",
              "      <button class=\"colab-df-convert\" onclick=\"convertToInteractive('df-a3407381-2b1b-455a-8898-a6579f5b34e3')\"\n",
              "              title=\"Convert this dataframe to an interactive table.\"\n",
              "              style=\"display:none;\">\n",
              "        \n",
              "  <svg xmlns=\"http://www.w3.org/2000/svg\" height=\"24px\"viewBox=\"0 0 24 24\"\n",
              "       width=\"24px\">\n",
              "    <path d=\"M0 0h24v24H0V0z\" fill=\"none\"/>\n",
              "    <path d=\"M18.56 5.44l.94 2.06.94-2.06 2.06-.94-2.06-.94-.94-2.06-.94 2.06-2.06.94zm-11 1L8.5 8.5l.94-2.06 2.06-.94-2.06-.94L8.5 2.5l-.94 2.06-2.06.94zm10 10l.94 2.06.94-2.06 2.06-.94-2.06-.94-.94-2.06-.94 2.06-2.06.94z\"/><path d=\"M17.41 7.96l-1.37-1.37c-.4-.4-.92-.59-1.43-.59-.52 0-1.04.2-1.43.59L10.3 9.45l-7.72 7.72c-.78.78-.78 2.05 0 2.83L4 21.41c.39.39.9.59 1.41.59.51 0 1.02-.2 1.41-.59l7.78-7.78 2.81-2.81c.8-.78.8-2.07 0-2.86zM5.41 20L4 18.59l7.72-7.72 1.47 1.35L5.41 20z\"/>\n",
              "  </svg>\n",
              "      </button>\n",
              "      \n",
              "  <style>\n",
              "    .colab-df-container {\n",
              "      display:flex;\n",
              "      flex-wrap:wrap;\n",
              "      gap: 12px;\n",
              "    }\n",
              "\n",
              "    .colab-df-convert {\n",
              "      background-color: #E8F0FE;\n",
              "      border: none;\n",
              "      border-radius: 50%;\n",
              "      cursor: pointer;\n",
              "      display: none;\n",
              "      fill: #1967D2;\n",
              "      height: 32px;\n",
              "      padding: 0 0 0 0;\n",
              "      width: 32px;\n",
              "    }\n",
              "\n",
              "    .colab-df-convert:hover {\n",
              "      background-color: #E2EBFA;\n",
              "      box-shadow: 0px 1px 2px rgba(60, 64, 67, 0.3), 0px 1px 3px 1px rgba(60, 64, 67, 0.15);\n",
              "      fill: #174EA6;\n",
              "    }\n",
              "\n",
              "    [theme=dark] .colab-df-convert {\n",
              "      background-color: #3B4455;\n",
              "      fill: #D2E3FC;\n",
              "    }\n",
              "\n",
              "    [theme=dark] .colab-df-convert:hover {\n",
              "      background-color: #434B5C;\n",
              "      box-shadow: 0px 1px 3px 1px rgba(0, 0, 0, 0.15);\n",
              "      filter: drop-shadow(0px 1px 2px rgba(0, 0, 0, 0.3));\n",
              "      fill: #FFFFFF;\n",
              "    }\n",
              "  </style>\n",
              "\n",
              "      <script>\n",
              "        const buttonEl =\n",
              "          document.querySelector('#df-a3407381-2b1b-455a-8898-a6579f5b34e3 button.colab-df-convert');\n",
              "        buttonEl.style.display =\n",
              "          google.colab.kernel.accessAllowed ? 'block' : 'none';\n",
              "\n",
              "        async function convertToInteractive(key) {\n",
              "          const element = document.querySelector('#df-a3407381-2b1b-455a-8898-a6579f5b34e3');\n",
              "          const dataTable =\n",
              "            await google.colab.kernel.invokeFunction('convertToInteractive',\n",
              "                                                     [key], {});\n",
              "          if (!dataTable) return;\n",
              "\n",
              "          const docLinkHtml = 'Like what you see? Visit the ' +\n",
              "            '<a target=\"_blank\" href=https://colab.research.google.com/notebooks/data_table.ipynb>data table notebook</a>'\n",
              "            + ' to learn more about interactive tables.';\n",
              "          element.innerHTML = '';\n",
              "          dataTable['output_type'] = 'display_data';\n",
              "          await google.colab.output.renderOutput(dataTable, element);\n",
              "          const docLink = document.createElement('div');\n",
              "          docLink.innerHTML = docLinkHtml;\n",
              "          element.appendChild(docLink);\n",
              "        }\n",
              "      </script>\n",
              "    </div>\n",
              "  </div>\n",
              "  "
            ]
          },
          "metadata": {},
          "execution_count": 213
        }
      ]
    },
    {
      "cell_type": "code",
      "source": [
        "rf = RandomForestRegressor(n_estimators=500, random_state=42, min_samples_split=2, min_samples_leaf=1, max_depth=20)"
      ],
      "metadata": {
        "id": "zm9kizs-P6o5"
      },
      "execution_count": 214,
      "outputs": []
    },
    {
      "cell_type": "code",
      "source": [
        "rf.fit(x2_train, y2_train['close'])"
      ],
      "metadata": {
        "colab": {
          "base_uri": "https://localhost:8080/"
        },
        "id": "OLSze8c7QzMn",
        "outputId": "7cad2561-e3ac-42cd-9cad-fc926390d332"
      },
      "execution_count": 215,
      "outputs": [
        {
          "output_type": "execute_result",
          "data": {
            "text/plain": [
              "RandomForestRegressor(max_depth=20, n_estimators=500, random_state=42)"
            ]
          },
          "metadata": {},
          "execution_count": 215
        }
      ]
    },
    {
      "cell_type": "code",
      "source": [
        "y_pred = rf.predict(x2_test)"
      ],
      "metadata": {
        "id": "aNK4pkZBQ0zK"
      },
      "execution_count": 216,
      "outputs": []
    },
    {
      "cell_type": "code",
      "source": [
        "df_compare = pd.DataFrame({\n",
        "    'y2_test': y2_test['close'],\n",
        "    'y_pred': y_pred\n",
        "})\n",
        "df_compare = df_compare.join(y2_test).drop('close', axis=1)"
      ],
      "metadata": {
        "id": "etGhzxKtUXf6"
      },
      "execution_count": 217,
      "outputs": []
    },
    {
      "cell_type": "code",
      "source": [
        "df_compare"
      ],
      "metadata": {
        "colab": {
          "base_uri": "https://localhost:8080/",
          "height": 424
        },
        "id": "pnNU5ZzvjkhB",
        "outputId": "571315ae-3f5c-40a0-b902-bc72c3b6390f"
      },
      "execution_count": 218,
      "outputs": [
        {
          "output_type": "execute_result",
          "data": {
            "text/plain": [
              "                 y2_test      y_pred       date\n",
              "4528  172.25999450683594  172.072702 2018-01-02\n",
              "4529  172.22999572753906  172.606023 2018-01-03\n",
              "4530  173.02999877929688  172.883982 2018-01-04\n",
              "4531               175.0  174.869699 2018-01-05\n",
              "4532  174.35000610351562  174.621979 2018-01-08\n",
              "...                  ...         ...        ...\n",
              "4736  212.24000549316406  176.118661 2018-10-29\n",
              "4737   213.3000030517578  176.126501 2018-10-30\n",
              "4738  218.86000061035156  176.126501 2018-10-31\n",
              "4739  222.22000122070312  176.118661 2018-11-01\n",
              "4740  207.47999572753906  176.118661 2018-11-02\n",
              "\n",
              "[213 rows x 3 columns]"
            ],
            "text/html": [
              "\n",
              "  <div id=\"df-099d9525-9539-477c-9db5-eb8d078a8f3f\">\n",
              "    <div class=\"colab-df-container\">\n",
              "      <div>\n",
              "<style scoped>\n",
              "    .dataframe tbody tr th:only-of-type {\n",
              "        vertical-align: middle;\n",
              "    }\n",
              "\n",
              "    .dataframe tbody tr th {\n",
              "        vertical-align: top;\n",
              "    }\n",
              "\n",
              "    .dataframe thead th {\n",
              "        text-align: right;\n",
              "    }\n",
              "</style>\n",
              "<table border=\"1\" class=\"dataframe\">\n",
              "  <thead>\n",
              "    <tr style=\"text-align: right;\">\n",
              "      <th></th>\n",
              "      <th>y2_test</th>\n",
              "      <th>y_pred</th>\n",
              "      <th>date</th>\n",
              "    </tr>\n",
              "  </thead>\n",
              "  <tbody>\n",
              "    <tr>\n",
              "      <th>4528</th>\n",
              "      <td>172.25999450683594</td>\n",
              "      <td>172.072702</td>\n",
              "      <td>2018-01-02</td>\n",
              "    </tr>\n",
              "    <tr>\n",
              "      <th>4529</th>\n",
              "      <td>172.22999572753906</td>\n",
              "      <td>172.606023</td>\n",
              "      <td>2018-01-03</td>\n",
              "    </tr>\n",
              "    <tr>\n",
              "      <th>4530</th>\n",
              "      <td>173.02999877929688</td>\n",
              "      <td>172.883982</td>\n",
              "      <td>2018-01-04</td>\n",
              "    </tr>\n",
              "    <tr>\n",
              "      <th>4531</th>\n",
              "      <td>175.0</td>\n",
              "      <td>174.869699</td>\n",
              "      <td>2018-01-05</td>\n",
              "    </tr>\n",
              "    <tr>\n",
              "      <th>4532</th>\n",
              "      <td>174.35000610351562</td>\n",
              "      <td>174.621979</td>\n",
              "      <td>2018-01-08</td>\n",
              "    </tr>\n",
              "    <tr>\n",
              "      <th>...</th>\n",
              "      <td>...</td>\n",
              "      <td>...</td>\n",
              "      <td>...</td>\n",
              "    </tr>\n",
              "    <tr>\n",
              "      <th>4736</th>\n",
              "      <td>212.24000549316406</td>\n",
              "      <td>176.118661</td>\n",
              "      <td>2018-10-29</td>\n",
              "    </tr>\n",
              "    <tr>\n",
              "      <th>4737</th>\n",
              "      <td>213.3000030517578</td>\n",
              "      <td>176.126501</td>\n",
              "      <td>2018-10-30</td>\n",
              "    </tr>\n",
              "    <tr>\n",
              "      <th>4738</th>\n",
              "      <td>218.86000061035156</td>\n",
              "      <td>176.126501</td>\n",
              "      <td>2018-10-31</td>\n",
              "    </tr>\n",
              "    <tr>\n",
              "      <th>4739</th>\n",
              "      <td>222.22000122070312</td>\n",
              "      <td>176.118661</td>\n",
              "      <td>2018-11-01</td>\n",
              "    </tr>\n",
              "    <tr>\n",
              "      <th>4740</th>\n",
              "      <td>207.47999572753906</td>\n",
              "      <td>176.118661</td>\n",
              "      <td>2018-11-02</td>\n",
              "    </tr>\n",
              "  </tbody>\n",
              "</table>\n",
              "<p>213 rows × 3 columns</p>\n",
              "</div>\n",
              "      <button class=\"colab-df-convert\" onclick=\"convertToInteractive('df-099d9525-9539-477c-9db5-eb8d078a8f3f')\"\n",
              "              title=\"Convert this dataframe to an interactive table.\"\n",
              "              style=\"display:none;\">\n",
              "        \n",
              "  <svg xmlns=\"http://www.w3.org/2000/svg\" height=\"24px\"viewBox=\"0 0 24 24\"\n",
              "       width=\"24px\">\n",
              "    <path d=\"M0 0h24v24H0V0z\" fill=\"none\"/>\n",
              "    <path d=\"M18.56 5.44l.94 2.06.94-2.06 2.06-.94-2.06-.94-.94-2.06-.94 2.06-2.06.94zm-11 1L8.5 8.5l.94-2.06 2.06-.94-2.06-.94L8.5 2.5l-.94 2.06-2.06.94zm10 10l.94 2.06.94-2.06 2.06-.94-2.06-.94-.94-2.06-.94 2.06-2.06.94z\"/><path d=\"M17.41 7.96l-1.37-1.37c-.4-.4-.92-.59-1.43-.59-.52 0-1.04.2-1.43.59L10.3 9.45l-7.72 7.72c-.78.78-.78 2.05 0 2.83L4 21.41c.39.39.9.59 1.41.59.51 0 1.02-.2 1.41-.59l7.78-7.78 2.81-2.81c.8-.78.8-2.07 0-2.86zM5.41 20L4 18.59l7.72-7.72 1.47 1.35L5.41 20z\"/>\n",
              "  </svg>\n",
              "      </button>\n",
              "      \n",
              "  <style>\n",
              "    .colab-df-container {\n",
              "      display:flex;\n",
              "      flex-wrap:wrap;\n",
              "      gap: 12px;\n",
              "    }\n",
              "\n",
              "    .colab-df-convert {\n",
              "      background-color: #E8F0FE;\n",
              "      border: none;\n",
              "      border-radius: 50%;\n",
              "      cursor: pointer;\n",
              "      display: none;\n",
              "      fill: #1967D2;\n",
              "      height: 32px;\n",
              "      padding: 0 0 0 0;\n",
              "      width: 32px;\n",
              "    }\n",
              "\n",
              "    .colab-df-convert:hover {\n",
              "      background-color: #E2EBFA;\n",
              "      box-shadow: 0px 1px 2px rgba(60, 64, 67, 0.3), 0px 1px 3px 1px rgba(60, 64, 67, 0.15);\n",
              "      fill: #174EA6;\n",
              "    }\n",
              "\n",
              "    [theme=dark] .colab-df-convert {\n",
              "      background-color: #3B4455;\n",
              "      fill: #D2E3FC;\n",
              "    }\n",
              "\n",
              "    [theme=dark] .colab-df-convert:hover {\n",
              "      background-color: #434B5C;\n",
              "      box-shadow: 0px 1px 3px 1px rgba(0, 0, 0, 0.15);\n",
              "      filter: drop-shadow(0px 1px 2px rgba(0, 0, 0, 0.3));\n",
              "      fill: #FFFFFF;\n",
              "    }\n",
              "  </style>\n",
              "\n",
              "      <script>\n",
              "        const buttonEl =\n",
              "          document.querySelector('#df-099d9525-9539-477c-9db5-eb8d078a8f3f button.colab-df-convert');\n",
              "        buttonEl.style.display =\n",
              "          google.colab.kernel.accessAllowed ? 'block' : 'none';\n",
              "\n",
              "        async function convertToInteractive(key) {\n",
              "          const element = document.querySelector('#df-099d9525-9539-477c-9db5-eb8d078a8f3f');\n",
              "          const dataTable =\n",
              "            await google.colab.kernel.invokeFunction('convertToInteractive',\n",
              "                                                     [key], {});\n",
              "          if (!dataTable) return;\n",
              "\n",
              "          const docLinkHtml = 'Like what you see? Visit the ' +\n",
              "            '<a target=\"_blank\" href=https://colab.research.google.com/notebooks/data_table.ipynb>data table notebook</a>'\n",
              "            + ' to learn more about interactive tables.';\n",
              "          element.innerHTML = '';\n",
              "          dataTable['output_type'] = 'display_data';\n",
              "          await google.colab.output.renderOutput(dataTable, element);\n",
              "          const docLink = document.createElement('div');\n",
              "          docLink.innerHTML = docLinkHtml;\n",
              "          element.appendChild(docLink);\n",
              "        }\n",
              "      </script>\n",
              "    </div>\n",
              "  </div>\n",
              "  "
            ]
          },
          "metadata": {},
          "execution_count": 218
        }
      ]
    },
    {
      "cell_type": "code",
      "source": [
        "mean_squared_error(y2_test['close'], y_pred)"
      ],
      "metadata": {
        "colab": {
          "base_uri": "https://localhost:8080/"
        },
        "id": "FsPLYHbHR6eh",
        "outputId": "a44ba160-19b0-4a58-b2ae-6fd5fca7545f"
      },
      "execution_count": 219,
      "outputs": [
        {
          "output_type": "execute_result",
          "data": {
            "text/plain": [
              "626.1951618290153"
            ]
          },
          "metadata": {},
          "execution_count": 219
        }
      ]
    },
    {
      "cell_type": "code",
      "source": [
        "# Model Evaluation\n",
        "import sklearn.metrics as metrics\n",
        "# Calculate the mean squared error between the actual ytest versus predicted stock\n",
        "np.sqrt(metrics.mean_squared_error(y2_test['close'],y_pred))"
      ],
      "metadata": {
        "id": "xOPeNuqnSweK",
        "colab": {
          "base_uri": "https://localhost:8080/"
        },
        "outputId": "a7dfa42e-452f-4871-ee66-07c22db312e3"
      },
      "execution_count": 220,
      "outputs": [
        {
          "output_type": "execute_result",
          "data": {
            "text/plain": [
              "25.02389182019886"
            ]
          },
          "metadata": {},
          "execution_count": 220
        }
      ]
    },
    {
      "cell_type": "code",
      "source": [
        ""
      ],
      "metadata": {
        "id": "kxXk5VWivG-I"
      },
      "execution_count": null,
      "outputs": []
    }
  ]
}