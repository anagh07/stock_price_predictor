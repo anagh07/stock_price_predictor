{
  "cells": [
    {
      "cell_type": "markdown",
      "metadata": {
        "id": "view-in-github",
        "colab_type": "text"
      },
      "source": [
        "<a href=\"https://colab.research.google.com/github/anagh07/stock_price_predictor/blob/master/lagged_feature_engineering_LSTM.ipynb\" target=\"_parent\"><img src=\"https://colab.research.google.com/assets/colab-badge.svg\" alt=\"Open In Colab\"/></a>"
      ]
    },
    {
      "cell_type": "code",
      "source": [
        "from google.colab import drive\n",
        "drive.mount('/content/drive')"
      ],
      "metadata": {
        "colab": {
          "base_uri": "https://localhost:8080/"
        },
        "id": "Vbndzhrt-CrY",
        "outputId": "a67f466c-5650-484d-9b17-58b72e9e4f2d"
      },
      "id": "Vbndzhrt-CrY",
      "execution_count": 43,
      "outputs": [
        {
          "output_type": "stream",
          "name": "stdout",
          "text": [
            "Drive already mounted at /content/drive; to attempt to forcibly remount, call drive.mount(\"/content/drive\", force_remount=True).\n"
          ]
        }
      ]
    },
    {
      "cell_type": "code",
      "execution_count": 44,
      "id": "c3ca8c6e",
      "metadata": {
        "id": "c3ca8c6e",
        "outputId": "3f9d0fbc-08be-4c56-8dab-cdbdb2a9d787",
        "colab": {
          "base_uri": "https://localhost:8080/"
        }
      },
      "outputs": [
        {
          "output_type": "stream",
          "name": "stdout",
          "text": [
            "Requirement already satisfied: pyspark in /usr/local/lib/python3.7/dist-packages (3.2.1)\n",
            "Requirement already satisfied: py4j==0.10.9.3 in /usr/local/lib/python3.7/dist-packages (from pyspark) (0.10.9.3)\n"
          ]
        }
      ],
      "source": [
        "!pip install pyspark\n",
        "from pyspark.sql import DataFrame\n",
        "from pyspark.sql import SparkSession\n",
        "from pyspark.sql.functions import *\n",
        "from pyspark.sql.types import *\n",
        "from pyspark.sql import Window\n",
        "\n",
        "import sklearn.metrics as metrics\n",
        "from sklearn.ensemble import RandomForestRegressor\n",
        "from sklearn.model_selection import train_test_split\n",
        "from sklearn.metrics import mean_squared_error\n",
        "from sklearn.preprocessing import StandardScaler\n",
        "from sklearn.model_selection import RandomizedSearchCV\n",
        "\n"
      ]
    },
    {
      "cell_type": "code",
      "source": [
        "%pwd"
      ],
      "metadata": {
        "colab": {
          "base_uri": "https://localhost:8080/",
          "height": 35
        },
        "id": "RQ77sR-lBo2M",
        "outputId": "7988bb8e-07e9-4c0c-c28c-7764ae43c0c2"
      },
      "id": "RQ77sR-lBo2M",
      "execution_count": 45,
      "outputs": [
        {
          "output_type": "execute_result",
          "data": {
            "text/plain": [
              "'/content'"
            ],
            "application/vnd.google.colaboratory.intrinsic+json": {
              "type": "string"
            }
          },
          "metadata": {},
          "execution_count": 45
        }
      ]
    },
    {
      "cell_type": "code",
      "source": [
        "def init_spark():\n",
        "    spark = SparkSession \\\n",
        "        .builder \\\n",
        "        .config(\"spark.some.config.option\", \"some-value\") \\\n",
        "        .getOrCreate()\n",
        "    return spark\n",
        "\n",
        "# read and clean the csv\n",
        "spark = init_spark()\n",
        "filename = '/content/drive/MyDrive/data/stock_histories.csv'\n",
        "df = spark.read.csv(filename, header=True, mode=\"DROPMALFORMED\")"
      ],
      "metadata": {
        "id": "vepU0h84AZ8e"
      },
      "id": "vepU0h84AZ8e",
      "execution_count": 46,
      "outputs": []
    },
    {
      "cell_type": "code",
      "execution_count": 77,
      "id": "3c55ff05",
      "metadata": {
        "id": "3c55ff05"
      },
      "outputs": [],
      "source": [
        "df = df.withColumn(\"volume\",df.volume.cast(IntegerType()))\n",
        "df = df.withColumn(\"open\",df.open.cast(FloatType()))\n",
        "df = df.withColumn(\"close\",df.close.cast(FloatType()))\n",
        "df = df.withColumn(\"adjusted_close\",df.close.cast(FloatType()))\n",
        "df = df.withColumn(\"high\",df.high.cast(FloatType()))\n",
        "df = df.withColumn(\"low\",df.low.cast(FloatType()))"
      ]
    },
    {
      "cell_type": "code",
      "execution_count": 78,
      "id": "fd4c7613",
      "metadata": {
        "id": "fd4c7613"
      },
      "outputs": [],
      "source": [
        "nvda = df.where(df.stock == \"NVDA\")"
      ]
    },
    {
      "cell_type": "code",
      "execution_count": 8,
      "id": "6c8afd3b",
      "metadata": {
        "id": "6c8afd3b",
        "outputId": "757b620b-b313-42c5-b952-2591113bcc16",
        "colab": {
          "base_uri": "https://localhost:8080/"
        }
      },
      "outputs": [
        {
          "output_type": "stream",
          "name": "stdout",
          "text": [
            "+-----+----------+--------+------+------+------+------+--------------+\n",
            "|stock|      date|  volume|  open| close|  high|   low|adjusted_close|\n",
            "+-----+----------+--------+------+------+------+------+--------------+\n",
            "| NVDA|2018-11-02|11320900|217.73|214.92| 222.0|210.21|        214.92|\n",
            "| NVDA|2018-11-01|14163200| 212.3|218.11|218.49|207.19|        218.11|\n",
            "| NVDA|2018-10-31|18644300|209.65|210.83|212.59|204.01|        210.83|\n",
            "| NVDA|2018-10-30|20179800|186.55| 203.0| 203.4|185.62|         203.0|\n",
            "| NVDA|2018-10-29|18950400|203.99|185.62|204.13|176.01|        185.62|\n",
            "| NVDA|2018-10-26|16619600|198.31|198.29|204.84|193.12|        198.29|\n",
            "| NVDA|2018-10-25|23793000|195.47|207.84|209.75|193.68|        207.84|\n",
            "| NVDA|2018-10-24|22107200|219.51|199.41|221.39|198.85|        199.41|\n",
            "| NVDA|2018-10-23|15660900|220.43|221.06|224.19|216.71|        221.06|\n",
            "| NVDA|2018-10-22| 9221100|231.28|231.22|235.32|227.07|        231.22|\n",
            "| NVDA|2018-10-19|15340200|241.76|229.17|242.55| 227.7|        229.17|\n",
            "| NVDA|2018-10-18|13100500|245.86|239.53|247.41|237.09|        239.53|\n",
            "| NVDA|2018-10-17| 8241700|248.34|243.06|249.88|241.08|        243.06|\n",
            "| NVDA|2018-10-16|10217800|239.93|245.83|246.28|237.94|        245.83|\n",
            "| NVDA|2018-10-15|11244000| 246.0|235.38| 246.0|235.34|        235.38|\n",
            "| NVDA|2018-10-12|15205900|245.51|246.54|249.54|239.65|        246.54|\n",
            "| NVDA|2018-10-11|18135900|242.17|235.13|247.56|234.26|        235.13|\n",
            "| NVDA|2018-10-10|17123500|261.26|245.69|263.11| 245.6|        245.69|\n",
            "| NVDA|2018-10-09| 6837500|264.94|265.54|268.76| 262.8|        265.54|\n",
            "| NVDA|2018-10-08|10215300| 266.5|265.77|271.16|260.08|        265.77|\n",
            "+-----+----------+--------+------+------+------+------+--------------+\n",
            "only showing top 20 rows\n",
            "\n"
          ]
        }
      ],
      "source": [
        "nvda.show()"
      ]
    },
    {
      "cell_type": "code",
      "execution_count": 9,
      "id": "c006a32b",
      "metadata": {
        "id": "c006a32b",
        "outputId": "88f6f68c-c070-496c-9b9d-beea35ce2962",
        "colab": {
          "base_uri": "https://localhost:8080/"
        }
      },
      "outputs": [
        {
          "output_type": "execute_result",
          "data": {
            "text/plain": [
              "Row(date='1999-01-22')"
            ]
          },
          "metadata": {},
          "execution_count": 9
        }
      ],
      "source": [
        "nvda.orderBy([\"date\"]).select(\"date\").first()"
      ]
    },
    {
      "cell_type": "code",
      "execution_count": 10,
      "id": "7e68eee5",
      "metadata": {
        "id": "7e68eee5",
        "outputId": "6467cbb9-a5ff-4509-d02d-62fb6ab546b0",
        "colab": {
          "base_uri": "https://localhost:8080/"
        }
      },
      "outputs": [
        {
          "output_type": "execute_result",
          "data": {
            "text/plain": [
              "Row(date='2018-11-02')"
            ]
          },
          "metadata": {},
          "execution_count": 10
        }
      ],
      "source": [
        "nvda.orderBy([\"date\"], ascending=False).select(\"date\").first()"
      ]
    },
    {
      "cell_type": "code",
      "execution_count": 11,
      "id": "afe34330",
      "metadata": {
        "scrolled": true,
        "id": "afe34330"
      },
      "outputs": [],
      "source": [
        "# feature engineering: Quarter, week of year, year, day of week\n",
        "nvda = nvda.withColumn(\"quarter\", quarter(col(\"date\")))\n",
        "nvda = nvda.withColumn(\"week_of_year\", weekofyear(col(\"date\")))\n",
        "nvda = nvda.withColumn(\"year\", year(col(\"date\")))\n",
        "nvda = nvda.withColumn(\"day_of_week\", dayofweek(col(\"date\")))\n",
        "nvda = nvda.withColumn(\"year_quarter\", concat(nvda.year, lit(\"-\"), nvda.quarter).alias(\"year_quarter\"))"
      ]
    },
    {
      "cell_type": "code",
      "execution_count": 12,
      "id": "6c5609f1",
      "metadata": {
        "id": "6c5609f1",
        "outputId": "df2b94b0-c672-4b71-a357-f3b4aa4120dd",
        "colab": {
          "base_uri": "https://localhost:8080/"
        }
      },
      "outputs": [
        {
          "output_type": "stream",
          "name": "stdout",
          "text": [
            "+----------+-------+------------+----+-----------+------------+\n",
            "|      date|quarter|week_of_year|year|day_of_week|year_quarter|\n",
            "+----------+-------+------------+----+-----------+------------+\n",
            "|2018-11-02|      4|          44|2018|          6|      2018-4|\n",
            "|2018-11-01|      4|          44|2018|          5|      2018-4|\n",
            "|2018-10-31|      4|          44|2018|          4|      2018-4|\n",
            "|2018-10-30|      4|          44|2018|          3|      2018-4|\n",
            "|2018-10-29|      4|          44|2018|          2|      2018-4|\n",
            "|2018-10-26|      4|          43|2018|          6|      2018-4|\n",
            "|2018-10-25|      4|          43|2018|          5|      2018-4|\n",
            "|2018-10-24|      4|          43|2018|          4|      2018-4|\n",
            "|2018-10-23|      4|          43|2018|          3|      2018-4|\n",
            "|2018-10-22|      4|          43|2018|          2|      2018-4|\n",
            "|2018-10-19|      4|          42|2018|          6|      2018-4|\n",
            "|2018-10-18|      4|          42|2018|          5|      2018-4|\n",
            "|2018-10-17|      4|          42|2018|          4|      2018-4|\n",
            "|2018-10-16|      4|          42|2018|          3|      2018-4|\n",
            "|2018-10-15|      4|          42|2018|          2|      2018-4|\n",
            "|2018-10-12|      4|          41|2018|          6|      2018-4|\n",
            "|2018-10-11|      4|          41|2018|          5|      2018-4|\n",
            "|2018-10-10|      4|          41|2018|          4|      2018-4|\n",
            "|2018-10-09|      4|          41|2018|          3|      2018-4|\n",
            "|2018-10-08|      4|          41|2018|          2|      2018-4|\n",
            "+----------+-------+------------+----+-----------+------------+\n",
            "only showing top 20 rows\n",
            "\n"
          ]
        }
      ],
      "source": [
        "nvda.select(\"date\", \"quarter\", \"week_of_year\", \"year\", \"day_of_week\", \"year_quarter\").show()"
      ]
    },
    {
      "cell_type": "code",
      "execution_count": 13,
      "id": "71284271",
      "metadata": {
        "id": "71284271"
      },
      "outputs": [],
      "source": [
        "# get last full quarter\n",
        "# step 1: calculate days in each quarters - a full quarter has at least 60 days \n",
        "quarter_day_count = nvda.groupby(\"year_quarter\").count()\\\n",
        "                                                .filter(\"count >= 60\")\n",
        "last_quarter = quarter_day_count.orderBy([\"year_quarter\"], ascending=False).select(\"year_quarter\").first()"
      ]
    },
    {
      "cell_type": "code",
      "execution_count": 14,
      "id": "5495a864",
      "metadata": {
        "id": "5495a864",
        "outputId": "eb11c64f-a779-4c01-faf5-14aa98b835ee",
        "colab": {
          "base_uri": "https://localhost:8080/",
          "height": 35
        }
      },
      "outputs": [
        {
          "output_type": "execute_result",
          "data": {
            "text/plain": [
              "'2018-3'"
            ],
            "application/vnd.google.colaboratory.intrinsic+json": {
              "type": "string"
            }
          },
          "metadata": {},
          "execution_count": 14
        }
      ],
      "source": [
        "last_quarter[0]"
      ]
    },
    {
      "cell_type": "code",
      "execution_count": 15,
      "id": "402023c0",
      "metadata": {
        "id": "402023c0"
      },
      "outputs": [],
      "source": [
        "quarter_day_count = quarter_day_count.withColumn(\"is_test\", when(col(\"year_quarter\") == last_quarter[0], 1).otherwise(0))"
      ]
    },
    {
      "cell_type": "code",
      "execution_count": 16,
      "id": "1e2edece",
      "metadata": {
        "id": "1e2edece",
        "outputId": "ba12c514-fd55-4757-b148-908a7f70c0c9",
        "colab": {
          "base_uri": "https://localhost:8080/"
        }
      },
      "outputs": [
        {
          "output_type": "stream",
          "name": "stdout",
          "text": [
            "+------------+-----+-------+\n",
            "|year_quarter|count|is_test|\n",
            "+------------+-----+-------+\n",
            "|      2003-4|   64|      0|\n",
            "|      2006-2|   63|      0|\n",
            "|      2014-1|   61|      0|\n",
            "|      2013-4|   64|      0|\n",
            "|      2000-1|   63|      0|\n",
            "|      2012-1|   62|      0|\n",
            "|      2010-1|   61|      0|\n",
            "|      2005-2|   64|      0|\n",
            "|      2000-4|   63|      0|\n",
            "|      2005-1|   61|      0|\n",
            "|      2010-3|   64|      0|\n",
            "|      2010-2|   63|      0|\n",
            "|      2011-3|   64|      0|\n",
            "|      2007-2|   63|      0|\n",
            "|      2013-2|   64|      0|\n",
            "|      2009-1|   61|      0|\n",
            "|      2001-1|   62|      0|\n",
            "|      2002-3|   64|      0|\n",
            "|      2002-2|   64|      0|\n",
            "|      2014-4|   64|      0|\n",
            "+------------+-----+-------+\n",
            "only showing top 20 rows\n",
            "\n"
          ]
        }
      ],
      "source": [
        "quarter_day_count.show()"
      ]
    },
    {
      "cell_type": "code",
      "execution_count": 17,
      "id": "55c12c0d",
      "metadata": {
        "id": "55c12c0d"
      },
      "outputs": [],
      "source": [
        "nvda = nvda.join(quarter_day_count, \"year_quarter\")"
      ]
    },
    {
      "cell_type": "code",
      "execution_count": 18,
      "id": "587fbc00",
      "metadata": {
        "id": "587fbc00",
        "outputId": "c0a4675a-97da-4b8a-9ff9-96fb5595b6ed",
        "colab": {
          "base_uri": "https://localhost:8080/"
        }
      },
      "outputs": [
        {
          "output_type": "execute_result",
          "data": {
            "text/plain": [
              "4848"
            ]
          },
          "metadata": {},
          "execution_count": 18
        }
      ],
      "source": [
        "nvda.count()"
      ]
    },
    {
      "cell_type": "code",
      "execution_count": 19,
      "id": "4a9cf9b0",
      "metadata": {
        "id": "4a9cf9b0"
      },
      "outputs": [],
      "source": [
        "open_average = nvda.groupby(\"year_quarter\")\\\n",
        "                   .agg(avg(\"open\").alias(\"open_avg\"))\n",
        "windowSpec = Window.orderBy(\"year_quarter\")\n",
        "open_average = open_average.withColumn(\"open_avg_l1\", lag(\"open_avg\", 1).over(windowSpec))\n",
        "open_average = open_average.withColumn(\"open_avg_l2\", lag(\"open_avg\", 2).over(windowSpec))\n",
        "open_average = open_average.withColumn(\"open_avg_l3\", lag(\"open_avg\", 3).over(windowSpec))\n",
        "open_average = open_average.withColumn(\"open_avg_l4\", lag(\"open_avg\", 4).over(windowSpec))\n",
        "open_average = open_average.drop(\"open_avg\") # drop unused col"
      ]
    },
    {
      "cell_type": "code",
      "execution_count": 20,
      "id": "54f19a52",
      "metadata": {
        "id": "54f19a52"
      },
      "outputs": [],
      "source": [
        "volume_average = nvda.groupby(\"year_quarter\")\\\n",
        "                     .agg(avg(\"volume\").alias(\"volume_avg\"))\n",
        "volume_average = volume_average.withColumn(\"volume_avg_l1\", lag(\"volume_avg\", 1).over(windowSpec))\n",
        "volume_average = volume_average.withColumn(\"volume_avg_l2\", lag(\"volume_avg\", 2).over(windowSpec))\n",
        "volume_average = volume_average.withColumn(\"volume_avg_l3\", lag(\"volume_avg\", 3).over(windowSpec))\n",
        "volume_average = volume_average.withColumn(\"volume_avg_l4\", lag(\"volume_avg\", 4).over(windowSpec))\n",
        "volume_average = volume_average.drop(\"volume_avg\") # drop unused col"
      ]
    },
    {
      "cell_type": "code",
      "execution_count": 21,
      "id": "c8cd37ed",
      "metadata": {
        "id": "c8cd37ed"
      },
      "outputs": [],
      "source": [
        "high_average = nvda.groupby(\"year_quarter\")\\\n",
        "                   .agg(avg(\"high\").alias(\"high_avg\"))\n",
        "high_average = high_average.withColumn(\"high_avg_l1\", lag(\"high_avg\", 1).over(windowSpec))\n",
        "high_average = high_average.withColumn(\"high_avg_l2\", lag(\"high_avg\", 2).over(windowSpec))\n",
        "high_average = high_average.withColumn(\"high_avg_l3\", lag(\"high_avg\", 3).over(windowSpec))\n",
        "high_average = high_average.withColumn(\"high_avg_l4\", lag(\"high_avg\", 4).over(windowSpec))\n",
        "high_average = high_average.drop(\"high_avg\") # drop unused col"
      ]
    },
    {
      "cell_type": "code",
      "execution_count": 22,
      "id": "1647de0b",
      "metadata": {
        "id": "1647de0b"
      },
      "outputs": [],
      "source": [
        "low_average = nvda.groupby(\"year_quarter\")\\\n",
        "                   .agg(avg(\"low\").alias(\"low_avg\"))\n",
        "low_average = low_average.withColumn(\"low_avg_l1\", lag(\"low_avg\", 1).over(windowSpec))\n",
        "low_average = low_average.withColumn(\"low_avg_l2\", lag(\"low_avg\", 2).over(windowSpec))\n",
        "low_average = low_average.withColumn(\"low_avg_l3\", lag(\"low_avg\", 3).over(windowSpec))\n",
        "low_average = low_average.withColumn(\"low_avg_l4\", lag(\"low_avg\", 4).over(windowSpec))\n",
        "low_average = low_average.drop(\"low_avg\") # drop unused col"
      ]
    },
    {
      "cell_type": "code",
      "execution_count": 23,
      "id": "f4922ab7",
      "metadata": {
        "id": "f4922ab7"
      },
      "outputs": [],
      "source": [
        "close_average = nvda.groupby(\"year_quarter\")\\\n",
        "                    .agg(avg(\"close\").alias(\"close_avg\"))\n",
        "close_average = close_average.withColumn(\"close_avg_l1\", lag(\"close_avg\", 1).over(windowSpec))\n",
        "close_average = close_average.withColumn(\"close_avg_l2\", lag(\"close_avg\", 2).over(windowSpec))\n",
        "close_average = close_average.withColumn(\"close_avg_l3\", lag(\"close_avg\", 3).over(windowSpec))\n",
        "close_average = close_average.withColumn(\"close_avg_l4\", lag(\"close_avg\", 4).over(windowSpec))\n",
        "close_average = close_average.drop(\"close_avg\") # drop unused col"
      ]
    },
    {
      "cell_type": "code",
      "execution_count": 24,
      "id": "c6fd2ff6",
      "metadata": {
        "id": "c6fd2ff6"
      },
      "outputs": [],
      "source": [
        "adj_close_average = nvda.groupby(\"year_quarter\")\\\n",
        "                        .agg(avg(\"adjusted_close\").alias(\"adj_close_avg\"))\n",
        "adj_close_average = adj_close_average.withColumn(\"adj_close_avg_l1\", lag(\"adj_close_avg\", 1).over(windowSpec))\n",
        "adj_close_average = adj_close_average.withColumn(\"adj_close_avg_l2\", lag(\"adj_close_avg\", 2).over(windowSpec))\n",
        "adj_close_average = adj_close_average.withColumn(\"adj_close_avg_l3\", lag(\"adj_close_avg\", 3).over(windowSpec))\n",
        "adj_close_average = adj_close_average.withColumn(\"adj_close_avg_l4\", lag(\"adj_close_avg\", 4).over(windowSpec))\n",
        "adj_close_average = adj_close_average.drop(\"adj_close_avg\") # drop unused col"
      ]
    },
    {
      "cell_type": "code",
      "execution_count": 25,
      "id": "31f9390d",
      "metadata": {
        "id": "31f9390d"
      },
      "outputs": [],
      "source": [
        "nvda = nvda.join(open_average, \"year_quarter\")\\\n",
        "           .join(volume_average, \"year_quarter\")\\\n",
        "           .join(high_average, \"year_quarter\")\\\n",
        "           .join(low_average, \"year_quarter\")\\\n",
        "           .join(close_average, \"year_quarter\")\\\n",
        "           .join(adj_close_average, \"year_quarter\")"
      ]
    },
    {
      "cell_type": "code",
      "execution_count": 26,
      "id": "d36a8170",
      "metadata": {
        "id": "d36a8170",
        "outputId": "827e26a2-918b-4d5f-b003-3fcfa0fe1b68",
        "colab": {
          "base_uri": "https://localhost:8080/"
        }
      },
      "outputs": [
        {
          "output_type": "stream",
          "name": "stdout",
          "text": [
            "+------------+------------------+------------------+------------------+------------------+\n",
            "|year_quarter|       open_avg_l1|       open_avg_l2|       open_avg_l3|       open_avg_l4|\n",
            "+------------+------------------+------------------+------------------+------------------+\n",
            "|      1999-2|              null|              null|              null|              null|\n",
            "|      1999-3|1.5172783136367798|              null|              null|              null|\n",
            "|      1999-4|1.8688963577151299|1.5172783136367798|              null|              null|\n",
            "|      2000-1| 2.627888672053814|1.8688963577151299|1.5172783136367798|              null|\n",
            "|      2000-2| 5.248697753936526| 2.627888672053814|1.8688963577151299|1.5172783136367798|\n",
            "+------------+------------------+------------------+------------------+------------------+\n",
            "only showing top 5 rows\n",
            "\n"
          ]
        }
      ],
      "source": [
        "open_average.show(5)"
      ]
    },
    {
      "cell_type": "code",
      "execution_count": 27,
      "id": "68ebe0a8",
      "metadata": {
        "id": "68ebe0a8"
      },
      "outputs": [],
      "source": [
        "sc = spark.sparkContext\n",
        "sc.setLogLevel(\"ERROR\")"
      ]
    },
    {
      "cell_type": "code",
      "execution_count": 28,
      "id": "e55afc68",
      "metadata": {
        "id": "e55afc68"
      },
      "outputs": [],
      "source": [
        "# drop rows with nulls (i.e. first four quarters)\n",
        "nvda = nvda.na.drop()"
      ]
    },
    {
      "cell_type": "code",
      "execution_count": 29,
      "id": "d5831ece",
      "metadata": {
        "id": "d5831ece",
        "outputId": "74d773d9-142d-42ea-b2e1-ffca93738eb0",
        "colab": {
          "base_uri": "https://localhost:8080/"
        }
      },
      "outputs": [
        {
          "output_type": "execute_result",
          "data": {
            "text/plain": [
              "Index(['year_quarter', 'stock', 'date', 'volume', 'open', 'close', 'high',\n",
              "       'low', 'adjusted_close', 'quarter', 'week_of_year', 'year',\n",
              "       'day_of_week', 'count', 'is_test', 'open_avg_l1', 'open_avg_l2',\n",
              "       'open_avg_l3', 'open_avg_l4', 'volume_avg_l1', 'volume_avg_l2',\n",
              "       'volume_avg_l3', 'volume_avg_l4', 'high_avg_l1', 'high_avg_l2',\n",
              "       'high_avg_l3', 'high_avg_l4', 'low_avg_l1', 'low_avg_l2', 'low_avg_l3',\n",
              "       'low_avg_l4', 'close_avg_l1', 'close_avg_l2', 'close_avg_l3',\n",
              "       'close_avg_l4', 'adj_close_avg_l1', 'adj_close_avg_l2',\n",
              "       'adj_close_avg_l3', 'adj_close_avg_l4'],\n",
              "      dtype='object')"
            ]
          },
          "metadata": {},
          "execution_count": 29
        }
      ],
      "source": [
        "nvda = nvda.toPandas()\n",
        "nvda.columns"
      ]
    },
    {
      "cell_type": "code",
      "execution_count": 30,
      "id": "bb71eb7b",
      "metadata": {
        "id": "bb71eb7b"
      },
      "outputs": [],
      "source": [
        "predictor_features = ['quarter', 'week_of_year', 'year', 'day_of_week', 'open_avg_l1', 'open_avg_l2',\n",
        "                      'open_avg_l3', 'open_avg_l4', 'volume_avg_l1', 'volume_avg_l2', 'volume_avg_l3', \n",
        "                      'volume_avg_l4', 'high_avg_l1', 'high_avg_l2', 'high_avg_l3', 'high_avg_l4', \n",
        "                      'low_avg_l1', 'low_avg_l2', 'low_avg_l3', 'low_avg_l4', 'close_avg_l1', 'close_avg_l2', \n",
        "                      'close_avg_l3', 'close_avg_l4', 'adj_close_avg_l1', 'adj_close_avg_l2', 'adj_close_avg_l3', \n",
        "                      'adj_close_avg_l4']"
      ]
    },
    {
      "cell_type": "code",
      "source": [
        "len(predictor_features)"
      ],
      "metadata": {
        "colab": {
          "base_uri": "https://localhost:8080/"
        },
        "id": "J09BBVmRSfFd",
        "outputId": "4ddf7e7a-63a2-4f39-fe49-d51018d890e9"
      },
      "id": "J09BBVmRSfFd",
      "execution_count": 31,
      "outputs": [
        {
          "output_type": "execute_result",
          "data": {
            "text/plain": [
              "28"
            ]
          },
          "metadata": {},
          "execution_count": 31
        }
      ]
    },
    {
      "cell_type": "code",
      "source": [
        "from sklearn.preprocessing import MinMaxScaler\n",
        "\n",
        "# scale the arrays to keep the values between 0 and 1 to match outcomes found in sigmoid or step functions that are used for activation.\n",
        "minMaxScale = MinMaxScaler()\n",
        "all_features = predictor_features.copy()\n",
        "all_features.append('adjusted_close')\n",
        "\n",
        "minMaxScale.fit(nvda[nvda.is_test == 0][all_features])\n",
        "testingset = minMaxScale.transform(nvda[nvda.is_test == 1][all_features])\n",
        "trainingset = minMaxScale.transform(nvda[nvda.is_test == 0][all_features])"
      ],
      "metadata": {
        "id": "_AMdBZUJ02bm"
      },
      "id": "_AMdBZUJ02bm",
      "execution_count": 32,
      "outputs": []
    },
    {
      "cell_type": "code",
      "execution_count": 49,
      "id": "a5fcb310",
      "metadata": {
        "id": "a5fcb310"
      },
      "outputs": [],
      "source": [
        "x_train, x_test = trainingset[:, 0:-1], testingset[:, 0:-1]\n",
        "y_train, y_test = trainingset[:, -1:], testingset[:, -1:]"
      ]
    },
    {
      "cell_type": "code",
      "execution_count": 35,
      "id": "6b91d685",
      "metadata": {
        "id": "6b91d685"
      },
      "outputs": [],
      "source": [
        "import numpy as np\n",
        "from keras import models, layers\n",
        "\n",
        "# Build a Sequential model\n",
        "model = models.Sequential()\n",
        "model.add(layers.LSTM(1, input_shape=(1,len(predictor_features)), return_sequences=True))\n",
        "model.add(layers.LSTM(1, input_shape=(1,len(predictor_features))))\n",
        "model.add(layers.Dense(1))\n",
        "model.compile(loss='mean_squared_error', optimizer='adam')"
      ]
    },
    {
      "cell_type": "code",
      "source": [
        "# Transform the testing and training data sets into three-dimensional arrays,  batch size, a number of time steps, and a number of features\n",
        "x_train = x_train.reshape((x_train.shape[0], 1, x_train.shape[1]))\n",
        "x_test = x_test.reshape((x_test.shape[0], 1, x_test.shape[1]))\n",
        "\n",
        "print('The shape of xtrain is {}: '.format(x_train.shape))\n",
        "print('The shape of xtest is {}: '.format(x_test.shape))\n"
      ],
      "metadata": {
        "colab": {
          "base_uri": "https://localhost:8080/"
        },
        "id": "tJp-E0g3S2jW",
        "outputId": "40a38d64-2f28-4bd0-ab9a-72b44fe7c04d"
      },
      "id": "tJp-E0g3S2jW",
      "execution_count": 36,
      "outputs": [
        {
          "output_type": "stream",
          "name": "stdout",
          "text": [
            "The shape of xtrain is (4531, 1, 28): \n",
            "The shape of xtest is (63, 1, 28): \n"
          ]
        }
      ]
    },
    {
      "cell_type": "code",
      "source": [
        "# train the model\n",
        "loss = model.fit(x_train, y_train, batch_size=10, epochs=100)"
      ],
      "metadata": {
        "colab": {
          "base_uri": "https://localhost:8080/"
        },
        "id": "7WMH9y5lFyJ0",
        "outputId": "572082aa-a722-45e8-bf93-af1885d410c4"
      },
      "id": "7WMH9y5lFyJ0",
      "execution_count": 37,
      "outputs": [
        {
          "output_type": "stream",
          "name": "stdout",
          "text": [
            "Epoch 1/100\n",
            "454/454 [==============================] - 7s 5ms/step - loss: 0.0248\n",
            "Epoch 2/100\n",
            "454/454 [==============================] - 3s 6ms/step - loss: 0.0064\n",
            "Epoch 3/100\n",
            "454/454 [==============================] - 3s 6ms/step - loss: 0.0027\n",
            "Epoch 4/100\n",
            "454/454 [==============================] - 3s 6ms/step - loss: 0.0018\n",
            "Epoch 5/100\n",
            "454/454 [==============================] - 3s 6ms/step - loss: 0.0014\n",
            "Epoch 6/100\n",
            "454/454 [==============================] - 3s 6ms/step - loss: 0.0012\n",
            "Epoch 7/100\n",
            "454/454 [==============================] - 3s 6ms/step - loss: 0.0012\n",
            "Epoch 8/100\n",
            "454/454 [==============================] - 3s 6ms/step - loss: 0.0010\n",
            "Epoch 9/100\n",
            "454/454 [==============================] - 2s 5ms/step - loss: 9.5117e-04\n",
            "Epoch 10/100\n",
            "454/454 [==============================] - 3s 6ms/step - loss: 8.2919e-04\n",
            "Epoch 11/100\n",
            "454/454 [==============================] - 3s 6ms/step - loss: 7.4801e-04\n",
            "Epoch 12/100\n",
            "454/454 [==============================] - 2s 5ms/step - loss: 6.9611e-04\n",
            "Epoch 13/100\n",
            "454/454 [==============================] - 3s 6ms/step - loss: 6.4542e-04\n",
            "Epoch 14/100\n",
            "454/454 [==============================] - 3s 6ms/step - loss: 6.1393e-04\n",
            "Epoch 15/100\n",
            "454/454 [==============================] - 3s 6ms/step - loss: 5.8559e-04\n",
            "Epoch 16/100\n",
            "454/454 [==============================] - 3s 6ms/step - loss: 5.6807e-04\n",
            "Epoch 17/100\n",
            "454/454 [==============================] - 3s 6ms/step - loss: 5.4610e-04\n",
            "Epoch 18/100\n",
            "454/454 [==============================] - 3s 6ms/step - loss: 5.2927e-04\n",
            "Epoch 19/100\n",
            "454/454 [==============================] - 2s 5ms/step - loss: 5.4240e-04\n",
            "Epoch 20/100\n",
            "454/454 [==============================] - 3s 6ms/step - loss: 5.2112e-04\n",
            "Epoch 21/100\n",
            "454/454 [==============================] - 2s 5ms/step - loss: 5.1759e-04\n",
            "Epoch 22/100\n",
            "454/454 [==============================] - 3s 6ms/step - loss: 5.1123e-04\n",
            "Epoch 23/100\n",
            "454/454 [==============================] - 3s 6ms/step - loss: 5.0287e-04\n",
            "Epoch 24/100\n",
            "454/454 [==============================] - 3s 6ms/step - loss: 4.9778e-04\n",
            "Epoch 25/100\n",
            "454/454 [==============================] - 3s 6ms/step - loss: 4.9148e-04\n",
            "Epoch 26/100\n",
            "454/454 [==============================] - 3s 6ms/step - loss: 4.9051e-04\n",
            "Epoch 27/100\n",
            "454/454 [==============================] - 3s 6ms/step - loss: 4.8709e-04\n",
            "Epoch 28/100\n",
            "454/454 [==============================] - 3s 6ms/step - loss: 4.7230e-04\n",
            "Epoch 29/100\n",
            "454/454 [==============================] - 3s 6ms/step - loss: 4.7266e-04\n",
            "Epoch 30/100\n",
            "454/454 [==============================] - 3s 6ms/step - loss: 4.7836e-04\n",
            "Epoch 31/100\n",
            "454/454 [==============================] - 3s 6ms/step - loss: 4.7218e-04\n",
            "Epoch 32/100\n",
            "454/454 [==============================] - 3s 6ms/step - loss: 4.6461e-04\n",
            "Epoch 33/100\n",
            "454/454 [==============================] - 3s 6ms/step - loss: 4.5589e-04\n",
            "Epoch 34/100\n",
            "454/454 [==============================] - 3s 6ms/step - loss: 4.5216e-04\n",
            "Epoch 35/100\n",
            "454/454 [==============================] - 3s 6ms/step - loss: 4.6272e-04\n",
            "Epoch 36/100\n",
            "454/454 [==============================] - 3s 6ms/step - loss: 4.4649e-04\n",
            "Epoch 37/100\n",
            "454/454 [==============================] - 3s 6ms/step - loss: 4.4591e-04\n",
            "Epoch 38/100\n",
            "454/454 [==============================] - 3s 6ms/step - loss: 4.3852e-04\n",
            "Epoch 39/100\n",
            "454/454 [==============================] - 3s 6ms/step - loss: 4.3826e-04\n",
            "Epoch 40/100\n",
            "454/454 [==============================] - 3s 6ms/step - loss: 4.2777e-04\n",
            "Epoch 41/100\n",
            "454/454 [==============================] - 3s 6ms/step - loss: 4.3818e-04\n",
            "Epoch 42/100\n",
            "454/454 [==============================] - 3s 6ms/step - loss: 4.2561e-04\n",
            "Epoch 43/100\n",
            "454/454 [==============================] - 3s 6ms/step - loss: 4.2536e-04\n",
            "Epoch 44/100\n",
            "454/454 [==============================] - 3s 6ms/step - loss: 4.1985e-04\n",
            "Epoch 45/100\n",
            "454/454 [==============================] - 3s 6ms/step - loss: 4.2961e-04\n",
            "Epoch 46/100\n",
            "454/454 [==============================] - 3s 6ms/step - loss: 4.1884e-04\n",
            "Epoch 47/100\n",
            "454/454 [==============================] - 3s 6ms/step - loss: 4.1817e-04\n",
            "Epoch 48/100\n",
            "454/454 [==============================] - 3s 6ms/step - loss: 4.0976e-04\n",
            "Epoch 49/100\n",
            "454/454 [==============================] - 3s 6ms/step - loss: 4.0956e-04\n",
            "Epoch 50/100\n",
            "454/454 [==============================] - 3s 6ms/step - loss: 4.1062e-04\n",
            "Epoch 51/100\n",
            "454/454 [==============================] - 3s 6ms/step - loss: 4.1098e-04\n",
            "Epoch 52/100\n",
            "454/454 [==============================] - 3s 6ms/step - loss: 4.0151e-04\n",
            "Epoch 53/100\n",
            "454/454 [==============================] - 3s 6ms/step - loss: 4.0670e-04\n",
            "Epoch 54/100\n",
            "454/454 [==============================] - 3s 6ms/step - loss: 4.1065e-04\n",
            "Epoch 55/100\n",
            "454/454 [==============================] - 3s 6ms/step - loss: 4.1255e-04\n",
            "Epoch 56/100\n",
            "454/454 [==============================] - 3s 6ms/step - loss: 3.9991e-04\n",
            "Epoch 57/100\n",
            "454/454 [==============================] - 3s 6ms/step - loss: 3.9888e-04\n",
            "Epoch 58/100\n",
            "454/454 [==============================] - 3s 6ms/step - loss: 3.9399e-04\n",
            "Epoch 59/100\n",
            "454/454 [==============================] - 3s 6ms/step - loss: 3.9973e-04\n",
            "Epoch 60/100\n",
            "454/454 [==============================] - 3s 6ms/step - loss: 4.0397e-04\n",
            "Epoch 61/100\n",
            "454/454 [==============================] - 3s 6ms/step - loss: 3.9263e-04\n",
            "Epoch 62/100\n",
            "454/454 [==============================] - 3s 6ms/step - loss: 3.9329e-04\n",
            "Epoch 63/100\n",
            "454/454 [==============================] - 3s 6ms/step - loss: 3.9197e-04\n",
            "Epoch 64/100\n",
            "454/454 [==============================] - 3s 6ms/step - loss: 4.0243e-04\n",
            "Epoch 65/100\n",
            "454/454 [==============================] - 3s 6ms/step - loss: 3.9183e-04\n",
            "Epoch 66/100\n",
            "454/454 [==============================] - 3s 6ms/step - loss: 3.8690e-04\n",
            "Epoch 67/100\n",
            "454/454 [==============================] - 3s 6ms/step - loss: 3.9409e-04\n",
            "Epoch 68/100\n",
            "454/454 [==============================] - 3s 6ms/step - loss: 3.8265e-04\n",
            "Epoch 69/100\n",
            "454/454 [==============================] - 3s 6ms/step - loss: 3.9280e-04\n",
            "Epoch 70/100\n",
            "454/454 [==============================] - 3s 6ms/step - loss: 3.9028e-04\n",
            "Epoch 71/100\n",
            "454/454 [==============================] - 3s 6ms/step - loss: 3.8395e-04\n",
            "Epoch 72/100\n",
            "454/454 [==============================] - 3s 6ms/step - loss: 3.8124e-04\n",
            "Epoch 73/100\n",
            "454/454 [==============================] - 3s 6ms/step - loss: 3.8345e-04\n",
            "Epoch 74/100\n",
            "454/454 [==============================] - 3s 6ms/step - loss: 3.8842e-04\n",
            "Epoch 75/100\n",
            "454/454 [==============================] - 3s 6ms/step - loss: 3.9141e-04\n",
            "Epoch 76/100\n",
            "454/454 [==============================] - 3s 6ms/step - loss: 3.8637e-04\n",
            "Epoch 77/100\n",
            "454/454 [==============================] - 3s 6ms/step - loss: 3.8859e-04\n",
            "Epoch 78/100\n",
            "454/454 [==============================] - 3s 6ms/step - loss: 3.7500e-04\n",
            "Epoch 79/100\n",
            "454/454 [==============================] - 3s 6ms/step - loss: 3.8540e-04\n",
            "Epoch 80/100\n",
            "454/454 [==============================] - 3s 6ms/step - loss: 3.7966e-04\n",
            "Epoch 81/100\n",
            "454/454 [==============================] - 3s 6ms/step - loss: 3.7624e-04\n",
            "Epoch 82/100\n",
            "454/454 [==============================] - 3s 6ms/step - loss: 3.7722e-04\n",
            "Epoch 83/100\n",
            "454/454 [==============================] - 3s 6ms/step - loss: 3.8017e-04\n",
            "Epoch 84/100\n",
            "454/454 [==============================] - 3s 6ms/step - loss: 3.7448e-04\n",
            "Epoch 85/100\n",
            "454/454 [==============================] - 3s 6ms/step - loss: 3.7044e-04\n",
            "Epoch 86/100\n",
            "454/454 [==============================] - 3s 6ms/step - loss: 3.6998e-04\n",
            "Epoch 87/100\n",
            "454/454 [==============================] - 3s 6ms/step - loss: 3.7799e-04\n",
            "Epoch 88/100\n",
            "454/454 [==============================] - 3s 6ms/step - loss: 3.6731e-04\n",
            "Epoch 89/100\n",
            "454/454 [==============================] - 3s 6ms/step - loss: 3.8331e-04\n",
            "Epoch 90/100\n",
            "454/454 [==============================] - 3s 6ms/step - loss: 3.7252e-04\n",
            "Epoch 91/100\n",
            "454/454 [==============================] - 3s 6ms/step - loss: 3.7656e-04\n",
            "Epoch 92/100\n",
            "454/454 [==============================] - 3s 6ms/step - loss: 3.7277e-04\n",
            "Epoch 93/100\n",
            "454/454 [==============================] - 3s 6ms/step - loss: 3.7684e-04\n",
            "Epoch 94/100\n",
            "454/454 [==============================] - 3s 6ms/step - loss: 3.7385e-04\n",
            "Epoch 95/100\n",
            "454/454 [==============================] - 3s 6ms/step - loss: 3.7320e-04\n",
            "Epoch 96/100\n",
            "454/454 [==============================] - 3s 6ms/step - loss: 3.6814e-04\n",
            "Epoch 97/100\n",
            "454/454 [==============================] - 3s 6ms/step - loss: 3.7412e-04\n",
            "Epoch 98/100\n",
            "454/454 [==============================] - 2s 5ms/step - loss: 3.7556e-04\n",
            "Epoch 99/100\n",
            "454/454 [==============================] - 3s 6ms/step - loss: 3.7208e-04\n",
            "Epoch 100/100\n",
            "454/454 [==============================] - 3s 6ms/step - loss: 3.6964e-04\n"
          ]
        }
      ]
    },
    {
      "cell_type": "code",
      "source": [
        "# testing the model\n",
        "predict = model.predict(x_test)\n",
        "predict"
      ],
      "metadata": {
        "colab": {
          "base_uri": "https://localhost:8080/"
        },
        "id": "77WCd-gfF1H1",
        "outputId": "52921e04-7ee7-46ce-a1bc-e80800cbcf41"
      },
      "id": "77WCd-gfF1H1",
      "execution_count": 47,
      "outputs": [
        {
          "output_type": "execute_result",
          "data": {
            "text/plain": [
              "array([[1.0086792 ],\n",
              "       [1.0079856 ],\n",
              "       [1.0072887 ],\n",
              "       [1.0065894 ],\n",
              "       [1.0058868 ],\n",
              "       [1.0049922 ],\n",
              "       [1.0042851 ],\n",
              "       [1.0035751 ],\n",
              "       [1.002862  ],\n",
              "       [1.002146  ],\n",
              "       [1.0012414 ],\n",
              "       [1.0005208 ],\n",
              "       [0.99979705],\n",
              "       [0.9990701 ],\n",
              "       [0.9983404 ],\n",
              "       [0.99742573],\n",
              "       [0.9966911 ],\n",
              "       [0.9959534 ],\n",
              "       [0.99521273],\n",
              "       [0.99354416],\n",
              "       [0.9927953 ],\n",
              "       [0.99204344],\n",
              "       [0.9912881 ],\n",
              "       [0.9905301 ],\n",
              "       [0.98959494],\n",
              "       [0.9888318 ],\n",
              "       [0.9880655 ],\n",
              "       [0.98729557],\n",
              "       [0.9865227 ],\n",
              "       [0.98557776],\n",
              "       [0.98479956],\n",
              "       [0.98401845],\n",
              "       [0.98323375],\n",
              "       [0.98244554],\n",
              "       [0.98149055],\n",
              "       [0.98069745],\n",
              "       [0.97990113],\n",
              "       [0.979101  ],\n",
              "       [0.97829753],\n",
              "       [0.9773324 ],\n",
              "       [0.97652394],\n",
              "       [0.975712  ],\n",
              "       [0.97489643],\n",
              "       [0.9740776 ],\n",
              "       [0.973102  ],\n",
              "       [0.972278  ],\n",
              "       [0.97145003],\n",
              "       [0.9706186 ],\n",
              "       [0.96978366],\n",
              "       [0.96879804],\n",
              "       [0.9679579 ],\n",
              "       [0.9671139 ],\n",
              "       [0.96626633],\n",
              "       [0.96541506],\n",
              "       [0.9644195 ],\n",
              "       [0.9635629 ],\n",
              "       [0.96270263],\n",
              "       [0.9618383 ],\n",
              "       [0.96097016],\n",
              "       [0.9599648 ],\n",
              "       [0.9590914 ],\n",
              "       [0.95733327],\n",
              "       [0.95644814]], dtype=float32)"
            ]
          },
          "metadata": {},
          "execution_count": 47
        }
      ]
    },
    {
      "cell_type": "code",
      "source": [
        "ytest_to_inverse = nvda[nvda.is_test == 1]['adjusted_close']\n",
        "np.array(ytest_to_inverse)\n",
        "ytest_to_inverse=ytest_to_inverse[:,np.newaxis]\n",
        "minMaxScale.fit_transform(ytest_to_inverse)\n",
        "predict = minMaxScale.inverse_transform(predict)\n",
        "y_test = minMaxScale.inverse_transform(y_test)\n",
        "y_test"
      ],
      "metadata": {
        "colab": {
          "base_uri": "https://localhost:8080/"
        },
        "id": "n5k9mi4iNHnh",
        "outputId": "e340b76f-467a-4ae5-e71d-010b608cf11f"
      },
      "id": "n5k9mi4iNHnh",
      "execution_count": 50,
      "outputs": [
        {
          "output_type": "stream",
          "name": "stderr",
          "text": [
            "/usr/local/lib/python3.7/dist-packages/ipykernel_launcher.py:3: FutureWarning: Support for multi-dimensional indexing (e.g. `obj[:, None]`) is deprecated and will be removed in a future version.  Convert to a numpy array before indexing instead.\n",
            "  This is separate from the ipykernel package so we can avoid doing imports until\n"
          ]
        },
        {
          "output_type": "execute_result",
          "data": {
            "text/plain": [
              "array([[286.20024678],\n",
              "       [283.786841  ],\n",
              "       [283.70179048],\n",
              "       [283.96581048],\n",
              "       [283.4856114 ],\n",
              "       [283.08692088],\n",
              "       [283.58838258],\n",
              "       [284.59840074],\n",
              "       [284.42828889],\n",
              "       [284.94392929],\n",
              "       [285.38691876],\n",
              "       [284.48499284],\n",
              "       [283.92860088],\n",
              "       [284.74369718],\n",
              "       [285.08568916],\n",
              "       [284.5771327 ],\n",
              "       [284.7295239 ],\n",
              "       [285.73954206],\n",
              "       [286.67513561],\n",
              "       [286.14000086],\n",
              "       [285.63144981],\n",
              "       [285.75194165],\n",
              "       [285.02366955],\n",
              "       [285.29300521],\n",
              "       [284.640926  ],\n",
              "       [283.68761179],\n",
              "       [282.97528666],\n",
              "       [281.29192667],\n",
              "       [280.3208918 ],\n",
              "       [279.78576246],\n",
              "       [282.02197245],\n",
              "       [282.31257074],\n",
              "       [282.72898192],\n",
              "       [281.78807271],\n",
              "       [281.55240199],\n",
              "       [281.84831863],\n",
              "       [282.19562627],\n",
              "       [281.93514825],\n",
              "       [281.41773416],\n",
              "       [281.07574759],\n",
              "       [280.81349587],\n",
              "       [280.07813443],\n",
              "       [279.7928491 ],\n",
              "       [279.66349693],\n",
              "       [281.0615716 ],\n",
              "       [281.56126232],\n",
              "       [281.03499061],\n",
              "       [280.47505397],\n",
              "       [280.59909048],\n",
              "       [280.86133949],\n",
              "       [281.06334259],\n",
              "       [281.00486765],\n",
              "       [281.35748824],\n",
              "       [280.38468239],\n",
              "       [280.58314351],\n",
              "       [280.92158541],\n",
              "       [280.26596153],\n",
              "       [281.27952166],\n",
              "       [280.57073851],\n",
              "       [280.23052292],\n",
              "       [279.41542121],\n",
              "       [278.37173812],\n",
              "       [279.328597  ]])"
            ]
          },
          "metadata": {},
          "execution_count": 50
        }
      ]
    },
    {
      "cell_type": "code",
      "execution_count": 51,
      "id": "009c74e0",
      "metadata": {
        "id": "009c74e0",
        "outputId": "dd160786-10f6-4bac-ca86-5e3f784b51da",
        "colab": {
          "base_uri": "https://localhost:8080/"
        }
      },
      "outputs": [
        {
          "output_type": "stream",
          "name": "stdout",
          "text": [
            "1.4102273131338852\n",
            "2.6615539342421997\n",
            "1.6314269625828182\n"
          ]
        }
      ],
      "source": [
        "print(metrics.mean_absolute_error(y_test, predict))\n",
        "print(metrics.mean_squared_error(y_test, predict))\n",
        "print(np.sqrt(metrics.mean_squared_error(y_test, predict)))\n",
        "# print(metrics.r2_score(y_test, predict))"
      ]
    },
    {
      "cell_type": "code",
      "execution_count": 52,
      "id": "d94c88fd",
      "metadata": {
        "id": "d94c88fd",
        "outputId": "f9d01986-9286-4d8b-ef2f-2a6b21197d66",
        "colab": {
          "base_uri": "https://localhost:8080/"
        }
      },
      "outputs": [
        {
          "output_type": "execute_result",
          "data": {
            "text/plain": [
              "[([286.20024678231226], array([284.10672], dtype=float32)),\n",
              " ([283.7868409996066], array([284.07422], dtype=float32)),\n",
              " ([283.70179048168063], array([284.04156], dtype=float32)),\n",
              " ([283.96581047705325], array([284.0088], dtype=float32)),\n",
              " ([283.4856114026413], array([283.9759], dtype=float32)),\n",
              " ([283.086920877104], array([283.93396], dtype=float32)),\n",
              " ([283.5883825809974], array([283.90082], dtype=float32)),\n",
              " ([284.59840074205994], array([283.86755], dtype=float32)),\n",
              " ([284.42828889103515], array([283.83414], dtype=float32)),\n",
              " ([284.9439292863072], array([283.80057], dtype=float32)),\n",
              " ([285.38691875912644], array([283.7582], dtype=float32)),\n",
              " ([284.48499284137677], array([283.72443], dtype=float32)),\n",
              " ([283.92860087546063], array([283.6905], dtype=float32)),\n",
              " ([284.74369717937907], array([283.65643], dtype=float32)),\n",
              " ([285.08568916216115], array([283.62225], dtype=float32)),\n",
              " ([284.5771327049921], array([283.57938], dtype=float32)),\n",
              " ([284.7295238955868], array([283.54495], dtype=float32)),\n",
              " ([285.7395420566493], array([283.5104], dtype=float32)),\n",
              " ([286.67513560694016], array([283.47568], dtype=float32)),\n",
              " ([286.14000086291924], array([283.3975], dtype=float32)),\n",
              " ([285.63144981333653], array([283.36243], dtype=float32)),\n",
              " ([285.75194165212264], array([283.32718], dtype=float32)),\n",
              " ([285.0236695544492], array([283.29178], dtype=float32)),\n",
              " ([285.2930052071922], array([283.25626], dtype=float32)),\n",
              " ([284.640926001023], array([283.21243], dtype=float32)),\n",
              " ([283.68761179030207], array([283.1767], dtype=float32)),\n",
              " ([282.9752866647397], array([283.14078], dtype=float32)),\n",
              " ([281.2919266680264], array([283.10468], dtype=float32)),\n",
              " ([280.3208917968755], array([283.06848], dtype=float32)),\n",
              " ([279.7857624604409], array([283.02417], dtype=float32)),\n",
              " ([282.0219724540188], array([282.9877], dtype=float32)),\n",
              " ([282.31257073624334], array([282.9511], dtype=float32)),\n",
              " ([282.7289819222107], array([282.91437], dtype=float32)),\n",
              " ([281.7880727145495], array([282.8774], dtype=float32)),\n",
              " ([281.5524019905545], array([282.83267], dtype=float32)),\n",
              " ([281.84831863394254], array([282.7955], dtype=float32)),\n",
              " ([282.19562627409505], array([282.75818], dtype=float32)),\n",
              " ([281.93514824777384], array([282.7207], dtype=float32)),\n",
              " ([281.41773416418295], array([282.68304], dtype=float32)),\n",
              " ([281.07574758898716], array([282.63782], dtype=float32)),\n",
              " ([280.8134958743471], array([282.5999], dtype=float32)),\n",
              " ([280.07813443098433], array([282.56186], dtype=float32)),\n",
              " ([279.792849102337], array([282.52365], dtype=float32)),\n",
              " ([279.66349693333586], array([282.4853], dtype=float32)),\n",
              " ([281.0615716014018], array([282.43958], dtype=float32)),\n",
              " ([281.5612623207695], array([282.40097], dtype=float32)),\n",
              " ([281.0349906107567], array([282.36215], dtype=float32)),\n",
              " ([280.4750539719959], array([282.3232], dtype=float32)),\n",
              " ([280.5990904836267], array([282.2841], dtype=float32)),\n",
              " ([280.86133949447367], array([282.23788], dtype=float32)),\n",
              " ([281.06334258592756], array([282.19852], dtype=float32)),\n",
              " ([281.0048676510602], array([282.15897], dtype=float32)),\n",
              " ([281.35748824478986], array([282.11926], dtype=float32)),\n",
              " ([280.3846823891132], array([282.07938], dtype=float32)),\n",
              " ([280.5831435115156], array([282.0327], dtype=float32)),\n",
              " ([280.9215854138667], array([281.99258], dtype=float32)),\n",
              " ([280.2659615348528], array([281.95227], dtype=float32)),\n",
              " ([281.2795216649668], array([281.91174], dtype=float32)),\n",
              " ([280.5707385084559], array([281.87106], dtype=float32)),\n",
              " ([280.2305229177859], array([281.82397], dtype=float32)),\n",
              " ([279.41542120628117], array([281.78302], dtype=float32)),\n",
              " ([278.3717381164706], array([281.70065], dtype=float32)),\n",
              " ([279.3285970000362], array([281.65918], dtype=float32))]"
            ]
          },
          "metadata": {},
          "execution_count": 52
        }
      ],
      "source": [
        "[(y_test.tolist()[i], predict[i]) for i in range(len(y_test))]"
      ]
    },
    {
      "cell_type": "code",
      "source": [
        "from matplotlib import pyplot as plt\n",
        "# Combine the predicted and ytest arrays into a single unified array\n",
        "combined_array = np.concatenate((y_test, predict), axis = 1)\n",
        "# plot a side by side comparison of Actual versus Predicted stock to compare trends\n",
        "plt.figure(figsize=(16,6))\n",
        "plt.plot(combined_array[:,0],color='red', label='actual')\n",
        "plt.plot(combined_array[:,1],color='blue', label='predicted')\n",
        "plt.legend(loc = 'lower right')\n",
        "plt.title('Actual vs. Predicted ' + \"NVDA\" + ' Stock')\n",
        "plt.xlabel('Days')\n",
        "plt.ylabel('Scaled Quotes')\n",
        "plt.show()"
      ],
      "metadata": {
        "colab": {
          "base_uri": "https://localhost:8080/",
          "height": 404
        },
        "id": "TizWL6l_rPz_",
        "outputId": "9a52dbb5-e0df-453e-f22b-f9a44259dd0d"
      },
      "id": "TizWL6l_rPz_",
      "execution_count": 68,
      "outputs": [
        {
          "output_type": "display_data",
          "data": {
            "text/plain": [
              "<Figure size 1152x432 with 1 Axes>"
            ],
            "image/png": "[encoded data removed]"
          },
          "metadata": {
            "needs_background": "light"
          }
        }
      ]
    },
    {
      "cell_type": "code",
      "execution_count": 79,
      "id": "d79068d2",
      "metadata": {
        "id": "d79068d2",
        "outputId": "9f42f9c3-46a6-4cd0-b5bd-543761601c87",
        "colab": {
          "base_uri": "https://localhost:8080/"
        }
      },
      "outputs": [
        {
          "output_type": "execute_result",
          "data": {
            "text/plain": [
              "[Row(stock='NVDA', date='2018-11-02', volume=11320900, open=217.72999572753906, close=214.9199981689453, high=222.0, low=210.2100067138672, adjusted_close=214.9199981689453),\n",
              " Row(stock='NVDA', date='2018-11-01', volume=14163200, open=212.3000030517578, close=218.11000061035156, high=218.49000549316406, low=207.19000244140625, adjusted_close=218.11000061035156),\n",
              " Row(stock='NVDA', date='2018-10-31', volume=18644300, open=209.64999389648438, close=210.8300018310547, high=212.58999633789062, low=204.00999450683594, adjusted_close=210.8300018310547),\n",
              " Row(stock='NVDA', date='2018-10-30', volume=20179800, open=186.5500030517578, close=203.0, high=203.39999389648438, low=185.6199951171875, adjusted_close=203.0),\n",
              " Row(stock='NVDA', date='2018-10-29', volume=18950400, open=203.99000549316406, close=185.6199951171875, high=204.1300048828125, low=176.00999450683594, adjusted_close=185.6199951171875),\n",
              " Row(stock='NVDA', date='2018-10-26', volume=16619600, open=198.30999755859375, close=198.2899932861328, high=204.83999633789062, low=193.1199951171875, adjusted_close=198.2899932861328),\n",
              " Row(stock='NVDA', date='2018-10-25', volume=23793000, open=195.47000122070312, close=207.83999633789062, high=209.75, low=193.67999267578125, adjusted_close=207.83999633789062),\n",
              " Row(stock='NVDA', date='2018-10-24', volume=22107200, open=219.50999450683594, close=199.41000366210938, high=221.38999938964844, low=198.85000610351562, adjusted_close=199.41000366210938),\n",
              " Row(stock='NVDA', date='2018-10-23', volume=15660900, open=220.42999267578125, close=221.05999755859375, high=224.19000244140625, low=216.7100067138672, adjusted_close=221.05999755859375),\n",
              " Row(stock='NVDA', date='2018-10-22', volume=9221100, open=231.27999877929688, close=231.22000122070312, high=235.32000732421875, low=227.07000732421875, adjusted_close=231.22000122070312)]"
            ]
          },
          "metadata": {},
          "execution_count": 79
        }
      ],
      "source": [
        "nvda.head(10)"
      ]
    },
    {
      "cell_type": "code",
      "execution_count": 80,
      "id": "8127fe3a",
      "metadata": {
        "id": "8127fe3a"
      },
      "outputs": [],
      "source": [
        "# try to engineer features a bit differently\n",
        "# predict for the last 60 days, use last 7, 14, 60, 90, 120 day moving averages as predictors\n",
        "\n",
        "nvda = df.where(df.stock == \"NVDA\")\n",
        "nvda = nvda.withColumn(\"quarter\", quarter(col(\"date\")))\n",
        "nvda = nvda.withColumn(\"week_of_year\", weekofyear(col(\"date\")))\n",
        "nvda = nvda.withColumn(\"year\", year(col(\"date\")))\n",
        "nvda = nvda.withColumn(\"day_of_week\", dayofweek(col(\"date\")))"
      ]
    },
    {
      "cell_type": "code",
      "execution_count": 81,
      "id": "7971d94d",
      "metadata": {
        "id": "7971d94d"
      },
      "outputs": [],
      "source": [
        "w = (Window.orderBy(col(\"date\")).rowsBetween(-7, -1))\n",
        "nvda = nvda.withColumn('open_avg_l7', avg('open').over(w)).orderBy('date')\n",
        "nvda = nvda.withColumn('lagged_open_avg_l7', lag('open_avg_l7', 60).over(Window.orderBy(col(\"date\"))))\n",
        "nvda = nvda.drop('open_avg_l7')\n",
        "\n",
        "w = (Window.orderBy(col(\"date\")).rowsBetween(-14, -1))\n",
        "nvda = nvda.withColumn('open_avg_l14', avg('open').over(w)).orderBy('date')\n",
        "nvda = nvda.withColumn('lagged_open_avg_l14', lag('open_avg_l14', 60).over(Window.orderBy(col(\"date\"))))\n",
        "nvda = nvda.drop('open_avg_l14')\n",
        "\n",
        "w = (Window.orderBy(col(\"date\")).rowsBetween(-60, -1))\n",
        "nvda = nvda.withColumn('open_avg_l60', avg('open').over(w)).orderBy('date')\n",
        "nvda = nvda.withColumn('lagged_open_avg_l60', lag('open_avg_l60', 60).over(Window.orderBy(col(\"date\"))))\n",
        "nvda = nvda.drop('open_avg_l60')\n",
        "\n",
        "w = (Window.orderBy(col(\"date\")).rowsBetween(-90, -1))\n",
        "nvda = nvda.withColumn('open_avg_l90', avg('open').over(w)).orderBy('date')\n",
        "nvda = nvda.withColumn('lagged_open_avg_l90', lag('open_avg_l90', 60).over(Window.orderBy(col(\"date\"))))\n",
        "nvda = nvda.drop('open_avg_l90')\n",
        "\n",
        "w = (Window.orderBy(col(\"date\")).rowsBetween(-120, -1))\n",
        "nvda = nvda.withColumn('open_avg_l120', avg('open').over(w)).orderBy('date')\n",
        "nvda = nvda.withColumn('lagged_open_avg_l120', lag('open_avg_l120', 60).over(Window.orderBy(col(\"date\"))))\n",
        "nvda = nvda.drop('open_avg_l120')"
      ]
    },
    {
      "cell_type": "code",
      "source": [
        "nvda.columns"
      ],
      "metadata": {
        "colab": {
          "base_uri": "https://localhost:8080/"
        },
        "id": "JFv9pr6AvrO1",
        "outputId": "78ba90ef-adce-4775-e80b-9cd3d6582287"
      },
      "id": "JFv9pr6AvrO1",
      "execution_count": 82,
      "outputs": [
        {
          "output_type": "execute_result",
          "data": {
            "text/plain": [
              "['stock',\n",
              " 'date',\n",
              " 'volume',\n",
              " 'open',\n",
              " 'close',\n",
              " 'high',\n",
              " 'low',\n",
              " 'adjusted_close',\n",
              " 'quarter',\n",
              " 'week_of_year',\n",
              " 'year',\n",
              " 'day_of_week',\n",
              " 'lagged_open_avg_l7',\n",
              " 'lagged_open_avg_l14',\n",
              " 'lagged_open_avg_l60',\n",
              " 'lagged_open_avg_l90',\n",
              " 'lagged_open_avg_l120']"
            ]
          },
          "metadata": {},
          "execution_count": 82
        }
      ]
    },
    {
      "cell_type": "code",
      "execution_count": 83,
      "id": "f401331a",
      "metadata": {
        "id": "f401331a"
      },
      "outputs": [],
      "source": [
        "w = (Window.orderBy(col(\"date\")).rowsBetween(-7, -1))\n",
        "nvda = nvda.withColumn('close_avg_l7', avg('close').over(w)).orderBy('date')\n",
        "nvda = nvda.withColumn('lagged_close_avg_l7', lag('close_avg_l7', 60).over(Window.orderBy(col(\"date\"))))\n",
        "nvda = nvda.drop('close_avg_l7')\n",
        "\n",
        "w = (Window.orderBy(col(\"date\")).rowsBetween(-14, -1))\n",
        "nvda = nvda.withColumn('close_avg_l14', avg('close').over(w)).orderBy('date')\n",
        "nvda = nvda.withColumn('lagged_close_avg_l14', lag('close_avg_l14', 60).over(Window.orderBy(col(\"date\"))))\n",
        "nvda = nvda.drop('close_avg_l14')\n",
        "\n",
        "w = (Window.orderBy(col(\"date\")).rowsBetween(-60, -1))\n",
        "nvda = nvda.withColumn('close_avg_l60', avg('close').over(w)).orderBy('date')\n",
        "nvda = nvda.withColumn('lagged_close_avg_l60', lag('close_avg_l60', 60).over(Window.orderBy(col(\"date\"))))\n",
        "nvda = nvda.drop('close_avg_l60')\n",
        "\n",
        "w = (Window.orderBy(col(\"date\")).rowsBetween(-90, -1))\n",
        "nvda = nvda.withColumn('close_avg_l90', avg('close').over(w)).orderBy('date')\n",
        "nvda = nvda.withColumn('lagged_close_avg_l90', lag('close_avg_l90', 60).over(Window.orderBy(col(\"date\"))))\n",
        "nvda = nvda.drop('close_avg_l90')\n",
        "\n",
        "w = (Window.orderBy(col(\"date\")).rowsBetween(-120, -1))\n",
        "nvda = nvda.withColumn('close_avg_l120', avg('close').over(w)).orderBy('date')\n",
        "nvda = nvda.withColumn('lagged_close_avg_l120', lag('close_avg_l120', 60).over(Window.orderBy(col(\"date\"))))\n",
        "nvda = nvda.drop('close_avg_l120')"
      ]
    },
    {
      "cell_type": "code",
      "execution_count": 84,
      "id": "e01b2941",
      "metadata": {
        "id": "e01b2941"
      },
      "outputs": [],
      "source": [
        "w = (Window.orderBy(col(\"date\")).rowsBetween(-7, -1))\n",
        "nvda = nvda.withColumn('high_avg_l7', avg('high').over(w)).orderBy('date')\n",
        "nvda = nvda.withColumn('lagged_high_avg_l7', lag('high_avg_l7', 60).over(Window.orderBy(col(\"date\"))))\n",
        "nvda = nvda.drop('high_avg_l7')\n",
        "\n",
        "w = (Window.orderBy(col(\"date\")).rowsBetween(-14, -1))\n",
        "nvda = nvda.withColumn('high_avg_l14', avg('high').over(w)).orderBy('date')\n",
        "nvda = nvda.withColumn('lagged_high_avg_l14', lag('high_avg_l14', 60).over(Window.orderBy(col(\"date\"))))\n",
        "nvda = nvda.drop('high_avg_l14')\n",
        "\n",
        "w = (Window.orderBy(col(\"date\")).rowsBetween(-60, -1))\n",
        "nvda = nvda.withColumn('high_avg_l60', avg('high').over(w)).orderBy('date')\n",
        "nvda = nvda.withColumn('lagged_high_avg_l60', lag('high_avg_l60', 60).over(Window.orderBy(col(\"date\"))))\n",
        "nvda = nvda.drop('high_avg_l60')\n",
        "\n",
        "w = (Window.orderBy(col(\"date\")).rowsBetween(-90, -1))\n",
        "nvda = nvda.withColumn('high_avg_l90', avg('high').over(w)).orderBy('date')\n",
        "nvda = nvda.withColumn('lagged_high_avg_l90', lag('high_avg_l90', 60).over(Window.orderBy(col(\"date\"))))\n",
        "nvda = nvda.drop('high_avg_l90')\n",
        "\n",
        "w = (Window.orderBy(col(\"date\")).rowsBetween(-120, -1))\n",
        "nvda = nvda.withColumn('high_avg_l120', avg('high').over(w)).orderBy('date')\n",
        "nvda = nvda.withColumn('lagged_high_avg_l120', lag('high_avg_l120', 60).over(Window.orderBy(col(\"date\"))))\n",
        "nvda = nvda.drop('high_avg_l120')"
      ]
    },
    {
      "cell_type": "code",
      "execution_count": 85,
      "id": "daf99e43",
      "metadata": {
        "id": "daf99e43"
      },
      "outputs": [],
      "source": [
        "w = (Window.orderBy(col(\"date\")).rowsBetween(-7, -1))\n",
        "nvda = nvda.withColumn('low_avg_l7', avg('low').over(w)).orderBy('date')\n",
        "nvda = nvda.withColumn('lagged_low_avg_l7', lag('low_avg_l7', 60).over(Window.orderBy(col(\"date\"))))\n",
        "nvda = nvda.drop('low_avg_l7')\n",
        "\n",
        "w = (Window.orderBy(col(\"date\")).rowsBetween(-14, -1))\n",
        "nvda = nvda.withColumn('low_avg_l14', avg('low').over(w)).orderBy('date')\n",
        "nvda = nvda.withColumn('lagged_low_avg_l14', lag('low_avg_l14', 60).over(Window.orderBy(col(\"date\"))))\n",
        "nvda = nvda.drop('low_avg_l14')\n",
        "\n",
        "w = (Window.orderBy(col(\"date\")).rowsBetween(-60, -1))\n",
        "nvda = nvda.withColumn('low_avg_l60', avg('low').over(w)).orderBy('date')\n",
        "nvda = nvda.withColumn('lagged_low_avg_l60', lag('low_avg_l60', 60).over(Window.orderBy(col(\"date\"))))\n",
        "nvda = nvda.drop('low_avg_l60')\n",
        "\n",
        "w = (Window.orderBy(col(\"date\")).rowsBetween(-90, -1))\n",
        "nvda = nvda.withColumn('low_avg_l90', avg('low').over(w)).orderBy('date')\n",
        "nvda = nvda.withColumn('lagged_low_avg_l90', lag('low_avg_l90', 60).over(Window.orderBy(col(\"date\"))))\n",
        "nvda = nvda.drop('low_avg_l90')\n",
        "\n",
        "w = (Window.orderBy(col(\"date\")).rowsBetween(-120, -1))\n",
        "nvda = nvda.withColumn('low_avg_l120', avg('low').over(w)).orderBy('date')\n",
        "nvda = nvda.withColumn('lagged_low_avg_l120', lag('low_avg_l120', 60).over(Window.orderBy(col(\"date\"))))\n",
        "nvda = nvda.drop('low_avg_l120')"
      ]
    },
    {
      "cell_type": "code",
      "execution_count": 86,
      "id": "c754a3e8",
      "metadata": {
        "id": "c754a3e8"
      },
      "outputs": [],
      "source": [
        "w = (Window.orderBy(col(\"date\")).rowsBetween(-7, -1))\n",
        "nvda = nvda.withColumn('adjusted_close_avg_l7', avg('adjusted_close').over(w)).orderBy('date')\n",
        "nvda = nvda.withColumn('lagged_adjusted_close_avg_l7', lag('adjusted_close_avg_l7', 60).over(Window.orderBy(col(\"date\"))))\n",
        "nvda = nvda.drop('adjusted_close_avg_l7')\n",
        "\n",
        "w = (Window.orderBy(col(\"date\")).rowsBetween(-14, -1))\n",
        "nvda = nvda.withColumn('adjusted_close_avg_l14', avg('adjusted_close').over(w)).orderBy('date')\n",
        "nvda = nvda.withColumn('lagged_adjusted_close_avg_l14', lag('adjusted_close_avg_l14', 60).over(Window.orderBy(col(\"date\"))))\n",
        "nvda = nvda.drop('adjusted_close_avg_l14')\n",
        "\n",
        "w = (Window.orderBy(col(\"date\")).rowsBetween(-60, -1))\n",
        "nvda = nvda.withColumn('adjusted_close_avg_l60', avg('adjusted_close').over(w)).orderBy('date')\n",
        "nvda = nvda.withColumn('lagged_adjusted_close_avg_l60', lag('adjusted_close_avg_l60', 60).over(Window.orderBy(col(\"date\"))))\n",
        "nvda = nvda.drop('adjusted_close_avg_l60')\n",
        "\n",
        "w = (Window.orderBy(col(\"date\")).rowsBetween(-90, -1))\n",
        "nvda = nvda.withColumn('adjusted_close_avg_l90', avg('adjusted_close').over(w)).orderBy('date')\n",
        "nvda = nvda.withColumn('lagged_adjusted_close_avg_l90', lag('adjusted_close_avg_l90', 60).over(Window.orderBy(col(\"date\"))))\n",
        "nvda = nvda.drop('adjusted_close_avg_l90')\n",
        "\n",
        "w = (Window.orderBy(col(\"date\")).rowsBetween(-120, -1))\n",
        "nvda = nvda.withColumn('adjusted_close_avg_l120', avg('adjusted_close').over(w)).orderBy('date')\n",
        "nvda = nvda.withColumn('lagged_adjusted_close_avg_l120', lag('adjusted_close_avg_l120', 60).over(Window.orderBy(col(\"date\"))))\n",
        "nvda = nvda.drop('adjusted_close_avg_l120')"
      ]
    },
    {
      "cell_type": "code",
      "execution_count": 87,
      "id": "2b75da2c",
      "metadata": {
        "id": "2b75da2c"
      },
      "outputs": [],
      "source": [
        "from datetime import datetime, timedelta\n",
        "\n",
        "last_day = nvda.orderBy('date', ascending=False).select('date').first()[0]\n",
        "threshold = datetime.strptime(last_day, '%Y-%m-%d').date() - timedelta(days=60)\n",
        "nvda = nvda.withColumn(\"is_test\", when(col(\"date\") >= threshold, 1).otherwise(0))"
      ]
    },
    {
      "cell_type": "code",
      "execution_count": 88,
      "id": "db07447a",
      "metadata": {
        "id": "db07447a",
        "outputId": "5d5428cd-0cb6-4a07-e5f2-fd0cd6f15e6e",
        "colab": {
          "base_uri": "https://localhost:8080/"
        }
      },
      "outputs": [
        {
          "output_type": "execute_result",
          "data": {
            "text/plain": [
              "4980"
            ]
          },
          "metadata": {},
          "execution_count": 88
        }
      ],
      "source": [
        "nvda.count()"
      ]
    },
    {
      "cell_type": "code",
      "execution_count": 89,
      "id": "d3d52724",
      "metadata": {
        "id": "d3d52724"
      },
      "outputs": [],
      "source": [
        "# drop rows with nulls (i.e. first four quarters)\n",
        "nvda = nvda.na.drop()"
      ]
    },
    {
      "cell_type": "code",
      "execution_count": 90,
      "id": "e61f1199",
      "metadata": {
        "id": "e61f1199",
        "outputId": "8f2688ec-b5de-48a7-f1a0-3c54b959e04f",
        "colab": {
          "base_uri": "https://localhost:8080/"
        }
      },
      "outputs": [
        {
          "output_type": "execute_result",
          "data": {
            "text/plain": [
              "4919"
            ]
          },
          "metadata": {},
          "execution_count": 90
        }
      ],
      "source": [
        "nvda.count()"
      ]
    },
    {
      "cell_type": "code",
      "execution_count": 91,
      "id": "08b41605",
      "metadata": {
        "id": "08b41605",
        "outputId": "7f2d6af8-0e5c-46f9-bd12-69ac8596e8e7",
        "colab": {
          "base_uri": "https://localhost:8080/"
        }
      },
      "outputs": [
        {
          "output_type": "execute_result",
          "data": {
            "text/plain": [
              "Index(['stock', 'date', 'volume', 'open', 'close', 'high', 'low',\n",
              "       'adjusted_close', 'quarter', 'week_of_year', 'year', 'day_of_week',\n",
              "       'lagged_open_avg_l7', 'lagged_open_avg_l14', 'lagged_open_avg_l60',\n",
              "       'lagged_open_avg_l90', 'lagged_open_avg_l120', 'lagged_close_avg_l7',\n",
              "       'lagged_close_avg_l14', 'lagged_close_avg_l60', 'lagged_close_avg_l90',\n",
              "       'lagged_close_avg_l120', 'lagged_high_avg_l7', 'lagged_high_avg_l14',\n",
              "       'lagged_high_avg_l60', 'lagged_high_avg_l90', 'lagged_high_avg_l120',\n",
              "       'lagged_low_avg_l7', 'lagged_low_avg_l14', 'lagged_low_avg_l60',\n",
              "       'lagged_low_avg_l90', 'lagged_low_avg_l120',\n",
              "       'lagged_adjusted_close_avg_l7', 'lagged_adjusted_close_avg_l14',\n",
              "       'lagged_adjusted_close_avg_l60', 'lagged_adjusted_close_avg_l90',\n",
              "       'lagged_adjusted_close_avg_l120', 'is_test'],\n",
              "      dtype='object')"
            ]
          },
          "metadata": {},
          "execution_count": 91
        }
      ],
      "source": [
        "nvda = nvda.toPandas()\n",
        "nvda.columns"
      ]
    },
    {
      "cell_type": "code",
      "execution_count": 92,
      "id": "ae6df9f0",
      "metadata": {
        "id": "ae6df9f0",
        "colab": {
          "base_uri": "https://localhost:8080/"
        },
        "outputId": "1b397057-337d-4989-a5cc-a29111b790ac"
      },
      "outputs": [
        {
          "output_type": "execute_result",
          "data": {
            "text/plain": [
              "29"
            ]
          },
          "metadata": {},
          "execution_count": 92
        }
      ],
      "source": [
        "predictor_features = ['quarter', 'week_of_year', 'year', 'day_of_week',\n",
        "                       'lagged_open_avg_l7', 'lagged_open_avg_l14', 'lagged_open_avg_l60',\n",
        "                       'lagged_open_avg_l90', 'lagged_open_avg_l120', 'lagged_high_avg_l7',\n",
        "                       'lagged_high_avg_l14', 'lagged_high_avg_l60', 'lagged_high_avg_l90',\n",
        "                       'lagged_high_avg_l120', 'lagged_low_avg_l7', 'lagged_low_avg_l14',\n",
        "                       'lagged_low_avg_l60', 'lagged_low_avg_l90', 'lagged_low_avg_l120',\n",
        "                       'lagged_close_avg_l7', 'lagged_close_avg_l14', 'lagged_close_avg_l60',\n",
        "                       'lagged_close_avg_l90', 'lagged_close_avg_l120',\n",
        "                       'lagged_adjusted_close_avg_l7', 'lagged_adjusted_close_avg_l14',\n",
        "                       'lagged_adjusted_close_avg_l60', 'lagged_adjusted_close_avg_l90',\n",
        "                       'lagged_adjusted_close_avg_l120']\n",
        "len(predictor_features)"
      ]
    },
    {
      "cell_type": "code",
      "source": [
        "from sklearn.preprocessing import MinMaxScaler\n",
        "\n",
        "# scale the arrays to keep the values between 0 and 1 to match outcomes found in sigmoid or step functions that are used for activation.\n",
        "minMaxScale = MinMaxScaler()\n",
        "all_features = predictor_features.copy()\n",
        "all_features.append('adjusted_close')\n",
        "\n",
        "minMaxScale.fit(nvda[nvda.is_test == 0][all_features])\n",
        "testingset = minMaxScale.transform(nvda[nvda.is_test == 1][all_features])\n",
        "trainingset = minMaxScale.transform(nvda[nvda.is_test == 0][all_features])"
      ],
      "metadata": {
        "id": "jj9b9vsjDbMP"
      },
      "id": "jj9b9vsjDbMP",
      "execution_count": 93,
      "outputs": []
    },
    {
      "cell_type": "code",
      "execution_count": 94,
      "id": "64cac98b",
      "metadata": {
        "id": "64cac98b",
        "colab": {
          "base_uri": "https://localhost:8080/"
        },
        "outputId": "10d49dbc-4488-406b-e8c0-17db5d3920f9"
      },
      "outputs": [
        {
          "output_type": "execute_result",
          "data": {
            "text/plain": [
              "29"
            ]
          },
          "metadata": {},
          "execution_count": 94
        }
      ],
      "source": [
        "# x_train, x_test = nvda[nvda.is_test == 0][predictor_features], nvda[nvda.is_test == 1][predictor_features]\n",
        "# y_train, y_test = nvda[nvda.is_test == 0]['adjusted_close'], nvda[nvda.is_test == 1]['adjusted_close']\n",
        "x_train, x_test = trainingset[:, 0:-1], testingset[:, 0:-1]\n",
        "y_train, y_test = trainingset[:, -1:], testingset[:, -1:]\n",
        "len(predictor_features)"
      ]
    },
    {
      "cell_type": "code",
      "execution_count": 95,
      "id": "44a05ea6",
      "metadata": {
        "id": "44a05ea6"
      },
      "outputs": [],
      "source": [
        "import numpy as np\n",
        "from keras import models, layers\n",
        "\n",
        "# Build a Sequential model\n",
        "model = models.Sequential()\n",
        "model.add(layers.LSTM(1, input_shape=(1,len(predictor_features)), return_sequences=True))\n",
        "model.add(layers.LSTM(1, input_shape=(1,len(predictor_features))))\n",
        "model.add(layers.Dense(1))\n",
        "model.compile(loss='mean_squared_error', optimizer='adam')"
      ]
    },
    {
      "cell_type": "code",
      "source": [
        "# Transform the testing and training data sets into three-dimensional arrays,  batch size, a number of time steps, and a number of features\n",
        "x_train = x_train.reshape((x_train.shape[0], 1, x_train.shape[1]))\n",
        "x_test = x_test.reshape((x_test.shape[0], 1, x_test.shape[1]))\n",
        "\n",
        "print('The shape of xtrain is {}: '.format(x_train.shape))\n",
        "print('The shape of xtest is {}: '.format(x_test.shape))"
      ],
      "metadata": {
        "colab": {
          "base_uri": "https://localhost:8080/"
        },
        "id": "YsCjGgdSEs1U",
        "outputId": "00a4987e-a142-49e8-8da3-172dfb7330cf"
      },
      "id": "YsCjGgdSEs1U",
      "execution_count": 96,
      "outputs": [
        {
          "output_type": "stream",
          "name": "stdout",
          "text": [
            "The shape of xtrain is (4875, 1, 29): \n",
            "The shape of xtest is (44, 1, 29): \n"
          ]
        }
      ]
    },
    {
      "cell_type": "code",
      "execution_count": 97,
      "id": "adbb29cf",
      "metadata": {
        "id": "adbb29cf",
        "colab": {
          "base_uri": "https://localhost:8080/"
        },
        "outputId": "6ce2718e-dbae-4649-8137-6807f3695d9f"
      },
      "outputs": [
        {
          "output_type": "stream",
          "name": "stdout",
          "text": [
            "Epoch 1/100\n",
            "488/488 [==============================] - 12s 8ms/step - loss: 0.0136\n",
            "Epoch 2/100\n",
            "488/488 [==============================] - 4s 8ms/step - loss: 0.0028\n",
            "Epoch 3/100\n",
            "488/488 [==============================] - 4s 8ms/step - loss: 0.0011\n",
            "Epoch 4/100\n",
            "488/488 [==============================] - 4s 8ms/step - loss: 7.8501e-04\n",
            "Epoch 5/100\n",
            "488/488 [==============================] - 4s 8ms/step - loss: 7.1536e-04\n",
            "Epoch 6/100\n",
            "488/488 [==============================] - 4s 7ms/step - loss: 6.6093e-04\n",
            "Epoch 7/100\n",
            "488/488 [==============================] - 4s 8ms/step - loss: 6.3753e-04\n",
            "Epoch 8/100\n",
            "488/488 [==============================] - 4s 8ms/step - loss: 6.0282e-04\n",
            "Epoch 9/100\n",
            "488/488 [==============================] - 4s 8ms/step - loss: 6.0079e-04\n",
            "Epoch 10/100\n",
            "488/488 [==============================] - 4s 7ms/step - loss: 5.7072e-04\n",
            "Epoch 11/100\n",
            "488/488 [==============================] - 3s 6ms/step - loss: 5.6222e-04\n",
            "Epoch 12/100\n",
            "488/488 [==============================] - 3s 6ms/step - loss: 5.5422e-04\n",
            "Epoch 13/100\n",
            "488/488 [==============================] - 3s 5ms/step - loss: 5.5768e-04\n",
            "Epoch 14/100\n",
            "488/488 [==============================] - 3s 6ms/step - loss: 5.5628e-04\n",
            "Epoch 15/100\n",
            "488/488 [==============================] - 3s 6ms/step - loss: 5.3912e-04\n",
            "Epoch 16/100\n",
            "488/488 [==============================] - 3s 6ms/step - loss: 5.4123e-04\n",
            "Epoch 17/100\n",
            "488/488 [==============================] - 3s 6ms/step - loss: 5.1818e-04\n",
            "Epoch 18/100\n",
            "488/488 [==============================] - 3s 6ms/step - loss: 5.2070e-04\n",
            "Epoch 19/100\n",
            "488/488 [==============================] - 3s 6ms/step - loss: 5.2282e-04\n",
            "Epoch 20/100\n",
            "488/488 [==============================] - 3s 6ms/step - loss: 5.1969e-04\n",
            "Epoch 21/100\n",
            "488/488 [==============================] - 3s 6ms/step - loss: 5.1906e-04\n",
            "Epoch 22/100\n",
            "488/488 [==============================] - 3s 6ms/step - loss: 5.1785e-04\n",
            "Epoch 23/100\n",
            "488/488 [==============================] - 3s 6ms/step - loss: 5.1145e-04\n",
            "Epoch 24/100\n",
            "488/488 [==============================] - 3s 6ms/step - loss: 5.0959e-04\n",
            "Epoch 25/100\n",
            "488/488 [==============================] - 3s 6ms/step - loss: 5.0578e-04\n",
            "Epoch 26/100\n",
            "488/488 [==============================] - 3s 6ms/step - loss: 5.0700e-04\n",
            "Epoch 27/100\n",
            "488/488 [==============================] - 3s 6ms/step - loss: 5.0352e-04\n",
            "Epoch 28/100\n",
            "488/488 [==============================] - 3s 7ms/step - loss: 5.0379e-04\n",
            "Epoch 29/100\n",
            "488/488 [==============================] - 3s 6ms/step - loss: 5.0592e-04\n",
            "Epoch 30/100\n",
            "488/488 [==============================] - 3s 6ms/step - loss: 4.9776e-04\n",
            "Epoch 31/100\n",
            "488/488 [==============================] - 3s 6ms/step - loss: 4.9843e-04\n",
            "Epoch 32/100\n",
            "488/488 [==============================] - 3s 6ms/step - loss: 5.0429e-04\n",
            "Epoch 33/100\n",
            "488/488 [==============================] - 3s 6ms/step - loss: 4.9859e-04\n",
            "Epoch 34/100\n",
            "488/488 [==============================] - 3s 6ms/step - loss: 5.0249e-04\n",
            "Epoch 35/100\n",
            "488/488 [==============================] - 3s 6ms/step - loss: 4.9628e-04\n",
            "Epoch 36/100\n",
            "488/488 [==============================] - 3s 6ms/step - loss: 4.9805e-04\n",
            "Epoch 37/100\n",
            "488/488 [==============================] - 3s 6ms/step - loss: 4.9369e-04\n",
            "Epoch 38/100\n",
            "488/488 [==============================] - 3s 6ms/step - loss: 4.9943e-04\n",
            "Epoch 39/100\n",
            "488/488 [==============================] - 3s 6ms/step - loss: 5.0122e-04\n",
            "Epoch 40/100\n",
            "488/488 [==============================] - 3s 6ms/step - loss: 4.8822e-04\n",
            "Epoch 41/100\n",
            "488/488 [==============================] - 3s 6ms/step - loss: 5.0002e-04\n",
            "Epoch 42/100\n",
            "488/488 [==============================] - 3s 6ms/step - loss: 4.9125e-04\n",
            "Epoch 43/100\n",
            "488/488 [==============================] - 4s 8ms/step - loss: 4.8391e-04\n",
            "Epoch 44/100\n",
            "488/488 [==============================] - 4s 8ms/step - loss: 4.9060e-04\n",
            "Epoch 45/100\n",
            "488/488 [==============================] - 4s 8ms/step - loss: 4.8378e-04\n",
            "Epoch 46/100\n",
            "488/488 [==============================] - 4s 9ms/step - loss: 4.8917e-04\n",
            "Epoch 47/100\n",
            "488/488 [==============================] - 3s 6ms/step - loss: 4.8590e-04\n",
            "Epoch 48/100\n",
            "488/488 [==============================] - 3s 6ms/step - loss: 4.8664e-04\n",
            "Epoch 49/100\n",
            "488/488 [==============================] - 3s 6ms/step - loss: 4.7778e-04\n",
            "Epoch 50/100\n",
            "488/488 [==============================] - 3s 6ms/step - loss: 4.7811e-04\n",
            "Epoch 51/100\n",
            "488/488 [==============================] - 3s 6ms/step - loss: 4.7672e-04\n",
            "Epoch 52/100\n",
            "488/488 [==============================] - 3s 6ms/step - loss: 4.7952e-04\n",
            "Epoch 53/100\n",
            "488/488 [==============================] - 3s 6ms/step - loss: 4.7184e-04\n",
            "Epoch 54/100\n",
            "488/488 [==============================] - 3s 6ms/step - loss: 4.7603e-04\n",
            "Epoch 55/100\n",
            "488/488 [==============================] - 3s 6ms/step - loss: 4.8068e-04\n",
            "Epoch 56/100\n",
            "488/488 [==============================] - 3s 6ms/step - loss: 4.7998e-04\n",
            "Epoch 57/100\n",
            "488/488 [==============================] - 3s 6ms/step - loss: 4.6538e-04\n",
            "Epoch 58/100\n",
            "488/488 [==============================] - 3s 6ms/step - loss: 4.8278e-04\n",
            "Epoch 59/100\n",
            "488/488 [==============================] - 3s 6ms/step - loss: 4.7259e-04\n",
            "Epoch 60/100\n",
            "488/488 [==============================] - 3s 6ms/step - loss: 4.7044e-04\n",
            "Epoch 61/100\n",
            "488/488 [==============================] - 3s 6ms/step - loss: 4.6497e-04\n",
            "Epoch 62/100\n",
            "488/488 [==============================] - 3s 6ms/step - loss: 4.6634e-04\n",
            "Epoch 63/100\n",
            "488/488 [==============================] - 3s 6ms/step - loss: 4.6624e-04\n",
            "Epoch 64/100\n",
            "488/488 [==============================] - 3s 7ms/step - loss: 4.6381e-04\n",
            "Epoch 65/100\n",
            "488/488 [==============================] - 3s 6ms/step - loss: 4.6898e-04\n",
            "Epoch 66/100\n",
            "488/488 [==============================] - 3s 6ms/step - loss: 4.6592e-04\n",
            "Epoch 67/100\n",
            "488/488 [==============================] - 3s 6ms/step - loss: 4.6452e-04\n",
            "Epoch 68/100\n",
            "488/488 [==============================] - 3s 6ms/step - loss: 4.6584e-04\n",
            "Epoch 69/100\n",
            "488/488 [==============================] - 3s 6ms/step - loss: 4.5794e-04\n",
            "Epoch 70/100\n",
            "488/488 [==============================] - 3s 6ms/step - loss: 4.6742e-04\n",
            "Epoch 71/100\n",
            "488/488 [==============================] - 3s 6ms/step - loss: 4.5707e-04\n",
            "Epoch 72/100\n",
            "488/488 [==============================] - 3s 6ms/step - loss: 4.4818e-04\n",
            "Epoch 73/100\n",
            "488/488 [==============================] - 3s 7ms/step - loss: 4.5937e-04\n",
            "Epoch 74/100\n",
            "488/488 [==============================] - 3s 6ms/step - loss: 4.5980e-04\n",
            "Epoch 75/100\n",
            "488/488 [==============================] - 3s 6ms/step - loss: 4.5164e-04\n",
            "Epoch 76/100\n",
            "488/488 [==============================] - 3s 6ms/step - loss: 4.5281e-04\n",
            "Epoch 77/100\n",
            "488/488 [==============================] - 3s 6ms/step - loss: 4.5079e-04\n",
            "Epoch 78/100\n",
            "488/488 [==============================] - 3s 6ms/step - loss: 4.6151e-04\n",
            "Epoch 79/100\n",
            "488/488 [==============================] - 3s 6ms/step - loss: 4.4847e-04\n",
            "Epoch 80/100\n",
            "488/488 [==============================] - 3s 6ms/step - loss: 4.5018e-04\n",
            "Epoch 81/100\n",
            "488/488 [==============================] - 3s 6ms/step - loss: 4.5185e-04\n",
            "Epoch 82/100\n",
            "488/488 [==============================] - 3s 6ms/step - loss: 4.4887e-04\n",
            "Epoch 83/100\n",
            "488/488 [==============================] - 3s 7ms/step - loss: 4.4845e-04\n",
            "Epoch 84/100\n",
            "488/488 [==============================] - 3s 6ms/step - loss: 4.4153e-04\n",
            "Epoch 85/100\n",
            "488/488 [==============================] - 3s 6ms/step - loss: 4.3733e-04\n",
            "Epoch 86/100\n",
            "488/488 [==============================] - 3s 6ms/step - loss: 4.3849e-04\n",
            "Epoch 87/100\n",
            "488/488 [==============================] - 3s 6ms/step - loss: 4.4224e-04\n",
            "Epoch 88/100\n",
            "488/488 [==============================] - 3s 6ms/step - loss: 4.3926e-04\n",
            "Epoch 89/100\n",
            "488/488 [==============================] - 3s 6ms/step - loss: 4.3577e-04\n",
            "Epoch 90/100\n",
            "488/488 [==============================] - 3s 6ms/step - loss: 4.4640e-04\n",
            "Epoch 91/100\n",
            "488/488 [==============================] - 3s 6ms/step - loss: 4.3695e-04\n",
            "Epoch 92/100\n",
            "488/488 [==============================] - 3s 6ms/step - loss: 4.4641e-04\n",
            "Epoch 93/100\n",
            "488/488 [==============================] - 3s 6ms/step - loss: 4.3200e-04\n",
            "Epoch 94/100\n",
            "488/488 [==============================] - 3s 6ms/step - loss: 4.3885e-04\n",
            "Epoch 95/100\n",
            "488/488 [==============================] - 3s 6ms/step - loss: 4.3488e-04\n",
            "Epoch 96/100\n",
            "488/488 [==============================] - 3s 6ms/step - loss: 4.3267e-04\n",
            "Epoch 97/100\n",
            "488/488 [==============================] - 3s 6ms/step - loss: 4.2602e-04\n",
            "Epoch 98/100\n",
            "488/488 [==============================] - 3s 6ms/step - loss: 4.3424e-04\n",
            "Epoch 99/100\n",
            "488/488 [==============================] - 3s 6ms/step - loss: 4.2730e-04\n",
            "Epoch 100/100\n",
            "488/488 [==============================] - 3s 6ms/step - loss: 4.2553e-04\n"
          ]
        }
      ],
      "source": [
        "# train the model\n",
        "loss = model.fit(x_train, y_train, batch_size=10, epochs=100)"
      ]
    },
    {
      "cell_type": "code",
      "source": [
        "# testing the model\n",
        "predict = model.predict(x_test)\n",
        "predict"
      ],
      "metadata": {
        "colab": {
          "base_uri": "https://localhost:8080/"
        },
        "id": "Y6ok5YeWEM_R",
        "outputId": "127a5bd0-1a74-4ea0-8864-0054d4f6f587"
      },
      "id": "Y6ok5YeWEM_R",
      "execution_count": 98,
      "outputs": [
        {
          "output_type": "execute_result",
          "data": {
            "text/plain": [
              "array([[0.92398834],\n",
              "       [0.924106  ],\n",
              "       [0.92419344],\n",
              "       [0.92425764],\n",
              "       [0.9254738 ],\n",
              "       [0.92573255],\n",
              "       [0.9260665 ],\n",
              "       [0.92633754],\n",
              "       [0.92672384],\n",
              "       [0.92799103],\n",
              "       [0.92840123],\n",
              "       [0.9290808 ],\n",
              "       [0.930076  ],\n",
              "       [0.93088764],\n",
              "       [0.9326061 ],\n",
              "       [0.9332924 ],\n",
              "       [0.9339502 ],\n",
              "       [0.93456376],\n",
              "       [0.9350663 ],\n",
              "       [0.93657255],\n",
              "       [0.9367794 ],\n",
              "       [0.9368866 ],\n",
              "       [0.936938  ],\n",
              "       [0.9370563 ],\n",
              "       [0.93804514],\n",
              "       [0.9379344 ],\n",
              "       [0.93772185],\n",
              "       [0.93748415],\n",
              "       [0.9372381 ],\n",
              "       [0.9378951 ],\n",
              "       [0.9375943 ],\n",
              "       [0.93733394],\n",
              "       [0.93702316],\n",
              "       [0.93672526],\n",
              "       [0.9375192 ],\n",
              "       [0.93752915],\n",
              "       [0.9376354 ],\n",
              "       [0.9377099 ],\n",
              "       [0.93779385],\n",
              "       [0.9387301 ],\n",
              "       [0.9387227 ],\n",
              "       [0.9388032 ],\n",
              "       [0.9387673 ],\n",
              "       [0.9385327 ]], dtype=float32)"
            ]
          },
          "metadata": {},
          "execution_count": 98
        }
      ]
    },
    {
      "cell_type": "code",
      "source": [
        "# convert testing values and prediction values back to original form, before calculating the RMSE\n",
        "ytest_to_inverse = nvda[nvda.is_test == 1]['adjusted_close']\n",
        "np.array(ytest_to_inverse)\n",
        "ytest_to_inverse=ytest_to_inverse[:,np.newaxis]\n",
        "minMaxScale.fit_transform(ytest_to_inverse)\n",
        "predict = minMaxScale.inverse_transform(predict)\n",
        "y_test = minMaxScale.inverse_transform(y_test)\n",
        "nvda[nvda.is_test == 1][\"adjusted_close\"]"
      ],
      "metadata": {
        "colab": {
          "base_uri": "https://localhost:8080/"
        },
        "id": "Qe2x_IiIlpKn",
        "outputId": "2317663f-86f3-4656-a002-db49ac032fd6"
      },
      "id": "Qe2x_IiIlpKn",
      "execution_count": 99,
      "outputs": [
        {
          "output_type": "stream",
          "name": "stderr",
          "text": [
            "/usr/local/lib/python3.7/dist-packages/ipykernel_launcher.py:4: FutureWarning: Support for multi-dimensional indexing (e.g. `obj[:, None]`) is deprecated and will be removed in a future version.  Convert to a numpy array before indexing instead.\n",
            "  after removing the cwd from sys.path.\n"
          ]
        },
        {
          "output_type": "execute_result",
          "data": {
            "text/plain": [
              "4875    283.700012\n",
              "4876    278.420013\n",
              "4877    272.720001\n",
              "4878    271.859985\n",
              "4879    274.730011\n",
              "4880    272.799988\n",
              "4881    268.200012\n",
              "4882    271.339996\n",
              "4883    276.429993\n",
              "4884    273.929993\n",
              "4885    271.019989\n",
              "4886    271.980011\n",
              "4887    266.279999\n",
              "4888    263.450012\n",
              "4889    265.700012\n",
              "4890    268.410004\n",
              "4891    266.920013\n",
              "4892    267.399994\n",
              "4893    281.019989\n",
              "4894    289.359985\n",
              "4895    286.480011\n",
              "4896    286.730011\n",
              "4897    279.290009\n",
              "4898    269.859985\n",
              "4899    265.769989\n",
              "4900    265.540009\n",
              "4901    245.690002\n",
              "4902    235.130005\n",
              "4903    246.539993\n",
              "4904    235.380005\n",
              "4905    245.830002\n",
              "4906    243.059998\n",
              "4907    239.529999\n",
              "4908    229.169998\n",
              "4909    231.220001\n",
              "4910    221.059998\n",
              "4911    199.410004\n",
              "4912    207.839996\n",
              "4913    198.289993\n",
              "4914    185.619995\n",
              "4915    203.000000\n",
              "4916    210.830002\n",
              "4917    218.110001\n",
              "4918    214.919998\n",
              "Name: adjusted_close, dtype: float32"
            ]
          },
          "metadata": {},
          "execution_count": 99
        }
      ]
    },
    {
      "cell_type": "code",
      "execution_count": 100,
      "id": "a1a7c3e4",
      "metadata": {
        "id": "a1a7c3e4",
        "outputId": "c0ed5cc2-5221-4298-d73d-b938edda3bc7",
        "colab": {
          "base_uri": "https://localhost:8080/"
        }
      },
      "outputs": [
        {
          "output_type": "stream",
          "name": "stdout",
          "text": [
            "8.800483591626222\n",
            "127.99313912772419\n",
            "11.313405284339645\n"
          ]
        }
      ],
      "source": [
        "print(metrics.mean_absolute_error(y_test, predict))\n",
        "print(metrics.mean_squared_error(y_test, predict))\n",
        "print(np.sqrt(metrics.mean_squared_error(y_test, predict)))\n",
        "# print(metrics.r2_score(y_test, predict))"
      ]
    },
    {
      "cell_type": "code",
      "execution_count": 350,
      "id": "e11ed8d6",
      "metadata": {
        "id": "e11ed8d6",
        "outputId": "e258fa69-1cf0-43b4-ea73-f345eda42e86",
        "colab": {
          "base_uri": "https://localhost:8080/"
        }
      },
      "outputs": [
        {
          "output_type": "execute_result",
          "data": {
            "text/plain": [
              "[([290.4816426733066], array([280.17618], dtype=float32)),\n",
              " ([288.520608574551], array([280.19687], dtype=float32)),\n",
              " ([286.4035781037977], array([280.21527], dtype=float32)),\n",
              " ([286.08416127903087], array([280.2542], dtype=float32)),\n",
              " ([287.1501119296535], array([280.36487], dtype=float32)),\n",
              " ([286.43328576135826], array([280.461], dtype=float32)),\n",
              " ([284.72481775700237], array([280.54813], dtype=float32)),\n",
              " ([285.89103316870114], array([280.6354], dtype=float32)),\n",
              " ([287.7814988294667], array([280.7179], dtype=float32)),\n",
              " ([286.8529786816757], array([280.81064], dtype=float32)),\n",
              " ([285.77217986951007], array([280.89563], dtype=float32)),\n",
              " ([286.1287397670834], array([281.00998], dtype=float32)),\n",
              " ([284.0117092963301], array([281.18445], dtype=float32)),\n",
              " ([282.9606294761995], array([281.33725], dtype=float32)),\n",
              " ([283.79629760921136], array([281.51], dtype=float32)),\n",
              " ([284.802810275764], array([281.64792], dtype=float32)),\n",
              " ([284.24941589471234], array([281.78003], dtype=float32)),\n",
              " ([284.4276845090246], array([281.9001], dtype=float32)),\n",
              " ([289.4862604606741], array([281.9804], dtype=float32)),\n",
              " ([292.58380231356796], array([281.98334], dtype=float32)),\n",
              " ([291.51415662427127], array([281.97147], dtype=float32)),\n",
              " ([291.6070086390504], array([281.92084], dtype=float32)),\n",
              " ([288.84373177246636], array([281.8677], dtype=float32)),\n",
              " ([285.3413451607981], array([281.83322], dtype=float32)),\n",
              " ([283.82228755914895], array([281.78702], dtype=float32)),\n",
              " ([283.7368709596158], array([281.741], dtype=float32)),\n",
              " ([276.36441871926036], array([281.72287], dtype=float32)),\n",
              " ([272.44235052174906], array([281.71323], dtype=float32)),\n",
              " ([276.68011216916693], array([281.72855], dtype=float32)),\n",
              " ([272.5352025365282], array([281.7515], dtype=float32)),\n",
              " ([276.41641562084715], array([281.75537], dtype=float32)),\n",
              " ([275.3876137102683], array([281.77133], dtype=float32)),\n",
              " ([274.0765437149663], array([281.79132], dtype=float32)),\n",
              " ([270.2287559958309], array([281.7899], dtype=float32)),\n",
              " ([270.99014365046696], array([281.8035], dtype=float32)),\n",
              " ([267.2166364097074], array([281.83115], dtype=float32)),\n",
              " ([259.1756541967322], array([281.87155], dtype=float32)),\n",
              " ([262.30662141480957], array([281.92242], dtype=float32)),\n",
              " ([258.7596733168005], array([281.9614], dtype=float32)),\n",
              " ([254.05393388786413], array([281.97824], dtype=float32)),\n",
              " ([260.50900776882315], array([281.9985], dtype=float32)),\n",
              " ([263.417133551773], array([282.02798], dtype=float32)),\n",
              " ([266.12098376876145], array([282.0409], dtype=float32)),\n",
              " ([264.93619115342216], array([282.0076], dtype=float32))]"
            ]
          },
          "metadata": {},
          "execution_count": 350
        }
      ],
      "source": [
        "[(y_test.tolist()[i], predict[i]) for i in range(len(y_test))]"
      ]
    },
    {
      "cell_type": "code",
      "source": [
        "from matplotlib import pyplot as plt\n",
        "# Combine the predicted and ytest arrays into a single unified array\n",
        "combined_array = np.concatenate((y_test, predict), axis = 1)\n",
        "# plot a side by side comparison of Actual versus Predicted stock to compare trends\n",
        "plt.figure(figsize=(16,6))\n",
        "plt.plot(combined_array[:,0],color='red', label='actual')\n",
        "plt.plot(combined_array[:,1],color='blue', label='predicted')\n",
        "plt.legend(loc = 'lower right')\n",
        "plt.title('Actual vs. Predicted ' + \"NVDA\" + ' Stock')\n",
        "plt.xlabel('Days')\n",
        "plt.ylabel('Scaled Quotes')\n",
        "plt.show()"
      ],
      "metadata": {
        "colab": {
          "base_uri": "https://localhost:8080/",
          "height": 404
        },
        "id": "0chVrHICygX3",
        "outputId": "1ae7d14c-1857-45b5-e939-816df9f778a4"
      },
      "id": "0chVrHICygX3",
      "execution_count": 101,
      "outputs": [
        {
          "output_type": "display_data",
          "data": {
            "text/plain": [
              "<Figure size 1152x432 with 1 Axes>"
            ],
            "image/png": "[encoded data removed]"
          },
          "metadata": {
            "needs_background": "light"
          }
        }
      ]
    },
    {
      "cell_type": "code",
      "execution_count": null,
      "id": "31cd24fc",
      "metadata": {
        "id": "31cd24fc"
      },
      "outputs": [],
      "source": [
        "# look at feature importance after all the features are engineered"
      ]
    }
  ],
  "metadata": {
    "kernelspec": {
      "display_name": "Python 3 (ipykernel)",
      "language": "python",
      "name": "python3"
    },
    "language_info": {
      "codemirror_mode": {
        "name": "ipython",
        "version": 3
      },
      "file_extension": ".py",
      "mimetype": "text/x-python",
      "name": "python",
      "nbconvert_exporter": "python",
      "pygments_lexer": "ipython3",
      "version": "3.8.13"
    },
    "colab": {
      "name": "lagged_feature_engineering_LSTM.ipynb",
      "provenance": [],
      "include_colab_link": true
    },
    "accelerator": "GPU"
  },
  "nbformat": 4,
  "nbformat_minor": 5
}